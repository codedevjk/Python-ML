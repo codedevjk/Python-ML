{
  "nbformat": 4,
  "nbformat_minor": 0,
  "metadata": {
    "colab": {
      "provenance": [],
      "authorship_tag": "ABX9TyP5H5SNjvJQ5PRaGE/DccYz",
      "include_colab_link": true
    },
    "kernelspec": {
      "name": "python3",
      "display_name": "Python 3"
    },
    "language_info": {
      "name": "python"
    }
  },
  "cells": [
    {
      "cell_type": "markdown",
      "metadata": {
        "id": "view-in-github",
        "colab_type": "text"
      },
      "source": [
        "<a href=\"https://colab.research.google.com/github/codedevjk/Python-ML/blob/main/Movie%20Recommendation%20.ipynb\" target=\"_parent\"><img src=\"https://colab.research.google.com/assets/colab-badge.svg\" alt=\"Open In Colab\"/></a>"
      ]
    },
    {
      "cell_type": "markdown",
      "source": [
        "Project on Movie Recommendation System"
      ],
      "metadata": {
        "id": "9Jv4oPO7tN2u"
      }
    },
    {
      "cell_type": "markdown",
      "source": [
        "# **Import Library**"
      ],
      "metadata": {
        "id": "vcv_J8vOtYMt"
      }
    },
    {
      "cell_type": "code",
      "source": [
        "import pandas as pd\n",
        "import numpy as np"
      ],
      "metadata": {
        "id": "NuqgvA62tUBl"
      },
      "execution_count": null,
      "outputs": []
    },
    {
      "cell_type": "markdown",
      "source": [
        "# **Import Dataset**"
      ],
      "metadata": {
        "id": "BQi09c0gtoDu"
      }
    },
    {
      "cell_type": "code",
      "source": [
        "df=pd.read_csv('https://raw.githubusercontent.com/YBI-Foundation/Dataset/main/Movies%20Recommendation.csv')"
      ],
      "metadata": {
        "id": "VpDmHnontq82"
      },
      "execution_count": null,
      "outputs": []
    },
    {
      "cell_type": "code",
      "source": [
        "df.head()"
      ],
      "metadata": {
        "colab": {
          "base_uri": "https://localhost:8080/",
          "height": 716
        },
        "id": "bxd27Mj_uElL",
        "outputId": "dbb110c0-bb50-4a3d-9c0d-51b7de362b09"
      },
      "execution_count": null,
      "outputs": [
        {
          "output_type": "execute_result",
          "data": {
            "text/plain": [
              "   Movie_ID      Movie_Title                       Movie_Genre Movie_Language  \\\n",
              "0         1       Four Rooms                      Crime Comedy             en   \n",
              "1         2        Star Wars  Adventure Action Science Fiction             en   \n",
              "2         3     Finding Nemo                  Animation Family             en   \n",
              "3         4     Forrest Gump              Comedy Drama Romance             en   \n",
              "4         5  American Beauty                             Drama             en   \n",
              "\n",
              "   Movie_Budget  Movie_Popularity Movie_Release_Date  Movie_Revenue  \\\n",
              "0       4000000         22.876230         09-12-1995        4300000   \n",
              "1      11000000        126.393695         25-05-1977      775398007   \n",
              "2      94000000         85.688789         30-05-2003      940335536   \n",
              "3      55000000        138.133331         06-07-1994      677945399   \n",
              "4      15000000         80.878605         15-09-1999      356296601   \n",
              "\n",
              "   Movie_Runtime  Movie_Vote  ...  \\\n",
              "0           98.0         6.5  ...   \n",
              "1          121.0         8.1  ...   \n",
              "2          100.0         7.6  ...   \n",
              "3          142.0         8.2  ...   \n",
              "4          122.0         7.9  ...   \n",
              "\n",
              "                                      Movie_Homepage  \\\n",
              "0                                                NaN   \n",
              "1  http://www.starwars.com/films/star-wars-episod...   \n",
              "2              http://movies.disney.com/finding-nemo   \n",
              "3                                                NaN   \n",
              "4                      http://www.dreamworks.com/ab/   \n",
              "\n",
              "                                      Movie_Keywords  \\\n",
              "0          hotel new year's eve witch bet hotel room   \n",
              "1        android galaxy hermit death star lightsaber   \n",
              "2  father son relationship harbor underwater fish...   \n",
              "3  vietnam veteran hippie mentally disabled runni...   \n",
              "4  male nudity female nudity adultery midlife cri...   \n",
              "\n",
              "                                      Movie_Overview  \\\n",
              "0  It's Ted the Bellhop's first night on the job....   \n",
              "1  Princess Leia is captured and held hostage by ...   \n",
              "2  Nemo, an adventurous young clownfish, is unexp...   \n",
              "3  A man with a low IQ has accomplished great thi...   \n",
              "4  Lester Burnham, a depressed suburban father in...   \n",
              "\n",
              "                              Movie_Production_House  \\\n",
              "0  [{\"name\": \"Miramax Films\", \"id\": 14}, {\"name\":...   \n",
              "1  [{\"name\": \"Lucasfilm\", \"id\": 1}, {\"name\": \"Twe...   \n",
              "2     [{\"name\": \"Pixar Animation Studios\", \"id\": 3}]   \n",
              "3          [{\"name\": \"Paramount Pictures\", \"id\": 4}]   \n",
              "4  [{\"name\": \"DreamWorks SKG\", \"id\": 27}, {\"name\"...   \n",
              "\n",
              "                            Movie_Production_Country  \\\n",
              "0  [{\"iso_3166_1\": \"US\", \"name\": \"United States o...   \n",
              "1  [{\"iso_3166_1\": \"US\", \"name\": \"United States o...   \n",
              "2  [{\"iso_3166_1\": \"US\", \"name\": \"United States o...   \n",
              "3  [{\"iso_3166_1\": \"US\", \"name\": \"United States o...   \n",
              "4  [{\"iso_3166_1\": \"US\", \"name\": \"United States o...   \n",
              "\n",
              "                      Movie_Spoken_Language  \\\n",
              "0  [{\"iso_639_1\": \"en\", \"name\": \"English\"}]   \n",
              "1  [{\"iso_639_1\": \"en\", \"name\": \"English\"}]   \n",
              "2  [{\"iso_639_1\": \"en\", \"name\": \"English\"}]   \n",
              "3  [{\"iso_639_1\": \"en\", \"name\": \"English\"}]   \n",
              "4  [{\"iso_639_1\": \"en\", \"name\": \"English\"}]   \n",
              "\n",
              "                                       Movie_Tagline  \\\n",
              "0  Twelve outrageous guests. Four scandalous requ...   \n",
              "1       A long time ago in a galaxy far, far away...   \n",
              "2  There are 3.7 trillion fish in the ocean, they...   \n",
              "3  The world will never be the same, once you've ...   \n",
              "4                                       Look closer.   \n",
              "\n",
              "                                          Movie_Cast  \\\n",
              "0  Tim Roth Antonio Banderas Jennifer Beals Madon...   \n",
              "1  Mark Hamill Harrison Ford Carrie Fisher Peter ...   \n",
              "2  Albert Brooks Ellen DeGeneres Alexander Gould ...   \n",
              "3  Tom Hanks Robin Wright Gary Sinise Mykelti Wil...   \n",
              "4  Kevin Spacey Annette Bening Thora Birch Wes Be...   \n",
              "\n",
              "                                          Movie_Crew   Movie_Director  \n",
              "0  [{'name': 'Allison Anders', 'gender': 1, 'depa...   Allison Anders  \n",
              "1  [{'name': 'George Lucas', 'gender': 2, 'depart...     George Lucas  \n",
              "2  [{'name': 'Andrew Stanton', 'gender': 2, 'depa...   Andrew Stanton  \n",
              "3  [{'name': 'Alan Silvestri', 'gender': 2, 'depa...  Robert Zemeckis  \n",
              "4  [{'name': 'Thomas Newman', 'gender': 2, 'depar...       Sam Mendes  \n",
              "\n",
              "[5 rows x 21 columns]"
            ],
            "text/html": [
              "\n",
              "  <div id=\"df-6a5c72b9-a3fd-431f-94bf-18f0da6fd88c\">\n",
              "    <div class=\"colab-df-container\">\n",
              "      <div>\n",
              "<style scoped>\n",
              "    .dataframe tbody tr th:only-of-type {\n",
              "        vertical-align: middle;\n",
              "    }\n",
              "\n",
              "    .dataframe tbody tr th {\n",
              "        vertical-align: top;\n",
              "    }\n",
              "\n",
              "    .dataframe thead th {\n",
              "        text-align: right;\n",
              "    }\n",
              "</style>\n",
              "<table border=\"1\" class=\"dataframe\">\n",
              "  <thead>\n",
              "    <tr style=\"text-align: right;\">\n",
              "      <th></th>\n",
              "      <th>Movie_ID</th>\n",
              "      <th>Movie_Title</th>\n",
              "      <th>Movie_Genre</th>\n",
              "      <th>Movie_Language</th>\n",
              "      <th>Movie_Budget</th>\n",
              "      <th>Movie_Popularity</th>\n",
              "      <th>Movie_Release_Date</th>\n",
              "      <th>Movie_Revenue</th>\n",
              "      <th>Movie_Runtime</th>\n",
              "      <th>Movie_Vote</th>\n",
              "      <th>...</th>\n",
              "      <th>Movie_Homepage</th>\n",
              "      <th>Movie_Keywords</th>\n",
              "      <th>Movie_Overview</th>\n",
              "      <th>Movie_Production_House</th>\n",
              "      <th>Movie_Production_Country</th>\n",
              "      <th>Movie_Spoken_Language</th>\n",
              "      <th>Movie_Tagline</th>\n",
              "      <th>Movie_Cast</th>\n",
              "      <th>Movie_Crew</th>\n",
              "      <th>Movie_Director</th>\n",
              "    </tr>\n",
              "  </thead>\n",
              "  <tbody>\n",
              "    <tr>\n",
              "      <th>0</th>\n",
              "      <td>1</td>\n",
              "      <td>Four Rooms</td>\n",
              "      <td>Crime Comedy</td>\n",
              "      <td>en</td>\n",
              "      <td>4000000</td>\n",
              "      <td>22.876230</td>\n",
              "      <td>09-12-1995</td>\n",
              "      <td>4300000</td>\n",
              "      <td>98.0</td>\n",
              "      <td>6.5</td>\n",
              "      <td>...</td>\n",
              "      <td>NaN</td>\n",
              "      <td>hotel new year's eve witch bet hotel room</td>\n",
              "      <td>It's Ted the Bellhop's first night on the job....</td>\n",
              "      <td>[{\"name\": \"Miramax Films\", \"id\": 14}, {\"name\":...</td>\n",
              "      <td>[{\"iso_3166_1\": \"US\", \"name\": \"United States o...</td>\n",
              "      <td>[{\"iso_639_1\": \"en\", \"name\": \"English\"}]</td>\n",
              "      <td>Twelve outrageous guests. Four scandalous requ...</td>\n",
              "      <td>Tim Roth Antonio Banderas Jennifer Beals Madon...</td>\n",
              "      <td>[{'name': 'Allison Anders', 'gender': 1, 'depa...</td>\n",
              "      <td>Allison Anders</td>\n",
              "    </tr>\n",
              "    <tr>\n",
              "      <th>1</th>\n",
              "      <td>2</td>\n",
              "      <td>Star Wars</td>\n",
              "      <td>Adventure Action Science Fiction</td>\n",
              "      <td>en</td>\n",
              "      <td>11000000</td>\n",
              "      <td>126.393695</td>\n",
              "      <td>25-05-1977</td>\n",
              "      <td>775398007</td>\n",
              "      <td>121.0</td>\n",
              "      <td>8.1</td>\n",
              "      <td>...</td>\n",
              "      <td>http://www.starwars.com/films/star-wars-episod...</td>\n",
              "      <td>android galaxy hermit death star lightsaber</td>\n",
              "      <td>Princess Leia is captured and held hostage by ...</td>\n",
              "      <td>[{\"name\": \"Lucasfilm\", \"id\": 1}, {\"name\": \"Twe...</td>\n",
              "      <td>[{\"iso_3166_1\": \"US\", \"name\": \"United States o...</td>\n",
              "      <td>[{\"iso_639_1\": \"en\", \"name\": \"English\"}]</td>\n",
              "      <td>A long time ago in a galaxy far, far away...</td>\n",
              "      <td>Mark Hamill Harrison Ford Carrie Fisher Peter ...</td>\n",
              "      <td>[{'name': 'George Lucas', 'gender': 2, 'depart...</td>\n",
              "      <td>George Lucas</td>\n",
              "    </tr>\n",
              "    <tr>\n",
              "      <th>2</th>\n",
              "      <td>3</td>\n",
              "      <td>Finding Nemo</td>\n",
              "      <td>Animation Family</td>\n",
              "      <td>en</td>\n",
              "      <td>94000000</td>\n",
              "      <td>85.688789</td>\n",
              "      <td>30-05-2003</td>\n",
              "      <td>940335536</td>\n",
              "      <td>100.0</td>\n",
              "      <td>7.6</td>\n",
              "      <td>...</td>\n",
              "      <td>http://movies.disney.com/finding-nemo</td>\n",
              "      <td>father son relationship harbor underwater fish...</td>\n",
              "      <td>Nemo, an adventurous young clownfish, is unexp...</td>\n",
              "      <td>[{\"name\": \"Pixar Animation Studios\", \"id\": 3}]</td>\n",
              "      <td>[{\"iso_3166_1\": \"US\", \"name\": \"United States o...</td>\n",
              "      <td>[{\"iso_639_1\": \"en\", \"name\": \"English\"}]</td>\n",
              "      <td>There are 3.7 trillion fish in the ocean, they...</td>\n",
              "      <td>Albert Brooks Ellen DeGeneres Alexander Gould ...</td>\n",
              "      <td>[{'name': 'Andrew Stanton', 'gender': 2, 'depa...</td>\n",
              "      <td>Andrew Stanton</td>\n",
              "    </tr>\n",
              "    <tr>\n",
              "      <th>3</th>\n",
              "      <td>4</td>\n",
              "      <td>Forrest Gump</td>\n",
              "      <td>Comedy Drama Romance</td>\n",
              "      <td>en</td>\n",
              "      <td>55000000</td>\n",
              "      <td>138.133331</td>\n",
              "      <td>06-07-1994</td>\n",
              "      <td>677945399</td>\n",
              "      <td>142.0</td>\n",
              "      <td>8.2</td>\n",
              "      <td>...</td>\n",
              "      <td>NaN</td>\n",
              "      <td>vietnam veteran hippie mentally disabled runni...</td>\n",
              "      <td>A man with a low IQ has accomplished great thi...</td>\n",
              "      <td>[{\"name\": \"Paramount Pictures\", \"id\": 4}]</td>\n",
              "      <td>[{\"iso_3166_1\": \"US\", \"name\": \"United States o...</td>\n",
              "      <td>[{\"iso_639_1\": \"en\", \"name\": \"English\"}]</td>\n",
              "      <td>The world will never be the same, once you've ...</td>\n",
              "      <td>Tom Hanks Robin Wright Gary Sinise Mykelti Wil...</td>\n",
              "      <td>[{'name': 'Alan Silvestri', 'gender': 2, 'depa...</td>\n",
              "      <td>Robert Zemeckis</td>\n",
              "    </tr>\n",
              "    <tr>\n",
              "      <th>4</th>\n",
              "      <td>5</td>\n",
              "      <td>American Beauty</td>\n",
              "      <td>Drama</td>\n",
              "      <td>en</td>\n",
              "      <td>15000000</td>\n",
              "      <td>80.878605</td>\n",
              "      <td>15-09-1999</td>\n",
              "      <td>356296601</td>\n",
              "      <td>122.0</td>\n",
              "      <td>7.9</td>\n",
              "      <td>...</td>\n",
              "      <td>http://www.dreamworks.com/ab/</td>\n",
              "      <td>male nudity female nudity adultery midlife cri...</td>\n",
              "      <td>Lester Burnham, a depressed suburban father in...</td>\n",
              "      <td>[{\"name\": \"DreamWorks SKG\", \"id\": 27}, {\"name\"...</td>\n",
              "      <td>[{\"iso_3166_1\": \"US\", \"name\": \"United States o...</td>\n",
              "      <td>[{\"iso_639_1\": \"en\", \"name\": \"English\"}]</td>\n",
              "      <td>Look closer.</td>\n",
              "      <td>Kevin Spacey Annette Bening Thora Birch Wes Be...</td>\n",
              "      <td>[{'name': 'Thomas Newman', 'gender': 2, 'depar...</td>\n",
              "      <td>Sam Mendes</td>\n",
              "    </tr>\n",
              "  </tbody>\n",
              "</table>\n",
              "<p>5 rows × 21 columns</p>\n",
              "</div>\n",
              "      <button class=\"colab-df-convert\" onclick=\"convertToInteractive('df-6a5c72b9-a3fd-431f-94bf-18f0da6fd88c')\"\n",
              "              title=\"Convert this dataframe to an interactive table.\"\n",
              "              style=\"display:none;\">\n",
              "        \n",
              "  <svg xmlns=\"http://www.w3.org/2000/svg\" height=\"24px\"viewBox=\"0 0 24 24\"\n",
              "       width=\"24px\">\n",
              "    <path d=\"M0 0h24v24H0V0z\" fill=\"none\"/>\n",
              "    <path d=\"M18.56 5.44l.94 2.06.94-2.06 2.06-.94-2.06-.94-.94-2.06-.94 2.06-2.06.94zm-11 1L8.5 8.5l.94-2.06 2.06-.94-2.06-.94L8.5 2.5l-.94 2.06-2.06.94zm10 10l.94 2.06.94-2.06 2.06-.94-2.06-.94-.94-2.06-.94 2.06-2.06.94z\"/><path d=\"M17.41 7.96l-1.37-1.37c-.4-.4-.92-.59-1.43-.59-.52 0-1.04.2-1.43.59L10.3 9.45l-7.72 7.72c-.78.78-.78 2.05 0 2.83L4 21.41c.39.39.9.59 1.41.59.51 0 1.02-.2 1.41-.59l7.78-7.78 2.81-2.81c.8-.78.8-2.07 0-2.86zM5.41 20L4 18.59l7.72-7.72 1.47 1.35L5.41 20z\"/>\n",
              "  </svg>\n",
              "      </button>\n",
              "      \n",
              "  <style>\n",
              "    .colab-df-container {\n",
              "      display:flex;\n",
              "      flex-wrap:wrap;\n",
              "      gap: 12px;\n",
              "    }\n",
              "\n",
              "    .colab-df-convert {\n",
              "      background-color: #E8F0FE;\n",
              "      border: none;\n",
              "      border-radius: 50%;\n",
              "      cursor: pointer;\n",
              "      display: none;\n",
              "      fill: #1967D2;\n",
              "      height: 32px;\n",
              "      padding: 0 0 0 0;\n",
              "      width: 32px;\n",
              "    }\n",
              "\n",
              "    .colab-df-convert:hover {\n",
              "      background-color: #E2EBFA;\n",
              "      box-shadow: 0px 1px 2px rgba(60, 64, 67, 0.3), 0px 1px 3px 1px rgba(60, 64, 67, 0.15);\n",
              "      fill: #174EA6;\n",
              "    }\n",
              "\n",
              "    [theme=dark] .colab-df-convert {\n",
              "      background-color: #3B4455;\n",
              "      fill: #D2E3FC;\n",
              "    }\n",
              "\n",
              "    [theme=dark] .colab-df-convert:hover {\n",
              "      background-color: #434B5C;\n",
              "      box-shadow: 0px 1px 3px 1px rgba(0, 0, 0, 0.15);\n",
              "      filter: drop-shadow(0px 1px 2px rgba(0, 0, 0, 0.3));\n",
              "      fill: #FFFFFF;\n",
              "    }\n",
              "  </style>\n",
              "\n",
              "      <script>\n",
              "        const buttonEl =\n",
              "          document.querySelector('#df-6a5c72b9-a3fd-431f-94bf-18f0da6fd88c button.colab-df-convert');\n",
              "        buttonEl.style.display =\n",
              "          google.colab.kernel.accessAllowed ? 'block' : 'none';\n",
              "\n",
              "        async function convertToInteractive(key) {\n",
              "          const element = document.querySelector('#df-6a5c72b9-a3fd-431f-94bf-18f0da6fd88c');\n",
              "          const dataTable =\n",
              "            await google.colab.kernel.invokeFunction('convertToInteractive',\n",
              "                                                     [key], {});\n",
              "          if (!dataTable) return;\n",
              "\n",
              "          const docLinkHtml = 'Like what you see? Visit the ' +\n",
              "            '<a target=\"_blank\" href=https://colab.research.google.com/notebooks/data_table.ipynb>data table notebook</a>'\n",
              "            + ' to learn more about interactive tables.';\n",
              "          element.innerHTML = '';\n",
              "          dataTable['output_type'] = 'display_data';\n",
              "          await google.colab.output.renderOutput(dataTable, element);\n",
              "          const docLink = document.createElement('div');\n",
              "          docLink.innerHTML = docLinkHtml;\n",
              "          element.appendChild(docLink);\n",
              "        }\n",
              "      </script>\n",
              "    </div>\n",
              "  </div>\n",
              "  "
            ]
          },
          "metadata": {},
          "execution_count": 3
        }
      ]
    },
    {
      "cell_type": "code",
      "source": [
        "df.info()"
      ],
      "metadata": {
        "colab": {
          "base_uri": "https://localhost:8080/"
        },
        "id": "HplI6cWuuZ6u",
        "outputId": "5b407985-d986-46ba-bd31-7d5f7d1caac7"
      },
      "execution_count": null,
      "outputs": [
        {
          "output_type": "stream",
          "name": "stdout",
          "text": [
            "<class 'pandas.core.frame.DataFrame'>\n",
            "RangeIndex: 4760 entries, 0 to 4759\n",
            "Data columns (total 21 columns):\n",
            " #   Column                    Non-Null Count  Dtype  \n",
            "---  ------                    --------------  -----  \n",
            " 0   Movie_ID                  4760 non-null   int64  \n",
            " 1   Movie_Title               4760 non-null   object \n",
            " 2   Movie_Genre               4760 non-null   object \n",
            " 3   Movie_Language            4760 non-null   object \n",
            " 4   Movie_Budget              4760 non-null   int64  \n",
            " 5   Movie_Popularity          4760 non-null   float64\n",
            " 6   Movie_Release_Date        4760 non-null   object \n",
            " 7   Movie_Revenue             4760 non-null   int64  \n",
            " 8   Movie_Runtime             4758 non-null   float64\n",
            " 9   Movie_Vote                4760 non-null   float64\n",
            " 10  Movie_Vote_Count          4760 non-null   int64  \n",
            " 11  Movie_Homepage            1699 non-null   object \n",
            " 12  Movie_Keywords            4373 non-null   object \n",
            " 13  Movie_Overview            4757 non-null   object \n",
            " 14  Movie_Production_House    4760 non-null   object \n",
            " 15  Movie_Production_Country  4760 non-null   object \n",
            " 16  Movie_Spoken_Language     4760 non-null   object \n",
            " 17  Movie_Tagline             3942 non-null   object \n",
            " 18  Movie_Cast                4733 non-null   object \n",
            " 19  Movie_Crew                4760 non-null   object \n",
            " 20  Movie_Director            4738 non-null   object \n",
            "dtypes: float64(3), int64(4), object(14)\n",
            "memory usage: 781.1+ KB\n"
          ]
        }
      ]
    },
    {
      "cell_type": "code",
      "source": [
        "df.shape"
      ],
      "metadata": {
        "colab": {
          "base_uri": "https://localhost:8080/"
        },
        "id": "xYpZnFuIudPr",
        "outputId": "36376623-d5ff-408c-8051-a85cd4235d70"
      },
      "execution_count": null,
      "outputs": [
        {
          "output_type": "execute_result",
          "data": {
            "text/plain": [
              "(4760, 21)"
            ]
          },
          "metadata": {},
          "execution_count": 6
        }
      ]
    },
    {
      "cell_type": "code",
      "source": [
        "df.columns"
      ],
      "metadata": {
        "colab": {
          "base_uri": "https://localhost:8080/"
        },
        "id": "amDymE3juj2U",
        "outputId": "f30706c5-a614-443b-f224-ee2d1a624398"
      },
      "execution_count": null,
      "outputs": [
        {
          "output_type": "execute_result",
          "data": {
            "text/plain": [
              "Index(['Movie_ID', 'Movie_Title', 'Movie_Genre', 'Movie_Language',\n",
              "       'Movie_Budget', 'Movie_Popularity', 'Movie_Release_Date',\n",
              "       'Movie_Revenue', 'Movie_Runtime', 'Movie_Vote', 'Movie_Vote_Count',\n",
              "       'Movie_Homepage', 'Movie_Keywords', 'Movie_Overview',\n",
              "       'Movie_Production_House', 'Movie_Production_Country',\n",
              "       'Movie_Spoken_Language', 'Movie_Tagline', 'Movie_Cast', 'Movie_Crew',\n",
              "       'Movie_Director'],\n",
              "      dtype='object')"
            ]
          },
          "metadata": {},
          "execution_count": 7
        }
      ]
    },
    {
      "cell_type": "markdown",
      "source": [
        "# **Get Feature Selection**"
      ],
      "metadata": {
        "id": "ewBXofzrun3U"
      }
    },
    {
      "cell_type": "code",
      "source": [
        "df_features=df[['Movie_Title','Movie_Language','Movie_Tagline','Movie_Cast'\t,'Movie_Director']].fillna('')"
      ],
      "metadata": {
        "id": "MgDb6OTwunhw"
      },
      "execution_count": null,
      "outputs": []
    },
    {
      "cell_type": "code",
      "source": [
        "df_features.shape"
      ],
      "metadata": {
        "colab": {
          "base_uri": "https://localhost:8080/"
        },
        "id": "UAHZ2GIGvrxu",
        "outputId": "42420dc1-9af4-424a-9d73-5e05ef9deeac"
      },
      "execution_count": null,
      "outputs": [
        {
          "output_type": "execute_result",
          "data": {
            "text/plain": [
              "(4760, 5)"
            ]
          },
          "metadata": {},
          "execution_count": 12
        }
      ]
    },
    {
      "cell_type": "code",
      "source": [
        "df_features"
      ],
      "metadata": {
        "colab": {
          "base_uri": "https://localhost:8080/",
          "height": 424
        },
        "id": "ORgaEkluvwM0",
        "outputId": "5a25e869-f64a-4953-cc85-eb9fc317ac44"
      },
      "execution_count": null,
      "outputs": [
        {
          "output_type": "execute_result",
          "data": {
            "text/plain": [
              "                      Movie_Title Movie_Language  \\\n",
              "0                      Four Rooms             en   \n",
              "1                       Star Wars             en   \n",
              "2                    Finding Nemo             en   \n",
              "3                    Forrest Gump             en   \n",
              "4                 American Beauty             en   \n",
              "...                           ...            ...   \n",
              "4755             Midnight Cabaret             en   \n",
              "4756             Growing Up Smith             en   \n",
              "4757                       8 Days             en   \n",
              "4758              Running Forever             en   \n",
              "4759  To Be Frank, Sinatra at 100             en   \n",
              "\n",
              "                                          Movie_Tagline  \\\n",
              "0     Twelve outrageous guests. Four scandalous requ...   \n",
              "1          A long time ago in a galaxy far, far away...   \n",
              "2     There are 3.7 trillion fish in the ocean, they...   \n",
              "3     The world will never be the same, once you've ...   \n",
              "4                                          Look closer.   \n",
              "...                                                 ...   \n",
              "4755                The hot spot where Satan's waitin'.   \n",
              "4756           It’s better to stand out than to fit in.   \n",
              "4757           She never knew it could happen to her...   \n",
              "4758                                                      \n",
              "4759                                                      \n",
              "\n",
              "                                             Movie_Cast     Movie_Director  \n",
              "0     Tim Roth Antonio Banderas Jennifer Beals Madon...     Allison Anders  \n",
              "1     Mark Hamill Harrison Ford Carrie Fisher Peter ...       George Lucas  \n",
              "2     Albert Brooks Ellen DeGeneres Alexander Gould ...     Andrew Stanton  \n",
              "3     Tom Hanks Robin Wright Gary Sinise Mykelti Wil...    Robert Zemeckis  \n",
              "4     Kevin Spacey Annette Bening Thora Birch Wes Be...         Sam Mendes  \n",
              "...                                                 ...                ...  \n",
              "4755  Lisa Hart Carroll Michael Des Barres Paul Drak...         Pece Dingo  \n",
              "4756  Roni Akurati Brighton Sharbino Jason Lee Anjul...       Frank Lotito  \n",
              "4757  Nicole Smolen Kim Baldwin Ariana Stephens Brys...       Jaco Booyens  \n",
              "4758                                                                        \n",
              "4759                                    Tony Oppedisano  Simon Napier-Bell  \n",
              "\n",
              "[4760 rows x 5 columns]"
            ],
            "text/html": [
              "\n",
              "  <div id=\"df-051a2233-f51c-4751-8571-2a7d44c4f7e3\">\n",
              "    <div class=\"colab-df-container\">\n",
              "      <div>\n",
              "<style scoped>\n",
              "    .dataframe tbody tr th:only-of-type {\n",
              "        vertical-align: middle;\n",
              "    }\n",
              "\n",
              "    .dataframe tbody tr th {\n",
              "        vertical-align: top;\n",
              "    }\n",
              "\n",
              "    .dataframe thead th {\n",
              "        text-align: right;\n",
              "    }\n",
              "</style>\n",
              "<table border=\"1\" class=\"dataframe\">\n",
              "  <thead>\n",
              "    <tr style=\"text-align: right;\">\n",
              "      <th></th>\n",
              "      <th>Movie_Title</th>\n",
              "      <th>Movie_Language</th>\n",
              "      <th>Movie_Tagline</th>\n",
              "      <th>Movie_Cast</th>\n",
              "      <th>Movie_Director</th>\n",
              "    </tr>\n",
              "  </thead>\n",
              "  <tbody>\n",
              "    <tr>\n",
              "      <th>0</th>\n",
              "      <td>Four Rooms</td>\n",
              "      <td>en</td>\n",
              "      <td>Twelve outrageous guests. Four scandalous requ...</td>\n",
              "      <td>Tim Roth Antonio Banderas Jennifer Beals Madon...</td>\n",
              "      <td>Allison Anders</td>\n",
              "    </tr>\n",
              "    <tr>\n",
              "      <th>1</th>\n",
              "      <td>Star Wars</td>\n",
              "      <td>en</td>\n",
              "      <td>A long time ago in a galaxy far, far away...</td>\n",
              "      <td>Mark Hamill Harrison Ford Carrie Fisher Peter ...</td>\n",
              "      <td>George Lucas</td>\n",
              "    </tr>\n",
              "    <tr>\n",
              "      <th>2</th>\n",
              "      <td>Finding Nemo</td>\n",
              "      <td>en</td>\n",
              "      <td>There are 3.7 trillion fish in the ocean, they...</td>\n",
              "      <td>Albert Brooks Ellen DeGeneres Alexander Gould ...</td>\n",
              "      <td>Andrew Stanton</td>\n",
              "    </tr>\n",
              "    <tr>\n",
              "      <th>3</th>\n",
              "      <td>Forrest Gump</td>\n",
              "      <td>en</td>\n",
              "      <td>The world will never be the same, once you've ...</td>\n",
              "      <td>Tom Hanks Robin Wright Gary Sinise Mykelti Wil...</td>\n",
              "      <td>Robert Zemeckis</td>\n",
              "    </tr>\n",
              "    <tr>\n",
              "      <th>4</th>\n",
              "      <td>American Beauty</td>\n",
              "      <td>en</td>\n",
              "      <td>Look closer.</td>\n",
              "      <td>Kevin Spacey Annette Bening Thora Birch Wes Be...</td>\n",
              "      <td>Sam Mendes</td>\n",
              "    </tr>\n",
              "    <tr>\n",
              "      <th>...</th>\n",
              "      <td>...</td>\n",
              "      <td>...</td>\n",
              "      <td>...</td>\n",
              "      <td>...</td>\n",
              "      <td>...</td>\n",
              "    </tr>\n",
              "    <tr>\n",
              "      <th>4755</th>\n",
              "      <td>Midnight Cabaret</td>\n",
              "      <td>en</td>\n",
              "      <td>The hot spot where Satan's waitin'.</td>\n",
              "      <td>Lisa Hart Carroll Michael Des Barres Paul Drak...</td>\n",
              "      <td>Pece Dingo</td>\n",
              "    </tr>\n",
              "    <tr>\n",
              "      <th>4756</th>\n",
              "      <td>Growing Up Smith</td>\n",
              "      <td>en</td>\n",
              "      <td>It’s better to stand out than to fit in.</td>\n",
              "      <td>Roni Akurati Brighton Sharbino Jason Lee Anjul...</td>\n",
              "      <td>Frank Lotito</td>\n",
              "    </tr>\n",
              "    <tr>\n",
              "      <th>4757</th>\n",
              "      <td>8 Days</td>\n",
              "      <td>en</td>\n",
              "      <td>She never knew it could happen to her...</td>\n",
              "      <td>Nicole Smolen Kim Baldwin Ariana Stephens Brys...</td>\n",
              "      <td>Jaco Booyens</td>\n",
              "    </tr>\n",
              "    <tr>\n",
              "      <th>4758</th>\n",
              "      <td>Running Forever</td>\n",
              "      <td>en</td>\n",
              "      <td></td>\n",
              "      <td></td>\n",
              "      <td></td>\n",
              "    </tr>\n",
              "    <tr>\n",
              "      <th>4759</th>\n",
              "      <td>To Be Frank, Sinatra at 100</td>\n",
              "      <td>en</td>\n",
              "      <td></td>\n",
              "      <td>Tony Oppedisano</td>\n",
              "      <td>Simon Napier-Bell</td>\n",
              "    </tr>\n",
              "  </tbody>\n",
              "</table>\n",
              "<p>4760 rows × 5 columns</p>\n",
              "</div>\n",
              "      <button class=\"colab-df-convert\" onclick=\"convertToInteractive('df-051a2233-f51c-4751-8571-2a7d44c4f7e3')\"\n",
              "              title=\"Convert this dataframe to an interactive table.\"\n",
              "              style=\"display:none;\">\n",
              "        \n",
              "  <svg xmlns=\"http://www.w3.org/2000/svg\" height=\"24px\"viewBox=\"0 0 24 24\"\n",
              "       width=\"24px\">\n",
              "    <path d=\"M0 0h24v24H0V0z\" fill=\"none\"/>\n",
              "    <path d=\"M18.56 5.44l.94 2.06.94-2.06 2.06-.94-2.06-.94-.94-2.06-.94 2.06-2.06.94zm-11 1L8.5 8.5l.94-2.06 2.06-.94-2.06-.94L8.5 2.5l-.94 2.06-2.06.94zm10 10l.94 2.06.94-2.06 2.06-.94-2.06-.94-.94-2.06-.94 2.06-2.06.94z\"/><path d=\"M17.41 7.96l-1.37-1.37c-.4-.4-.92-.59-1.43-.59-.52 0-1.04.2-1.43.59L10.3 9.45l-7.72 7.72c-.78.78-.78 2.05 0 2.83L4 21.41c.39.39.9.59 1.41.59.51 0 1.02-.2 1.41-.59l7.78-7.78 2.81-2.81c.8-.78.8-2.07 0-2.86zM5.41 20L4 18.59l7.72-7.72 1.47 1.35L5.41 20z\"/>\n",
              "  </svg>\n",
              "      </button>\n",
              "      \n",
              "  <style>\n",
              "    .colab-df-container {\n",
              "      display:flex;\n",
              "      flex-wrap:wrap;\n",
              "      gap: 12px;\n",
              "    }\n",
              "\n",
              "    .colab-df-convert {\n",
              "      background-color: #E8F0FE;\n",
              "      border: none;\n",
              "      border-radius: 50%;\n",
              "      cursor: pointer;\n",
              "      display: none;\n",
              "      fill: #1967D2;\n",
              "      height: 32px;\n",
              "      padding: 0 0 0 0;\n",
              "      width: 32px;\n",
              "    }\n",
              "\n",
              "    .colab-df-convert:hover {\n",
              "      background-color: #E2EBFA;\n",
              "      box-shadow: 0px 1px 2px rgba(60, 64, 67, 0.3), 0px 1px 3px 1px rgba(60, 64, 67, 0.15);\n",
              "      fill: #174EA6;\n",
              "    }\n",
              "\n",
              "    [theme=dark] .colab-df-convert {\n",
              "      background-color: #3B4455;\n",
              "      fill: #D2E3FC;\n",
              "    }\n",
              "\n",
              "    [theme=dark] .colab-df-convert:hover {\n",
              "      background-color: #434B5C;\n",
              "      box-shadow: 0px 1px 3px 1px rgba(0, 0, 0, 0.15);\n",
              "      filter: drop-shadow(0px 1px 2px rgba(0, 0, 0, 0.3));\n",
              "      fill: #FFFFFF;\n",
              "    }\n",
              "  </style>\n",
              "\n",
              "      <script>\n",
              "        const buttonEl =\n",
              "          document.querySelector('#df-051a2233-f51c-4751-8571-2a7d44c4f7e3 button.colab-df-convert');\n",
              "        buttonEl.style.display =\n",
              "          google.colab.kernel.accessAllowed ? 'block' : 'none';\n",
              "\n",
              "        async function convertToInteractive(key) {\n",
              "          const element = document.querySelector('#df-051a2233-f51c-4751-8571-2a7d44c4f7e3');\n",
              "          const dataTable =\n",
              "            await google.colab.kernel.invokeFunction('convertToInteractive',\n",
              "                                                     [key], {});\n",
              "          if (!dataTable) return;\n",
              "\n",
              "          const docLinkHtml = 'Like what you see? Visit the ' +\n",
              "            '<a target=\"_blank\" href=https://colab.research.google.com/notebooks/data_table.ipynb>data table notebook</a>'\n",
              "            + ' to learn more about interactive tables.';\n",
              "          element.innerHTML = '';\n",
              "          dataTable['output_type'] = 'display_data';\n",
              "          await google.colab.output.renderOutput(dataTable, element);\n",
              "          const docLink = document.createElement('div');\n",
              "          docLink.innerHTML = docLinkHtml;\n",
              "          element.appendChild(docLink);\n",
              "        }\n",
              "      </script>\n",
              "    </div>\n",
              "  </div>\n",
              "  "
            ]
          },
          "metadata": {},
          "execution_count": 13
        }
      ]
    },
    {
      "cell_type": "code",
      "source": [
        "x=df_features['Movie_Title']+''+df_features['Movie_Language']+''+df_features['Movie_Tagline']+''+df_features['Movie_Cast']+''+df_features['Movie_Director']"
      ],
      "metadata": {
        "id": "rAGgG0wTv6Yi"
      },
      "execution_count": null,
      "outputs": []
    },
    {
      "cell_type": "code",
      "source": [
        "x"
      ],
      "metadata": {
        "colab": {
          "base_uri": "https://localhost:8080/"
        },
        "id": "nchIGD0r0puk",
        "outputId": "323738fc-c7a4-45f2-f7e3-31186eaa424c"
      },
      "execution_count": null,
      "outputs": [
        {
          "output_type": "execute_result",
          "data": {
            "text/plain": [
              "0       Four RoomsenTwelve outrageous guests. Four sca...\n",
              "1       Star WarsenA long time ago in a galaxy far, fa...\n",
              "2       Finding NemoenThere are 3.7 trillion fish in t...\n",
              "3       Forrest GumpenThe world will never be the same...\n",
              "4       American BeautyenLook closer.Kevin Spacey Anne...\n",
              "                              ...                        \n",
              "4755    Midnight CabaretenThe hot spot where Satan's w...\n",
              "4756    Growing Up SmithenIt’s better to stand out tha...\n",
              "4757    8 DaysenShe never knew it could happen to her....\n",
              "4758                                    Running Foreveren\n",
              "4759    To Be Frank, Sinatra at 100enTony OppedisanoSi...\n",
              "Length: 4760, dtype: object"
            ]
          },
          "metadata": {},
          "execution_count": 16
        }
      ]
    },
    {
      "cell_type": "code",
      "source": [
        "x.shape"
      ],
      "metadata": {
        "colab": {
          "base_uri": "https://localhost:8080/"
        },
        "id": "0MIhMZH_0sbq",
        "outputId": "6054e53b-83b9-4880-ea7e-dd262537217a"
      },
      "execution_count": null,
      "outputs": [
        {
          "output_type": "execute_result",
          "data": {
            "text/plain": [
              "(4760,)"
            ]
          },
          "metadata": {},
          "execution_count": 17
        }
      ]
    },
    {
      "cell_type": "markdown",
      "source": [
        "# **Get Features Text Conversion to Tokens**"
      ],
      "metadata": {
        "id": "ZT8Xpgxc0vhp"
      }
    },
    {
      "cell_type": "code",
      "source": [
        "from sklearn.feature_extraction.text import TfidfVectorizer"
      ],
      "metadata": {
        "id": "3OMsF5nu1OMX"
      },
      "execution_count": null,
      "outputs": []
    },
    {
      "cell_type": "code",
      "source": [
        "tfidf=TfidfVectorizer()"
      ],
      "metadata": {
        "id": "FtzqsOPU1blE"
      },
      "execution_count": null,
      "outputs": []
    },
    {
      "cell_type": "code",
      "source": [
        "x=tfidf.fit_transform(x)"
      ],
      "metadata": {
        "id": "wzv31mmz1fri"
      },
      "execution_count": null,
      "outputs": []
    },
    {
      "cell_type": "code",
      "source": [
        "x.shape"
      ],
      "metadata": {
        "colab": {
          "base_uri": "https://localhost:8080/"
        },
        "id": "EDmB4d_615K2",
        "outputId": "3bc0378b-e00c-414f-ae38-ec8a9ce11c29"
      },
      "execution_count": null,
      "outputs": [
        {
          "output_type": "execute_result",
          "data": {
            "text/plain": [
              "(4760, 23963)"
            ]
          },
          "metadata": {},
          "execution_count": 25
        }
      ]
    },
    {
      "cell_type": "code",
      "source": [
        "print(x)"
      ],
      "metadata": {
        "colab": {
          "base_uri": "https://localhost:8080/"
        },
        "id": "sAZak9tM175C",
        "outputId": "b1a6b538-d5e2-4428-d5cf-ff50a4628fa2"
      },
      "execution_count": null,
      "outputs": [
        {
          "output_type": "stream",
          "name": "stdout",
          "text": [
            "  (0, 858)\t0.17954722092355038\n",
            "  (0, 21342)\t0.21668837706428282\n",
            "  (0, 13733)\t0.1574755979034403\n",
            "  (0, 13428)\t0.1895596331319524\n",
            "  (0, 1878)\t0.19957204534035441\n",
            "  (0, 11133)\t0.10974677715712333\n",
            "  (0, 1634)\t0.15637792177459697\n",
            "  (0, 1008)\t0.15431892576580886\n",
            "  (0, 18265)\t0.1574755979034403\n",
            "  (0, 21237)\t0.12590710638749839\n",
            "  (0, 12781)\t0.1105727286303986\n",
            "  (0, 15733)\t0.06501907414670735\n",
            "  (0, 7009)\t0.17694548555308162\n",
            "  (0, 23659)\t0.14463797688177088\n",
            "  (0, 15384)\t0.1221452583267402\n",
            "  (0, 23169)\t0.19406181727701002\n",
            "  (0, 7776)\t0.09439803652587296\n",
            "  (0, 23109)\t0.12058514083880062\n",
            "  (0, 11218)\t0.16533938189249764\n",
            "  (0, 21028)\t0.08955378037601928\n",
            "  (0, 15830)\t0.10084188899270861\n",
            "  (0, 5330)\t0.130723863536907\n",
            "  (0, 7607)\t0.1335375628431395\n",
            "  (0, 10037)\t0.2225079517745313\n",
            "  (0, 10652)\t0.16622056337741817\n",
            "  :\t:\n",
            "  (4757, 1121)\t0.3059253783470255\n",
            "  (4757, 19690)\t0.3059253783470255\n",
            "  (4757, 5364)\t0.3059253783470255\n",
            "  (4757, 20181)\t0.2739807075834454\n",
            "  (4757, 1593)\t0.20715097811519173\n",
            "  (4757, 4736)\t0.21037139189465723\n",
            "  (4757, 9377)\t0.2293234732147012\n",
            "  (4757, 15442)\t0.20236773137626893\n",
            "  (4757, 12015)\t0.24649269541459884\n",
            "  (4757, 9837)\t0.18247680917702042\n",
            "  (4757, 11883)\t0.19038281408689797\n",
            "  (4757, 21297)\t0.10200019632268512\n",
            "  (4757, 10883)\t0.13066319102074528\n",
            "  (4757, 15376)\t0.15780996363546104\n",
            "  (4758, 7805)\t0.7649437385926646\n",
            "  (4758, 18386)\t0.6440971019868643\n",
            "  (4759, 15878)\t0.4321190808883199\n",
            "  (4759, 10)\t0.4321190808883199\n",
            "  (4759, 19493)\t0.4321190808883199\n",
            "  (4759, 15218)\t0.3979857617277387\n",
            "  (4759, 7920)\t0.2810359733268415\n",
            "  (4759, 1303)\t0.25108343985304465\n",
            "  (4759, 2039)\t0.27561909251190814\n",
            "  (4759, 21297)\t0.14407510525455378\n",
            "  (4759, 1871)\t0.2065889664897213\n"
          ]
        }
      ]
    },
    {
      "cell_type": "markdown",
      "source": [
        "# **Get Similarity Score using Cosine Similarity**"
      ],
      "metadata": {
        "id": "Kgwd3a8X2ITr"
      }
    },
    {
      "cell_type": "code",
      "source": [
        "from sklearn.metrics.pairwise import cosine_similarity"
      ],
      "metadata": {
        "id": "pwd247y42Sb8"
      },
      "execution_count": null,
      "outputs": []
    },
    {
      "cell_type": "code",
      "source": [
        "Similarity_Score=cosine_similarity(x)"
      ],
      "metadata": {
        "id": "VaKTW1n02has"
      },
      "execution_count": null,
      "outputs": []
    },
    {
      "cell_type": "code",
      "source": [
        "Similarity_Score"
      ],
      "metadata": {
        "colab": {
          "base_uri": "https://localhost:8080/"
        },
        "id": "nZJjTr9x2ngJ",
        "outputId": "096c821c-665e-4d55-b31f-28c4c7f8ed21"
      },
      "execution_count": null,
      "outputs": [
        {
          "output_type": "execute_result",
          "data": {
            "text/plain": [
              "array([[1.        , 0.01809689, 0.04716487, ..., 0.        , 0.        ,\n",
              "        0.        ],\n",
              "       [0.01809689, 1.        , 0.01168801, ..., 0.        , 0.        ,\n",
              "        0.        ],\n",
              "       [0.04716487, 0.01168801, 1.        , ..., 0.        , 0.        ,\n",
              "        0.        ],\n",
              "       ...,\n",
              "       [0.        , 0.        , 0.        , ..., 1.        , 0.        ,\n",
              "        0.01469569],\n",
              "       [0.        , 0.        , 0.        , ..., 0.        , 1.        ,\n",
              "        0.        ],\n",
              "       [0.        , 0.        , 0.        , ..., 0.01469569, 0.        ,\n",
              "        1.        ]])"
            ]
          },
          "metadata": {},
          "execution_count": 29
        }
      ]
    },
    {
      "cell_type": "code",
      "source": [
        "Similarity_Score.shape"
      ],
      "metadata": {
        "colab": {
          "base_uri": "https://localhost:8080/"
        },
        "id": "jCReLDnH2sLH",
        "outputId": "02f8732f-2d24-4ed2-ca78-f6ea5226c98b"
      },
      "execution_count": null,
      "outputs": [
        {
          "output_type": "execute_result",
          "data": {
            "text/plain": [
              "(4760, 4760)"
            ]
          },
          "metadata": {},
          "execution_count": 30
        }
      ]
    },
    {
      "cell_type": "markdown",
      "source": [
        "# **Get Movie Name as Input form User and Variable for Closest Spelling**"
      ],
      "metadata": {
        "id": "i8A09kIM2vpv"
      }
    },
    {
      "cell_type": "code",
      "source": [
        "F_m=input('Enter your favourite movie:')"
      ],
      "metadata": {
        "id": "iiXLpBQQ2-E3",
        "colab": {
          "base_uri": "https://localhost:8080/"
        },
        "outputId": "f0c34616-a603-4dd8-d07e-25772641cd6d"
      },
      "execution_count": 36,
      "outputs": [
        {
          "name": "stdout",
          "output_type": "stream",
          "text": [
            "Enter your favourite movie:Star Wars\n"
          ]
        }
      ]
    },
    {
      "cell_type": "code",
      "source": [
        "M_T=df['Movie_Title'].tolist()"
      ],
      "metadata": {
        "id": "nWHjhUIK3JJ1"
      },
      "execution_count": 38,
      "outputs": []
    },
    {
      "cell_type": "code",
      "source": [
        "import difflib"
      ],
      "metadata": {
        "id": "aeMjtnB57Mdu"
      },
      "execution_count": 39,
      "outputs": []
    },
    {
      "cell_type": "code",
      "source": [
        "M_r=difflib.get_close_matches(F_m,M_T)\n",
        "print(M_r)"
      ],
      "metadata": {
        "colab": {
          "base_uri": "https://localhost:8080/"
        },
        "id": "2F6KkIIz7Phx",
        "outputId": "7d2899de-624c-4da7-eb1d-b8a7c22579b2"
      },
      "execution_count": 40,
      "outputs": [
        {
          "output_type": "stream",
          "name": "stdout",
          "text": [
            "['Star Wars', 'Star Trek', 'State Fair']\n"
          ]
        }
      ]
    },
    {
      "cell_type": "code",
      "source": [
        "Close_Match=M_r[0]\n",
        "print(Close_Match)"
      ],
      "metadata": {
        "colab": {
          "base_uri": "https://localhost:8080/"
        },
        "id": "PX-AKCBr7nCV",
        "outputId": "78b4d837-b5f3-47d5-f51c-a8d89aad4a7a"
      },
      "execution_count": 41,
      "outputs": [
        {
          "output_type": "stream",
          "name": "stdout",
          "text": [
            "Star Wars\n"
          ]
        }
      ]
    },
    {
      "cell_type": "code",
      "source": [
        "I=df[df.Movie_Title==Close_Match]['Movie_ID'].values[0]\n",
        "print(I)"
      ],
      "metadata": {
        "colab": {
          "base_uri": "https://localhost:8080/"
        },
        "id": "9XqGLBkC776a",
        "outputId": "c11175d1-5ba4-431e-c308-dba5e9632bb4"
      },
      "execution_count": 44,
      "outputs": [
        {
          "output_type": "stream",
          "name": "stdout",
          "text": [
            "2\n"
          ]
        }
      ]
    },
    {
      "cell_type": "code",
      "source": [
        "R_S=list(enumerate(Similarity_Score[I]))\n",
        "print(R_S)"
      ],
      "metadata": {
        "colab": {
          "base_uri": "https://localhost:8080/"
        },
        "id": "nhNqk2Lm8ULK",
        "outputId": "65a88a39-7e82-446c-861b-79cd2017bf1a"
      },
      "execution_count": 46,
      "outputs": [
        {
          "output_type": "stream",
          "name": "stdout",
          "text": [
            "[(0, 0.047164870681121185), (1, 0.011688013433572788), (2, 1.0000000000000002), (3, 0.005953366634496819), (4, 0.0), (5, 0.015607445457177006), (6, 0.003948976118649286), (7, 0.008084071390043511), (8, 0.0), (9, 0.013010654918971964), (10, 0.019837362372518826), (11, 0.004416008059505285), (12, 0.003964220513516384), (13, 0.0), (14, 0.003330358747999046), (15, 0.0029953781287954165), (16, 0.0), (17, 0.003672404460951744), (18, 0.0033902116716033655), (19, 0.0), (20, 0.0), (21, 0.0), (22, 0.0), (23, 0.003852447026657049), (24, 0.0), (25, 0.059270552360476736), (26, 0.03848578543851992), (27, 0.0313706091213585), (28, 0.0), (29, 0.01995949429365685), (30, 0.02222954055284482), (31, 0.0), (32, 0.0), (33, 0.018015021123973265), (34, 0.0), (35, 0.009651581966050536), (36, 0.002911599319957079), (37, 0.0063140814961107575), (38, 0.0), (39, 0.0), (40, 0.0), (41, 0.0), (42, 0.0), (43, 0.010684362444129292), (44, 0.020391608501341654), (45, 0.006932427241053542), (46, 0.0), (47, 0.034716204333570144), (48, 0.0), (49, 0.036843131422158774), (50, 0.019536381581389824), (51, 0.0), (52, 0.027516246637313842), (53, 0.003405498998659525), (54, 0.013433949388548373), (55, 0.010686048064978864), (56, 0.016448315634446008), (57, 0.02025259451077774), (58, 0.0), (59, 0.0), (60, 0.0032691271791609106), (61, 0.0), (62, 0.0), (63, 0.0), (64, 0.0), (65, 0.0035897128296681576), (66, 0.013336222421041372), (67, 0.012662955454446815), (68, 0.00405002921061735), (69, 0.0318697014991588), (70, 0.12677839641831246), (71, 0.0), (72, 0.11080667390247168), (73, 0.027370743581463505), (74, 0.007733972051610051), (75, 0.019253129302961733), (76, 0.01045625327665375), (77, 0.0), (78, 0.006173531818570619), (79, 0.003282598027672564), (80, 0.01833184201403672), (81, 0.0), (82, 0.022762802157385804), (83, 0.0038069527896445916), (84, 0.0), (85, 0.0036486586366121067), (86, 0.028161417239456324), (87, 0.0), (88, 0.013961902587056992), (89, 0.0), (90, 0.0), (91, 0.0410388776849719), (92, 0.0), (93, 0.0), (94, 0.015242495279337999), (95, 0.0), (96, 0.04193975798812884), (97, 0.003297750723046122), (98, 0.0), (99, 0.0), (100, 0.0), (101, 0.007080935961910623), (102, 0.018230715450708215), (103, 0.0), (104, 0.0), (105, 0.04841028271926355), (106, 0.12967484657662925), (107, 0.0), (108, 0.03419825866788466), (109, 0.0038381011414107217), (110, 0.01584295332837495), (111, 0.0032579077494596094), (112, 0.006771464795622906), (113, 0.010429546819837626), (114, 0.01783575819921639), (115, 0.0), (116, 0.0), (117, 0.003479312199769683), (118, 0.0), (119, 0.0039224891918717385), (120, 0.0), (121, 0.07104130404755049), (122, 0.019075946793190857), (123, 0.004017817836712713), (124, 0.012124045015329262), (125, 0.0), (126, 0.003336291265159101), (127, 0.0), (128, 0.0), (129, 0.002458644272392327), (130, 0.012763678199171792), (131, 0.0), (132, 0.01153641427759229), (133, 0.0), (134, 0.0), (135, 0.0034389750334649807), (136, 0.033404443919332796), (137, 0.14326663261470035), (138, 0.003379972530827393), (139, 0.0), (140, 0.003639246946994147), (141, 0.0), (142, 0.022393671106642483), (143, 0.014981992073461126), (144, 0.0), (145, 0.0), (146, 0.0), (147, 0.0), (148, 0.0028820403273611037), (149, 0.0), (150, 0.016242625096727824), (151, 0.003799918006134925), (152, 0.015071269751899928), (153, 0.0), (154, 0.0), (155, 0.05744452370782935), (156, 0.00938854479442122), (157, 0.0), (158, 0.0), (159, 0.0027206656739875387), (160, 0.07710304759661221), (161, 0.01835929839447645), (162, 0.007730923605943572), (163, 0.0), (164, 0.0), (165, 0.006182859386481143), (166, 0.04092504857903793), (167, 0.011527549854385566), (168, 0.002838381720011798), (169, 0.0037117023351309346), (170, 0.018529737055355405), (171, 0.0), (172, 0.0), (173, 0.03566737630144791), (174, 0.0), (175, 0.0), (176, 0.003933812433955985), (177, 0.005755540650540222), (178, 0.11365699402188885), (179, 0.025633014108105298), (180, 0.0), (181, 0.0), (182, 0.08840141606145471), (183, 0.0033074921901054813), (184, 0.01927280899040765), (185, 0.04571111914078201), (186, 0.011477018476562118), (187, 0.029484998666242702), (188, 0.0), (189, 0.004024423732482394), (190, 0.0), (191, 0.013602800032724419), (192, 0.02606208246110058), (193, 0.0), (194, 0.0), (195, 0.002799005980708022), (196, 0.03641341809828919), (197, 0.011968802984945282), (198, 0.0), (199, 0.0), (200, 0.0), (201, 0.003995078116824345), (202, 0.02230302812002557), (203, 0.02269699542384785), (204, 0.0), (205, 0.012863194613610079), (206, 0.004167756424933589), (207, 0.0), (208, 0.0), (209, 0.0), (210, 0.0), (211, 0.0), (212, 0.038876638997793776), (213, 0.018758192499006485), (214, 0.0067338400173624835), (215, 0.003425938326012979), (216, 0.02343772455299587), (217, 0.04879758278481817), (218, 0.011257057598842346), (219, 0.007207000206224149), (220, 0.0), (221, 0.006933590586826874), (222, 0.006250136345538432), (223, 0.0), (224, 0.002737363940629237), (225, 0.018541053471164304), (226, 0.0), (227, 0.0040364855841068786), (228, 0.005302048872889307), (229, 0.03365202567494381), (230, 0.08295837803917402), (231, 0.013121790916796033), (232, 0.0), (233, 0.05212079123199013), (234, 0.0), (235, 0.0), (236, 0.0), (237, 0.014720666488126609), (238, 0.0), (239, 0.018678900997367458), (240, 0.015008407669491573), (241, 0.0036877457675137037), (242, 0.0), (243, 0.007924195398276341), (244, 0.0), (245, 0.0), (246, 0.003514369033461143), (247, 0.041873139486664115), (248, 0.0), (249, 0.0090326611765525), (250, 0.007944886490408047), (251, 0.021212725062844703), (252, 0.0), (253, 0.0041452927821326), (254, 0.0), (255, 0.0), (256, 0.038606322707214764), (257, 0.003203335602501891), (258, 0.0), (259, 0.007869444988951623), (260, 0.0037464136694362986), (261, 0.00355072656922507), (262, 0.0), (263, 0.023680798611508715), (264, 0.01275024404749635), (265, 0.02792143384941984), (266, 0.01453757979501605), (267, 0.0), (268, 0.006536836493457968), (269, 0.03947696823590648), (270, 0.02653062931123004), (271, 0.01294055629392831), (272, 0.003949565184682461), (273, 0.003586629544455486), (274, 0.0), (275, 0.003836820810129986), (276, 0.020806959250854348), (277, 0.026203392259088396), (278, 0.0), (279, 0.01402668547801437), (280, 0.0), (281, 0.01871034130435994), (282, 0.0032530142090218465), (283, 0.0), (284, 0.01475363242884433), (285, 0.014288030922279447), (286, 0.09066644826343923), (287, 0.010089788552618485), (288, 0.002798904680738005), (289, 0.0), (290, 0.0), (291, 0.003353781284368721), (292, 0.0), (293, 0.0907286848364454), (294, 0.0025216268969654736), (295, 0.0), (296, 0.0), (297, 0.0074923835809627345), (298, 0.016488493029468074), (299, 0.0035045779663943444), (300, 0.003365922825668496), (301, 0.0071959342640536775), (302, 0.0), (303, 0.0), (304, 0.019054479078623218), (305, 0.02074250721077025), (306, 0.008812082006733488), (307, 0.0), (308, 0.0), (309, 0.015190384394076727), (310, 0.009810774677883579), (311, 0.011830028079091323), (312, 0.004012429857122657), (313, 0.0037448367802119693), (314, 0.0), (315, 0.03151850392151333), (316, 0.0), (317, 0.0), (318, 0.0), (319, 0.010118443154688064), (320, 0.0), (321, 0.0035947648620548276), (322, 0.0), (323, 0.0), (324, 0.0646685084696537), (325, 0.0), (326, 0.004490876548449976), (327, 0.027810616353980976), (328, 0.007619375960815542), (329, 0.0035484270127616306), (330, 0.018315923635639705), (331, 0.003770043959812343), (332, 0.011689685290674908), (333, 0.0), (334, 0.0), (335, 0.0), (336, 0.019488053593825633), (337, 0.055257610654018935), (338, 0.015164790211816465), (339, 0.011491189030974038), (340, 0.0036562758511288593), (341, 0.0038648749622264213), (342, 0.01722364316267202), (343, 0.0036492043377302353), (344, 0.0038212298454956667), (345, 0.02570366511756958), (346, 0.0036494247657762632), (347, 0.019968373120692336), (348, 0.0037655711677676007), (349, 0.01608281190080077), (350, 0.03643847504035805), (351, 0.009454334165262007), (352, 0.0175401831575641), (353, 0.09387960073144354), (354, 0.0064407125066717275), (355, 0.03844839793365862), (356, 0.03120249410724152), (357, 0.0063135951494987215), (358, 0.023193027576656124), (359, 0.015051998737849756), (360, 0.0357720964321551), (361, 0.0), (362, 0.0), (363, 0.021687384729397262), (364, 0.0), (365, 0.0), (366, 0.0), (367, 0.0), (368, 0.0036353884799624854), (369, 0.009080173841211427), (370, 0.0362486057289603), (371, 0.0), (372, 0.003412227703017149), (373, 0.02839693379044874), (374, 0.006624128048326165), (375, 0.0), (376, 0.0), (377, 0.013195591730564922), (378, 0.0241206481727191), (379, 0.030386717641182497), (380, 0.008376285732689642), (381, 0.002883609002356456), (382, 0.0), (383, 0.0), (384, 0.026086845932067386), (385, 0.06751774517801024), (386, 0.0), (387, 0.0), (388, 0.0033001002641622258), (389, 0.0), (390, 0.0), (391, 0.0), (392, 0.024109989607887482), (393, 0.0), (394, 0.003011701285702925), (395, 0.05418693557798451), (396, 0.0), (397, 0.0034336100599829155), (398, 0.015684154537926705), (399, 0.003207624643387997), (400, 0.03007708174266482), (401, 0.0), (402, 0.0), (403, 0.019657858941381695), (404, 0.003821912576782434), (405, 0.015254776929723515), (406, 0.03941990035565285), (407, 0.008466306492398726), (408, 0.0071680685603432714), (409, 0.003771603085770455), (410, 0.0035767836961319447), (411, 0.006881279784788702), (412, 0.008475009642692826), (413, 0.0), (414, 0.0), (415, 0.026951332187122472), (416, 0.002949978446395469), (417, 0.0), (418, 0.0034815692044839752), (419, 0.0), (420, 0.0), (421, 0.0032019589825077635), (422, 0.0), (423, 0.0), (424, 0.004004492412049104), (425, 0.0037293067389789192), (426, 0.0), (427, 0.08274319847430522), (428, 0.04777852201852892), (429, 0.04637869427711648), (430, 0.0), (431, 0.004183476923409422), (432, 0.0028404827024228665), (433, 0.012001158173166559), (434, 0.03028776828832361), (435, 0.02022468838198727), (436, 0.0), (437, 0.0), (438, 0.0030592244600945676), (439, 0.007467705629265493), (440, 0.009116845865170533), (441, 0.01140590140817643), (442, 0.0), (443, 0.004104140994178596), (444, 0.0), (445, 0.0), (446, 0.0037252359886505173), (447, 0.0034030707467250835), (448, 0.026626847906232758), (449, 0.0), (450, 0.0), (451, 0.0), (452, 0.005209011077507295), (453, 0.020616064796810035), (454, 0.003219430066476062), (455, 0.02681970573629888), (456, 0.0), (457, 0.0), (458, 0.0), (459, 0.08322416307269784), (460, 0.003871171092769968), (461, 0.0), (462, 0.0), (463, 0.08211571281218161), (464, 0.0), (465, 0.011707192567800827), (466, 0.017200449777612436), (467, 0.016755781372134352), (468, 0.0), (469, 0.028758287746121262), (470, 0.0), (471, 0.0), (472, 0.052411585821156716), (473, 0.0), (474, 0.05234083869611339), (475, 0.0), (476, 0.004131851848740213), (477, 0.0027551341096532715), (478, 0.0), (479, 0.021695602636944818), (480, 0.0), (481, 0.0038381209387376284), (482, 0.0), (483, 0.006899183683683963), (484, 0.012926811435357585), (485, 0.0), (486, 0.01853536476128336), (487, 0.0), (488, 0.0037762857862395113), (489, 0.0), (490, 0.0033700945019051578), (491, 0.0), (492, 0.003655222038312516), (493, 0.004077166283122779), (494, 0.01227971310961767), (495, 0.024455806914553957), (496, 0.017269933899914654), (497, 0.008668615532358155), (498, 0.0285825199631734), (499, 0.0037568001816616296), (500, 0.037237574452620305), (501, 0.019775993025363606), (502, 0.0), (503, 0.0), (504, 0.0036199801580915907), (505, 0.0), (506, 0.002882150603424493), (507, 0.04000226095227495), (508, 0.03527618085285278), (509, 0.0), (510, 0.005114275240499843), (511, 0.0030395248762042225), (512, 0.0), (513, 0.0), (514, 0.0), (515, 0.0), (516, 0.0), (517, 0.025297006058563293), (518, 0.0), (519, 0.01608217205373456), (520, 0.022370834874292353), (521, 0.0034975958394932935), (522, 0.0), (523, 0.003651302503181768), (524, 0.017543046826384884), (525, 0.003573643703666334), (526, 0.0), (527, 0.009665417673382306), (528, 0.0038242892700331215), (529, 0.00694586829217903), (530, 0.029735379871000476), (531, 0.0), (532, 0.029958176757526437), (533, 0.008466719136416733), (534, 0.0), (535, 0.0), (536, 0.0), (537, 0.004233505511917377), (538, 0.015103624114468363), (539, 0.017707132166429516), (540, 0.08229803928549723), (541, 0.021361848802972573), (542, 0.011065346159031559), (543, 0.0), (544, 0.0), (545, 0.0), (546, 0.06086829192377655), (547, 0.0), (548, 0.0031645737535128376), (549, 0.006830027063700908), (550, 0.02104004854372181), (551, 0.0), (552, 0.0037276652326559663), (553, 0.008890155831064832), (554, 0.0066540536696930086), (555, 0.024779001614236663), (556, 0.0), (557, 0.02292381150753584), (558, 0.0031046946232529174), (559, 0.020687134885212455), (560, 0.026880725011088184), (561, 0.04288970958104607), (562, 0.06386964953288231), (563, 0.003073965987505937), (564, 0.0), (565, 0.0035908427506552037), (566, 0.031827445914571637), (567, 0.04897270087817142), (568, 0.021308687898701675), (569, 0.006113384748489632), (570, 0.007155338238815648), (571, 0.0), (572, 0.0034590460211230047), (573, 0.0), (574, 0.0), (575, 0.003292987946026035), (576, 0.0), (577, 0.01803441220090024), (578, 0.0), (579, 0.003532547904349816), (580, 0.0037718226277308115), (581, 0.0), (582, 0.0), (583, 0.0032165696602743615), (584, 0.0), (585, 0.007053359799001204), (586, 0.0), (587, 0.0), (588, 0.0), (589, 0.003339177484161846), (590, 0.0), (591, 0.0), (592, 0.0034086751918286566), (593, 0.0), (594, 0.05486263156407808), (595, 0.0), (596, 0.05528828887002703), (597, 0.02773390887215496), (598, 0.0), (599, 0.003705294512354896), (600, 0.003844037968423632), (601, 0.0028565418258483105), (602, 0.002719571547293167), (603, 0.0034344542335350116), (604, 0.0175739720008095), (605, 0.02142049425031622), (606, 0.0), (607, 0.0), (608, 0.0034605319265702413), (609, 0.02080059893402489), (610, 0.022941758025368394), (611, 0.0030257646379730765), (612, 0.015627774341764756), (613, 0.0), (614, 0.004463699997199968), (615, 0.003724200146502583), (616, 0.0028490783573889267), (617, 0.0033228222983743673), (618, 0.01724742949053577), (619, 0.10825441296196245), (620, 0.0), (621, 0.03147103422998042), (622, 0.01834052549523283), (623, 0.0), (624, 0.09687243801354323), (625, 0.0032255639179096735), (626, 0.0029400799182879643), (627, 0.0), (628, 0.0), (629, 0.0113307802997613), (630, 0.015459964230126617), (631, 0.0), (632, 0.0), (633, 0.0036139932948881185), (634, 0.0033034802351638148), (635, 0.01075779472320174), (636, 0.0038850270172087835), (637, 0.0), (638, 0.0), (639, 0.016788747657609186), (640, 0.005199479806454161), (641, 0.0), (642, 0.03407587673479362), (643, 0.006382765600794947), (644, 0.0035813470539475894), (645, 0.0), (646, 0.0), (647, 0.00648724728763304), (648, 0.003539114345553425), (649, 0.0), (650, 0.0), (651, 0.0416408549554158), (652, 0.0), (653, 0.006495354134895256), (654, 0.0), (655, 0.0032655114004333926), (656, 0.02459549806460433), (657, 0.02450514078542975), (658, 0.0), (659, 0.0032909836334921684), (660, 0.0), (661, 0.0), (662, 0.0), (663, 0.0), (664, 0.017449033993714315), (665, 0.0), (666, 0.003921851222789807), (667, 0.0), (668, 0.0029985804981778655), (669, 0.0), (670, 0.022577819973376698), (671, 0.0), (672, 0.0), (673, 0.0), (674, 0.003483121872478134), (675, 0.0), (676, 0.015312025924994886), (677, 0.004120325327494561), (678, 0.0033577998022904306), (679, 0.0), (680, 0.004240297464339026), (681, 0.0036597407326181782), (682, 0.00365307758944887), (683, 0.023417519615143254), (684, 0.010371787350543107), (685, 0.0035949092048384703), (686, 0.014209348837422536), (687, 0.0033336940008657744), (688, 0.0), (689, 0.0032174759942177073), (690, 0.0230724936874244), (691, 0.015817271833407268), (692, 0.0030246955174679235), (693, 0.0), (694, 0.0), (695, 0.0), (696, 0.02330117076664408), (697, 0.0), (698, 0.08827003585057393), (699, 0.030047435198128185), (700, 0.0038425423409424327), (701, 0.007836681922504876), (702, 0.0), (703, 0.041555528654038415), (704, 0.004037080502421323), (705, 0.059279204304203845), (706, 0.009300326106654835), (707, 0.0031239024808791534), (708, 0.04580173478219552), (709, 0.09782826115540758), (710, 0.0), (711, 0.0), (712, 0.0), (713, 0.0), (714, 0.0), (715, 0.01870538862398389), (716, 0.0), (717, 0.016695421126553135), (718, 0.0), (719, 0.008614261151688226), (720, 0.003400174532914013), (721, 0.0038980860283909526), (722, 0.0064422237067230685), (723, 0.011457552423445698), (724, 0.0034350835881654814), (725, 0.0033672533789142287), (726, 0.009930297364644743), (727, 0.010498658215748531), (728, 0.0036555721662956064), (729, 0.0038964768245870716), (730, 0.04149170037914968), (731, 0.028768516016100074), (732, 0.003058431709573163), (733, 0.006196448930993981), (734, 0.0032992680154116036), (735, 0.0), (736, 0.003298022581172675), (737, 0.0038038283244224607), (738, 0.005537001940752459), (739, 0.003982375625048912), (740, 0.032427949155093366), (741, 0.0), (742, 0.02401875392629331), (743, 0.04043028956961903), (744, 0.019453379799051703), (745, 0.011790514110176516), (746, 0.0), (747, 0.003860411038524035), (748, 0.0035610405542250943), (749, 0.01121883542400501), (750, 0.023017933012204863), (751, 0.0), (752, 0.0), (753, 0.0422002067641674), (754, 0.0), (755, 0.0), (756, 0.0067241945405745705), (757, 0.008182351923404246), (758, 0.0), (759, 0.0), (760, 0.007575084123271445), (761, 0.0), (762, 0.01672201010846082), (763, 0.02199023924717105), (764, 0.0), (765, 0.0), (766, 0.0), (767, 0.003332767640724014), (768, 0.05687882334569388), (769, 0.024892066615430232), (770, 0.003540569447659229), (771, 0.0036532749259267946), (772, 0.0), (773, 0.0034707178642867024), (774, 0.0), (775, 0.014832385003591433), (776, 0.0), (777, 0.0), (778, 0.039759275020911394), (779, 0.0029119806293343), (780, 0.021663407369633618), (781, 0.003878122604734383), (782, 0.0), (783, 0.003514061018076304), (784, 0.0), (785, 0.03581882107966949), (786, 0.02100133471366033), (787, 0.01419832200695725), (788, 0.0030277062136313893), (789, 0.005678230306627736), (790, 0.015252238525281608), (791, 0.0), (792, 0.016836064555510122), (793, 0.017415235280112174), (794, 0.040165922635107064), (795, 0.0), (796, 0.0), (797, 0.0), (798, 0.006481390283860187), (799, 0.0), (800, 0.0032266922241580855), (801, 0.0), (802, 0.0), (803, 0.009127070894407606), (804, 0.0312316400600655), (805, 0.024396899190340916), (806, 0.017083732463631256), (807, 0.05323395137239851), (808, 0.0030054059077273027), (809, 0.0), (810, 0.024134363257360864), (811, 0.014468413494024912), (812, 0.01690740697173954), (813, 0.007406813866255013), (814, 0.0), (815, 0.04951271954494166), (816, 0.0030627304130677363), (817, 0.015506283119093738), (818, 0.0), (819, 0.0), (820, 0.022142724193789303), (821, 0.015549943052838973), (822, 0.012815693672253742), (823, 0.00455493928054865), (824, 0.008777593269096084), (825, 0.0), (826, 0.0), (827, 0.024389807097129353), (828, 0.0), (829, 0.01797074097771893), (830, 0.0), (831, 0.015511852310025822), (832, 0.0), (833, 0.016953898005654458), (834, 0.016747963854338226), (835, 0.01699471247177573), (836, 0.025949283587127576), (837, 0.0), (838, 0.0), (839, 0.011925456931192121), (840, 0.010299826139778544), (841, 0.0), (842, 0.0), (843, 0.0), (844, 0.0), (845, 0.0037209988110039056), (846, 0.012405323880527933), (847, 0.003732215702437561), (848, 0.0), (849, 0.0035517278515967516), (850, 0.0), (851, 0.0), (852, 0.045209271905915026), (853, 0.07369941728868556), (854, 0.009722674107605432), (855, 0.02773126914158891), (856, 0.04210047416193737), (857, 0.003906814265481948), (858, 0.011258122785869143), (859, 0.0), (860, 0.0), (861, 0.028962988988126978), (862, 0.06980742453532668), (863, 0.003581998882162166), (864, 0.0), (865, 0.0), (866, 0.0035293046667997465), (867, 0.0), (868, 0.020079905887040034), (869, 0.0), (870, 0.0036596181052023316), (871, 0.0038562726356205297), (872, 0.0), (873, 0.0), (874, 0.0265657797207091), (875, 0.0035047649348939826), (876, 0.0), (877, 0.0030818185265651375), (878, 0.020271693438468942), (879, 0.054538302048655896), (880, 0.05604387293573433), (881, 0.0658062616900625), (882, 0.0), (883, 0.0035852696940486778), (884, 0.03700274054209784), (885, 0.003023617047149714), (886, 0.0), (887, 0.003810408971539311), (888, 0.003430834026385773), (889, 0.0), (890, 0.00394844638535795), (891, 0.026514081993850254), (892, 0.02399790312842188), (893, 0.04746643327335277), (894, 0.025526795131519973), (895, 0.018820006217769233), (896, 0.0), (897, 0.0035100073676076495), (898, 0.0), (899, 0.0034580996047028083), (900, 0.0), (901, 0.0), (902, 0.0035841519930879364), (903, 0.003652365381840521), (904, 0.0), (905, 0.014912363692966639), (906, 0.03687114239930413), (907, 0.007066538794423652), (908, 0.003223210943617627), (909, 0.0036485728273275356), (910, 0.0), (911, 0.07201908091941595), (912, 0.020048062599840703), (913, 0.0038663595337158204), (914, 0.004276359405968351), (915, 0.0227695633427842), (916, 0.003359944240087146), (917, 0.003533493395934565), (918, 0.0035548766758198946), (919, 0.003868336477347483), (920, 0.0), (921, 0.0036036717299501894), (922, 0.0), (923, 0.006537674278574364), (924, 0.0032116720127427843), (925, 0.0), (926, 0.03405138849583393), (927, 0.0), (928, 0.018345499906494412), (929, 0.002536988721758878), (930, 0.0035583966141197135), (931, 0.0162730033396153), (932, 0.0031019540870750825), (933, 0.003551541366367774), (934, 0.006529350417807588), (935, 0.010711558257715295), (936, 0.0362548530804329), (937, 0.004766161100159484), (938, 0.0033158255697139528), (939, 0.036792334114934225), (940, 0.002621410260644763), (941, 0.0), (942, 0.002887442531217976), (943, 0.0), (944, 0.017490945614694272), (945, 0.015828918067758078), (946, 0.05397410961734311), (947, 0.0), (948, 0.04745246497059862), (949, 0.0), (950, 0.0), (951, 0.0), (952, 0.0), (953, 0.03429027456688945), (954, 0.03856897841346883), (955, 0.0), (956, 0.0), (957, 0.013463686283986552), (958, 0.024285909043520123), (959, 0.0033293064116125), (960, 0.0), (961, 0.004149131212086008), (962, 0.010038540761834119), (963, 0.0), (964, 0.0), (965, 0.003640157663761726), (966, 0.017385097039198306), (967, 0.00362516772480023), (968, 0.0030985927526071873), (969, 0.0), (970, 0.0), (971, 0.003670533248096748), (972, 0.0025874244422878128), (973, 0.021852757976173646), (974, 0.006909221860006349), (975, 0.02862073055013839), (976, 0.0), (977, 0.0), (978, 0.003297567963110134), (979, 0.01593855690042249), (980, 0.0038000787326785755), (981, 0.016875592781066873), (982, 0.006689787268188474), (983, 0.003703287363956983), (984, 0.003236692045235957), (985, 0.023750167841343785), (986, 0.0034055934590968935), (987, 0.0), (988, 0.06681058133788394), (989, 0.03744946852887601), (990, 0.0125218941674677), (991, 0.025026781269413836), (992, 0.0), (993, 0.0035349877296586446), (994, 0.003936029326792069), (995, 0.031664431180134914), (996, 0.0), (997, 0.0), (998, 0.0), (999, 0.014629632702712328), (1000, 0.0), (1001, 0.007291528839993692), (1002, 0.04673626598502018), (1003, 0.003845695920725131), (1004, 0.0), (1005, 0.005643645364120244), (1006, 0.00789997828215465), (1007, 0.0), (1008, 0.011356058043902717), (1009, 0.02313107330794227), (1010, 0.06401684047931512), (1011, 0.00387621382723226), (1012, 0.0), (1013, 0.007104464883974562), (1014, 0.0), (1015, 0.0), (1016, 0.0), (1017, 0.0), (1018, 0.02296929788972278), (1019, 0.0), (1020, 0.0), (1021, 0.01784988742690921), (1022, 0.003553846427707319), (1023, 0.0), (1024, 0.0), (1025, 0.023953338883470184), (1026, 0.011564869939530998), (1027, 0.0036243259714574066), (1028, 0.015393932668488559), (1029, 0.018742895246657298), (1030, 0.003554404859743223), (1031, 0.0), (1032, 0.0), (1033, 0.006616563952297729), (1034, 0.016669430170848876), (1035, 0.0034737500676766623), (1036, 0.0), (1037, 0.0), (1038, 0.0), (1039, 0.006084507682241599), (1040, 0.0), (1041, 0.010621522302358063), (1042, 0.0032166650715126496), (1043, 0.0037206915890321242), (1044, 0.0), (1045, 0.019394156355943458), (1046, 0.03876994907871353), (1047, 0.0), (1048, 0.0038469933544813453), (1049, 0.0), (1050, 0.0032069928456780698), (1051, 0.004096855943581261), (1052, 0.0066162471351027905), (1053, 0.0), (1054, 0.003350633355469284), (1055, 0.0), (1056, 0.0), (1057, 0.03404017347222139), (1058, 0.0), (1059, 0.0034131031956423784), (1060, 0.020214174381333164), (1061, 0.0), (1062, 0.0), (1063, 0.0), (1064, 0.017470224699978564), (1065, 0.0032479076158428207), (1066, 0.0033140316667296024), (1067, 0.003610215260919424), (1068, 0.020927119600031862), (1069, 0.0), (1070, 0.0033000724872817547), (1071, 0.010654166312151622), (1072, 0.003905866372403059), (1073, 0.0), (1074, 0.0037986275369455607), (1075, 0.0), (1076, 0.0), (1077, 0.0), (1078, 0.011748430871904626), (1079, 0.022481564946818352), (1080, 0.048210908480705174), (1081, 0.01639159579686865), (1082, 0.08784416595359373), (1083, 0.0), (1084, 0.0), (1085, 0.0034612483602178097), (1086, 0.0033818485639256542), (1087, 0.007339686664056188), (1088, 0.0), (1089, 0.0), (1090, 0.023500971364131117), (1091, 0.0038458569308900447), (1092, 0.08078827290615655), (1093, 0.0), (1094, 0.05529272122004801), (1095, 0.038257963819574727), (1096, 0.0), (1097, 0.0), (1098, 0.0032358721226606233), (1099, 0.0), (1100, 0.0), (1101, 0.0036192070423002793), (1102, 0.0), (1103, 0.0), (1104, 0.003898434935407418), (1105, 0.025338084180266975), (1106, 0.009887710659896421), (1107, 0.0), (1108, 0.0), (1109, 0.021768677000957623), (1110, 0.0), (1111, 0.0), (1112, 0.0), (1113, 0.003452764027726286), (1114, 0.06417332244484789), (1115, 0.01974522163093804), (1116, 0.016997942024657146), (1117, 0.020666983056916645), (1118, 0.02402264209972787), (1119, 0.0037863586130754295), (1120, 0.006370102452498084), (1121, 0.004454243622146866), (1122, 0.022986050214695672), (1123, 0.0037603371124722653), (1124, 0.0), (1125, 0.0), (1126, 0.0), (1127, 0.0), (1128, 0.0), (1129, 0.01869205305776208), (1130, 0.006683552593674259), (1131, 0.003679091388930181), (1132, 0.003257390636487591), (1133, 0.01163566762831874), (1134, 0.017546262095748198), (1135, 0.01882820087557143), (1136, 0.003624458606547576), (1137, 0.0), (1138, 0.0), (1139, 0.0), (1140, 0.007570740374385313), (1141, 0.0), (1142, 0.0), (1143, 0.0), (1144, 0.002854724941048721), (1145, 0.004320281318734553), (1146, 0.007732227420743627), (1147, 0.0), (1148, 0.004266440091919449), (1149, 0.0), (1150, 0.004075837011188327), (1151, 0.0), (1152, 0.03914685036270795), (1153, 0.016524672968635797), (1154, 0.0), (1155, 0.01890178617989498), (1156, 0.0), (1157, 0.048581270806570376), (1158, 0.0), (1159, 0.0), (1160, 0.0), (1161, 0.0), (1162, 0.0), (1163, 0.03408128064557562), (1164, 0.0), (1165, 0.0), (1166, 0.01608931549758177), (1167, 0.0), (1168, 0.004039885005978146), (1169, 0.0), (1170, 0.0), (1171, 0.0034180042965880676), (1172, 0.0), (1173, 0.0033958368677972097), (1174, 0.0), (1175, 0.016183477246187454), (1176, 0.03847581407102804), (1177, 0.0), (1178, 0.043783766013702215), (1179, 0.007378479648061101), (1180, 0.0), (1181, 0.0), (1182, 0.0), (1183, 0.0034309269106053905), (1184, 0.0), (1185, 0.0040469799708162555), (1186, 0.0), (1187, 0.0), (1188, 0.0), (1189, 0.0), (1190, 0.0), (1191, 0.01084406220141088), (1192, 0.006993063063058419), (1193, 0.0036651379777636836), (1194, 0.0036163447551641466), (1195, 0.016843922487061597), (1196, 0.0033930512941491068), (1197, 0.01711520362113225), (1198, 0.0036079549496921904), (1199, 0.003198122912893831), (1200, 0.0034176225753646443), (1201, 0.013717442621888148), (1202, 0.04938993398298284), (1203, 0.0), (1204, 0.0034411950537234825), (1205, 0.0), (1206, 0.0), (1207, 0.025305181413114122), (1208, 0.008035515473854341), (1209, 0.01609102983950349), (1210, 0.0599094868730046), (1211, 0.01743005970182762), (1212, 0.0), (1213, 0.01117564919000125), (1214, 0.00945782193677752), (1215, 0.01882083373534296), (1216, 0.04041953278156601), (1217, 0.01892137067133945), (1218, 0.0), (1219, 0.01832698658465845), (1220, 0.0), (1221, 0.002872255060462514), (1222, 0.012733775011037483), (1223, 0.007633877652297088), (1224, 0.0), (1225, 0.0), (1226, 0.05643278513020736), (1227, 0.017503252413855853), (1228, 0.018146925772135242), (1229, 0.0), (1230, 0.0), (1231, 0.0), (1232, 0.016677317764823434), (1233, 0.004035653373581477), (1234, 0.003853049609024499), (1235, 0.02048084043203814), (1236, 0.0), (1237, 0.030574560657405915), (1238, 0.0), (1239, 0.00355207728940639), (1240, 0.003452732089212618), (1241, 0.04887378862176479), (1242, 0.0209120595396062), (1243, 0.003827347351099472), (1244, 0.0), (1245, 0.01329459483168728), (1246, 0.0), (1247, 0.016694317715408823), (1248, 0.0), (1249, 0.0), (1250, 0.024272953677427024), (1251, 0.1206089514920449), (1252, 0.0), (1253, 0.026256576267893992), (1254, 0.05742160468037917), (1255, 0.014997121933861452), (1256, 0.0033546382990672055), (1257, 0.07641284522317715), (1258, 0.003910347464413118), (1259, 0.02978031824807378), (1260, 0.0), (1261, 0.0), (1262, 0.0039570725050657824), (1263, 0.020426068003075146), (1264, 0.0), (1265, 0.0), (1266, 0.0), (1267, 0.014231931233858835), (1268, 0.0), (1269, 0.016958400491635623), (1270, 0.019046368617739513), (1271, 0.0), (1272, 0.0), (1273, 0.007422270309446469), (1274, 0.0), (1275, 0.0), (1276, 0.09809078939934543), (1277, 0.00977006997295432), (1278, 0.01987237282807397), (1279, 0.03717393118188099), (1280, 0.0), (1281, 0.0), (1282, 0.031917029968514324), (1283, 0.0034393243152672634), (1284, 0.01471068093313017), (1285, 0.0), (1286, 0.0), (1287, 0.003656929392793613), (1288, 0.013914205237054571), (1289, 0.0), (1290, 0.0), (1291, 0.006638730524576642), (1292, 0.003313169409964429), (1293, 0.0), (1294, 0.0), (1295, 0.022825625388640712), (1296, 0.042023863934559064), (1297, 0.003700161836553483), (1298, 0.00379754058017172), (1299, 0.004164439448635108), (1300, 0.0), (1301, 0.019578907579168994), (1302, 0.0), (1303, 0.003134600349080699), (1304, 0.007299059802710174), (1305, 0.04769739703460326), (1306, 0.020887411389260056), (1307, 0.007453987453110576), (1308, 0.017427945692805074), (1309, 0.003270346250062563), (1310, 0.0036948681801292353), (1311, 0.0), (1312, 0.003282311734688741), (1313, 0.0), (1314, 0.006830117204507609), (1315, 0.0), (1316, 0.0), (1317, 0.0), (1318, 0.0), (1319, 0.007674714786184262), (1320, 0.0), (1321, 0.024271266981257787), (1322, 0.0035931917396228165), (1323, 0.0), (1324, 0.0), (1325, 0.0036752319175442894), (1326, 0.0), (1327, 0.05219269231842131), (1328, 0.0034752346992965445), (1329, 0.0066459254026382045), (1330, 0.0), (1331, 0.0), (1332, 0.004050215155014268), (1333, 0.017238528996004684), (1334, 0.012073234063672276), (1335, 0.0), (1336, 0.0), (1337, 0.0035845460105430626), (1338, 0.0034350144114593468), (1339, 0.05862328312021571), (1340, 0.0), (1341, 0.017318942360764138), (1342, 0.0), (1343, 0.004203510695789858), (1344, 0.026388130082999985), (1345, 0.014990652323788881), (1346, 0.007375826662609054), (1347, 0.0), (1348, 0.003294204213749124), (1349, 0.008378297585033442), (1350, 0.0), (1351, 0.0536712998293566), (1352, 0.003417005416686609), (1353, 0.022895510259499853), (1354, 0.007262346655865636), (1355, 0.0), (1356, 0.05269394464084935), (1357, 0.003135790372079881), (1358, 0.0036100734034725025), (1359, 0.0), (1360, 0.003336685450599372), (1361, 0.0), (1362, 0.0), (1363, 0.0), (1364, 0.03765427131951706), (1365, 0.04298819054641674), (1366, 0.009818981428592563), (1367, 0.0), (1368, 0.003662269848823962), (1369, 0.013071549590726195), (1370, 0.0), (1371, 0.0), (1372, 0.0), (1373, 0.0), (1374, 0.015526098146800518), (1375, 0.04784874175997304), (1376, 0.0), (1377, 0.00872174168045155), (1378, 0.0037244779889379497), (1379, 0.01761612223452539), (1380, 0.0), (1381, 0.0043846652207893055), (1382, 0.0), (1383, 0.0041761017009522465), (1384, 0.003097190789807344), (1385, 0.020493529763358942), (1386, 0.0), (1387, 0.017101930915769382), (1388, 0.0), (1389, 0.0035403054724401947), (1390, 0.024362665400027128), (1391, 0.0), (1392, 0.011546358918041342), (1393, 0.01689309320027476), (1394, 0.006580802176408894), (1395, 0.0034654247177502233), (1396, 0.00368139914842848), (1397, 0.0031673477803329836), (1398, 0.0), (1399, 0.0), (1400, 0.003993965834089398), (1401, 0.012633495199913495), (1402, 0.003929447018270253), (1403, 0.01972228654100705), (1404, 0.018171130395929894), (1405, 0.0), (1406, 0.012133349511095856), (1407, 0.023226403355517518), (1408, 0.0), (1409, 0.0), (1410, 0.0), (1411, 0.01665702934174358), (1412, 0.03366242077179855), (1413, 0.0037193869743730526), (1414, 0.030423844209748974), (1415, 0.003002235226510242), (1416, 0.0), (1417, 0.0), (1418, 0.006921105656702792), (1419, 0.013023337729685194), (1420, 0.006646285317132261), (1421, 0.0), (1422, 0.0), (1423, 0.0), (1424, 0.0), (1425, 0.003162040581896778), (1426, 0.003494026086175739), (1427, 0.04671407368769216), (1428, 0.003144584882251082), (1429, 0.004246593141289895), (1430, 0.03916472578516733), (1431, 0.01733180792149338), (1432, 0.0), (1433, 0.02205208885662751), (1434, 0.0), (1435, 0.0), (1436, 0.0038395977686563314), (1437, 0.0), (1438, 0.0), (1439, 0.0035463392343421116), (1440, 0.0), (1441, 0.003918705776718833), (1442, 0.003359450218522223), (1443, 0.020085916618054332), (1444, 0.0), (1445, 0.01839716436258266), (1446, 0.009897536337876543), (1447, 0.0035541523131342157), (1448, 0.0037797341394577195), (1449, 0.0), (1450, 0.05614894038406633), (1451, 0.0034102721773357327), (1452, 0.0035434922958177567), (1453, 0.020526030508209506), (1454, 0.053837487750271515), (1455, 0.0075476957049704875), (1456, 0.03402898714861708), (1457, 0.0033076702578228876), (1458, 0.03071168746241909), (1459, 0.007146946519357827), (1460, 0.004106261301668543), (1461, 0.0039055977438564164), (1462, 0.0034408725489579947), (1463, 0.0035819691109827967), (1464, 0.005999412850951057), (1465, 0.021160145976766576), (1466, 0.0), (1467, 0.020692535658338496), (1468, 0.05094061162380948), (1469, 0.0), (1470, 0.004129088518315077), (1471, 0.005494471895147868), (1472, 0.027956420735369525), (1473, 0.0), (1474, 0.004131929540195598), (1475, 0.0), (1476, 0.015958039045650883), (1477, 0.0034396773064529294), (1478, 0.04376177637224346), (1479, 0.0), (1480, 0.02203269350849352), (1481, 0.022466238273134927), (1482, 0.003528916347378538), (1483, 0.0035762350334485877), (1484, 0.0), (1485, 0.03670380251479014), (1486, 0.0033452353422617665), (1487, 0.02569311685563066), (1488, 0.0035201595736884792), (1489, 0.029263027518527947), (1490, 0.0), (1491, 0.004368512822288563), (1492, 0.022572881674654023), (1493, 0.020745400144701664), (1494, 0.0230031571994862), (1495, 0.025578340587398073), (1496, 0.03317029709900236), (1497, 0.004162910296728429), (1498, 0.003990000189803321), (1499, 0.003915392660235982), (1500, 0.007120499964735253), (1501, 0.014885947374935864), (1502, 0.0), (1503, 0.033022199742968036), (1504, 0.0), (1505, 0.06608232764844205), (1506, 0.00726386714764589), (1507, 0.013392353824050168), (1508, 0.0), (1509, 0.016314543552056478), (1510, 0.003571705435962421), (1511, 0.020979919526004562), (1512, 0.0), (1513, 0.0), (1514, 0.0), (1515, 0.0074090592146015995), (1516, 0.0), (1517, 0.010801182628064662), (1518, 0.0037326883205788942), (1519, 0.0), (1520, 0.0071866391025158845), (1521, 0.003322145954139765), (1522, 0.0077989032055828834), (1523, 0.0), (1524, 0.0031032146866808922), (1525, 0.0036752098587226304), (1526, 0.018897833245129173), (1527, 0.0), (1528, 0.0), (1529, 0.015146520099744825), (1530, 0.003069965964089448), (1531, 0.0), (1532, 0.0), (1533, 0.0), (1534, 0.0), (1535, 0.003666395420030109), (1536, 0.0038355738856972912), (1537, 0.008224120110003915), (1538, 0.0), (1539, 0.014489618925095867), (1540, 0.0), (1541, 0.0), (1542, 0.0), (1543, 0.0), (1544, 0.0657012768249134), (1545, 0.0), (1546, 0.0029099069391800647), (1547, 0.008002209283422648), (1548, 0.004521287585932207), (1549, 0.0), (1550, 0.04551170716853542), (1551, 0.003495246618042489), (1552, 0.0), (1553, 0.005694023531258674), (1554, 0.0), (1555, 0.006596523408012327), (1556, 0.0), (1557, 0.0038973555274211653), (1558, 0.0), (1559, 0.029746130830722486), (1560, 0.0), (1561, 0.01640198210661345), (1562, 0.036052474397141224), (1563, 0.0), (1564, 0.016982755453557697), (1565, 0.0), (1566, 0.0), (1567, 0.0), (1568, 0.045902801097093035), (1569, 0.013117529057667193), (1570, 0.039730924249007024), (1571, 0.0), (1572, 0.0), (1573, 0.00327962026150937), (1574, 0.055859954006910593), (1575, 0.0), (1576, 0.0), (1577, 0.025876501294591386), (1578, 0.0), (1579, 0.01009086388737883), (1580, 0.014263851737321467), (1581, 0.008083172226158187), (1582, 0.024140227694863455), (1583, 0.0), (1584, 0.041608256152081684), (1585, 0.0), (1586, 0.08311743740823736), (1587, 0.008275949041190854), (1588, 0.017863620345978354), (1589, 0.0), (1590, 0.0031754331991636162), (1591, 0.0), (1592, 0.0034998209319099926), (1593, 0.0), (1594, 0.007265084238294228), (1595, 0.0032372575306072295), (1596, 0.004064899627595114), (1597, 0.003324843786862516), (1598, 0.0065791745871723656), (1599, 0.012472685001137428), (1600, 0.0), (1601, 0.0), (1602, 0.0), (1603, 0.019883730028081515), (1604, 0.020501171180838704), (1605, 0.0), (1606, 0.006764363808170931), (1607, 0.003751399239255064), (1608, 0.01160777960528337), (1609, 0.03792198583533109), (1610, 0.02378758847383751), (1611, 0.015443015708751173), (1612, 0.013228899190878395), (1613, 0.0), (1614, 0.02511175548201983), (1615, 0.003925277403500569), (1616, 0.02528455980249139), (1617, 0.006894467144301931), (1618, 0.0), (1619, 0.0034708592757174057), (1620, 0.0036604346724950724), (1621, 0.0), (1622, 0.0033369621419241905), (1623, 0.0), (1624, 0.0), (1625, 0.0), (1626, 0.016731905079198785), (1627, 0.0), (1628, 0.0), (1629, 0.018193116691105887), (1630, 0.007345179255765946), (1631, 0.005924747687711881), (1632, 0.013346694991936288), (1633, 0.0033548463598232596), (1634, 0.022268545528395335), (1635, 0.0), (1636, 0.0), (1637, 0.0), (1638, 0.003665458516118877), (1639, 0.0), (1640, 0.0036551289476985604), (1641, 0.0035031186617260376), (1642, 0.0035455250611117627), (1643, 0.003810028460362902), (1644, 0.0), (1645, 0.027487226276735867), (1646, 0.10216636289822616), (1647, 0.026045587908037217), (1648, 0.008011406624058921), (1649, 0.012506613741420307), (1650, 0.006172557694019622), (1651, 0.0), (1652, 0.006059331777272675), (1653, 0.0), (1654, 0.0), (1655, 0.0), (1656, 0.0), (1657, 0.0034234598249817784), (1658, 0.0), (1659, 0.0), (1660, 0.0035912046655136552), (1661, 0.0), (1662, 0.003353133971620313), (1663, 0.0), (1664, 0.037059833609071446), (1665, 0.003675816244231498), (1666, 0.03890446669371875), (1667, 0.0034937536567942913), (1668, 0.010379963448100871), (1669, 0.0), (1670, 0.0), (1671, 0.0), (1672, 0.01908843717861337), (1673, 0.0), (1674, 0.0), (1675, 0.009198255149682847), (1676, 0.041516123347185595), (1677, 0.030996469612579194), (1678, 0.003460497633293852), (1679, 0.016413581916782764), (1680, 0.0), (1681, 0.0038903301990268787), (1682, 0.036224304189659794), (1683, 0.0034705308275450666), (1684, 0.0), (1685, 0.0), (1686, 0.0), (1687, 0.0), (1688, 0.003671675898013371), (1689, 0.0037462367123830688), (1690, 0.0), (1691, 0.0029516594615413587), (1692, 0.019575379643533147), (1693, 0.0), (1694, 0.04494932168737901), (1695, 0.0), (1696, 0.017730765276679453), (1697, 0.0), (1698, 0.041574595783251435), (1699, 0.0), (1700, 0.05981400869079883), (1701, 0.020141017843680914), (1702, 0.003582363374520134), (1703, 0.04473888919210166), (1704, 0.003690279447430821), (1705, 0.0), (1706, 0.0), (1707, 0.0060774977278934056), (1708, 0.0), (1709, 0.01001983895387549), (1710, 0.0036385434478619014), (1711, 0.004053309145734094), (1712, 0.0), (1713, 0.0), (1714, 0.06594339734823329), (1715, 0.0), (1716, 0.0), (1717, 0.0), (1718, 0.016491657849665234), (1719, 0.006092100664189121), (1720, 0.0), (1721, 0.0), (1722, 0.0), (1723, 0.011011275349675935), (1724, 0.056952432696870614), (1725, 0.030182624249310844), (1726, 0.023589862650570306), (1727, 0.0038304867839689016), (1728, 0.0), (1729, 0.0033807617563185724), (1730, 0.0), (1731, 0.004208270473484982), (1732, 0.00430803569092851), (1733, 0.004097346486433414), (1734, 0.016790752098625863), (1735, 0.0), (1736, 0.0038138611209376796), (1737, 0.0), (1738, 0.0035446714447315243), (1739, 0.0), (1740, 0.0037289361612922707), (1741, 0.0), (1742, 0.0075198091410351615), (1743, 0.04732187057353065), (1744, 0.0), (1745, 0.0), (1746, 0.0035370757021860907), (1747, 0.0), (1748, 0.0), (1749, 0.0), (1750, 0.003566391510744476), (1751, 0.00717639753685182), (1752, 0.0031640518754040715), (1753, 0.0), (1754, 0.0), (1755, 0.0069871893265323875), (1756, 0.006442629682370093), (1757, 0.014891239050895861), (1758, 0.0620260601786274), (1759, 0.0), (1760, 0.04329061936672298), (1761, 0.004011508563600101), (1762, 0.010957942875542262), (1763, 0.0), (1764, 0.003112897251677454), (1765, 0.007433871507215478), (1766, 0.0), (1767, 0.0), (1768, 0.003399468299600347), (1769, 0.011678187282935968), (1770, 0.0), (1771, 0.0), (1772, 0.003197780699425439), (1773, 0.0), (1774, 0.015715178165388012), (1775, 0.0038892228757143326), (1776, 0.02972886648562507), (1777, 0.012716693982031676), (1778, 0.019544923402314122), (1779, 0.017285350096693415), (1780, 0.0), (1781, 0.007000979069394907), (1782, 0.006703981724504657), (1783, 0.0), (1784, 0.02317440494237595), (1785, 0.0), (1786, 0.0), (1787, 0.006728199542883696), (1788, 0.00985389865251131), (1789, 0.044485062885122204), (1790, 0.0), (1791, 0.021421171736277816), (1792, 0.0), (1793, 0.003326622327677086), (1794, 0.04213379813124952), (1795, 0.0062898685982385235), (1796, 0.0), (1797, 0.022775570596950876), (1798, 0.003980451612952094), (1799, 0.047480887173171386), (1800, 0.0), (1801, 0.0), (1802, 0.010052454433111362), (1803, 0.01374865426592278), (1804, 0.012176907319336032), (1805, 0.0), (1806, 0.0), (1807, 0.0034589563331611337), (1808, 0.027012801327832833), (1809, 0.0), (1810, 0.004049537285375637), (1811, 0.015854838494541185), (1812, 0.003858411868297192), (1813, 0.09170142706728827), (1814, 0.021419843059614654), (1815, 0.0), (1816, 0.014213069913587638), (1817, 0.042522394270837094), (1818, 0.018197611280077398), (1819, 0.0), (1820, 0.0), (1821, 0.0), (1822, 0.0), (1823, 0.0066238998348172465), (1824, 0.03276013543489768), (1825, 0.007075601882683943), (1826, 0.003414985581348043), (1827, 0.018367640387361314), (1828, 0.02622604628422256), (1829, 0.016793228825105467), (1830, 0.0), (1831, 0.0), (1832, 0.0), (1833, 0.0), (1834, 0.08190963947454726), (1835, 0.0), (1836, 0.0), (1837, 0.0), (1838, 0.0), (1839, 0.0034617688580723884), (1840, 0.0031238571638400577), (1841, 0.007270497807210569), (1842, 0.05711675733596584), (1843, 0.0), (1844, 0.0), (1845, 0.04972185340246526), (1846, 0.0), (1847, 0.0), (1848, 0.0), (1849, 0.025862674230807247), (1850, 0.002804721101345789), (1851, 0.004002344589569847), (1852, 0.016547352482812954), (1853, 0.0), (1854, 0.0), (1855, 0.04151041179345276), (1856, 0.0), (1857, 0.006709516835124422), (1858, 0.007046745043437178), (1859, 0.012124935188428438), (1860, 0.003731946204146261), (1861, 0.0026046062061057624), (1862, 0.05279721879041599), (1863, 0.0), (1864, 0.0), (1865, 0.010634075308792467), (1866, 0.0), (1867, 0.0), (1868, 0.03637982198072437), (1869, 0.01972500700831223), (1870, 0.0032361766558031795), (1871, 0.022279046644717533), (1872, 0.0), (1873, 0.021599085256933114), (1874, 0.0), (1875, 0.0), (1876, 0.02926431100967055), (1877, 0.0), (1878, 0.0031545745324306645), (1879, 0.0), (1880, 0.0034664286127342506), (1881, 0.00387400867183183), (1882, 0.004034006939561133), (1883, 0.0), (1884, 0.0), (1885, 0.004139332811304901), (1886, 0.0), (1887, 0.02731903099047977), (1888, 0.03684745224658211), (1889, 0.003559777784602957), (1890, 0.0), (1891, 0.03289627079384598), (1892, 0.0036216451788291457), (1893, 0.003813313464931283), (1894, 0.003999753440616539), (1895, 0.0038804919592502194), (1896, 0.0), (1897, 0.0), (1898, 0.0), (1899, 0.0), (1900, 0.0031100827413623796), (1901, 0.0), (1902, 0.0), (1903, 0.07183569012027893), (1904, 0.023953717279428702), (1905, 0.0), (1906, 0.0), (1907, 0.003854981949423136), (1908, 0.007031123490490921), (1909, 0.0), (1910, 0.02772337685017543), (1911, 0.0), (1912, 0.0), (1913, 0.0), (1914, 0.021091534733766466), (1915, 0.006972303518973588), (1916, 0.003789215320171123), (1917, 0.0), (1918, 0.0), (1919, 0.008599806625257967), (1920, 0.039182136429090325), (1921, 0.017243513227562606), (1922, 0.0), (1923, 0.0037001347313116097), (1924, 0.0), (1925, 0.022041645057151858), (1926, 0.01908505767681667), (1927, 0.0), (1928, 0.0), (1929, 0.003157952919259834), (1930, 0.0035122842749962324), (1931, 0.01602795247897432), (1932, 0.021553118707712322), (1933, 0.04798598170776305), (1934, 0.01828431168659441), (1935, 0.0230094243036175), (1936, 0.0038570831744752926), (1937, 0.04097107359224945), (1938, 0.0), (1939, 0.0), (1940, 0.0), (1941, 0.0), (1942, 0.003667543663226765), (1943, 0.003180324059717498), (1944, 0.03797219594922065), (1945, 0.003812823915113171), (1946, 0.0036571611268952486), (1947, 0.0), (1948, 0.04271670039227589), (1949, 0.0036083725806825722), (1950, 0.00301404527070001), (1951, 0.003687870623212964), (1952, 0.007957672480626107), (1953, 0.031557106325659987), (1954, 0.003208339242866698), (1955, 0.0), (1956, 0.0), (1957, 0.005745793327817269), (1958, 0.0), (1959, 0.0), (1960, 0.0), (1961, 0.02158190999955407), (1962, 0.0), (1963, 0.0), (1964, 0.0876045451276642), (1965, 0.0), (1966, 0.0), (1967, 0.0171454970339575), (1968, 0.004045313166856933), (1969, 0.02116151563841934), (1970, 0.0), (1971, 0.0032076855321571066), (1972, 0.0), (1973, 0.00396335351789715), (1974, 0.08126424686139046), (1975, 0.0), (1976, 0.0), (1977, 0.0032278748508758537), (1978, 0.012020211797036417), (1979, 0.0), (1980, 0.0), (1981, 0.002751816053344364), (1982, 0.007147031381436344), (1983, 0.0), (1984, 0.003543723020152337), (1985, 0.003504909220873793), (1986, 0.0), (1987, 0.002438595474511653), (1988, 0.0033553044039363426), (1989, 0.0029557100087563236), (1990, 0.003293001548858861), (1991, 0.0035969133455689365), (1992, 0.030976134931767832), (1993, 0.015923793336235417), (1994, 0.0030805670241601615), (1995, 0.0), (1996, 0.0), (1997, 0.0075814340576532855), (1998, 0.027152702376842367), (1999, 0.0), (2000, 0.0344406739268308), (2001, 0.0029357812270262157), (2002, 0.0), (2003, 0.0033887276451149404), (2004, 0.0), (2005, 0.04561862959204557), (2006, 0.01794012887884682), (2007, 0.011054564351099718), (2008, 0.0), (2009, 0.0), (2010, 0.002913850835148332), (2011, 0.0), (2012, 0.00401724959385608), (2013, 0.003038424653276831), (2014, 0.027748009277975914), (2015, 0.0), (2016, 0.11475736045174803), (2017, 0.007508791797433104), (2018, 0.0031254107809746677), (2019, 0.003738269747852659), (2020, 0.0), (2021, 0.0036704145318134855), (2022, 0.02925502783577387), (2023, 0.003135732294982915), (2024, 0.0035065933227347228), (2025, 0.0), (2026, 0.0), (2027, 0.006849095560871894), (2028, 0.0), (2029, 0.003413346943075043), (2030, 0.0), (2031, 0.006294044997392311), (2032, 0.007423297097976864), (2033, 0.0), (2034, 0.020362837745029345), (2035, 0.0), (2036, 0.019387105175050677), (2037, 0.015985810872741923), (2038, 0.0), (2039, 0.01821999035317875), (2040, 0.0), (2041, 0.0033456103825874445), (2042, 0.007984150074460091), (2043, 0.010193439439013156), (2044, 0.0), (2045, 0.007266849445787221), (2046, 0.0), (2047, 0.006210324293619132), (2048, 0.007284451458729919), (2049, 0.0), (2050, 0.01584154105707639), (2051, 0.0), (2052, 0.003354797185186986), (2053, 0.012346082523324923), (2054, 0.0), (2055, 0.02388123724233252), (2056, 0.0037811863682326472), (2057, 0.0), (2058, 0.003017498500029057), (2059, 0.036022614222909255), (2060, 0.03257473009838382), (2061, 0.06819944992836428), (2062, 0.007165205747200694), (2063, 0.0028799776172974546), (2064, 0.01722300314273179), (2065, 0.0034488491765781153), (2066, 0.004126405522696671), (2067, 0.0), (2068, 0.0), (2069, 0.0), (2070, 0.006266900407374884), (2071, 0.003660767611670732), (2072, 0.003360031931214564), (2073, 0.02526381628231163), (2074, 0.01966094285905544), (2075, 0.0), (2076, 0.0), (2077, 0.0), (2078, 0.0), (2079, 0.003926403191348739), (2080, 0.0), (2081, 0.0), (2082, 0.0040119227284479714), (2083, 0.0), (2084, 0.0), (2085, 0.0268665059529447), (2086, 0.02573676750514967), (2087, 0.0), (2088, 0.018930526082146945), (2089, 0.0), (2090, 0.0), (2091, 0.0), (2092, 0.0), (2093, 0.0), (2094, 0.01678811365835846), (2095, 0.003579145046211475), (2096, 0.0), (2097, 0.04186646378709094), (2098, 0.021847053017346237), (2099, 0.0), (2100, 0.03616100357952978), (2101, 0.012110888538149508), (2102, 0.04237350607393205), (2103, 0.012406569183623711), (2104, 0.04367502499160462), (2105, 0.0038990512744158006), (2106, 0.0037727862162000225), (2107, 0.0), (2108, 0.003848755528607891), (2109, 0.022423544999541918), (2110, 0.0), (2111, 0.02592694439283723), (2112, 0.0036049571383449694), (2113, 0.0028368569931445787), (2114, 0.032268210909926896), (2115, 0.0), (2116, 0.004022563013543007), (2117, 0.0), (2118, 0.035205266826310186), (2119, 0.04841203738424387), (2120, 0.0030874241588598854), (2121, 0.015777753260021322), (2122, 0.012262962630164149), (2123, 0.0), (2124, 0.0), (2125, 0.0), (2126, 0.0036565597421002968), (2127, 0.0), (2128, 0.003702741055379195), (2129, 0.0), (2130, 0.0), (2131, 0.00336284978661781), (2132, 0.0), (2133, 0.0), (2134, 0.0), (2135, 0.0), (2136, 0.003638244917265657), (2137, 0.0), (2138, 0.05098196405648329), (2139, 0.003534003805532849), (2140, 0.027555883711555703), (2141, 0.0), (2142, 0.0), (2143, 0.0), (2144, 0.0), (2145, 0.07070545014883975), (2146, 0.0032582026166906863), (2147, 0.003974420825571601), (2148, 0.0), (2149, 0.0), (2150, 0.0), (2151, 0.0), (2152, 0.0031279684207695868), (2153, 0.0), (2154, 0.0), (2155, 0.02341486913341756), (2156, 0.005959006841432286), (2157, 0.0), (2158, 0.017735806352052127), (2159, 0.0), (2160, 0.006836085224588523), (2161, 0.0758619341776897), (2162, 0.0), (2163, 0.0032840955869381), (2164, 0.0), (2165, 0.00395256264310259), (2166, 0.0), (2167, 0.020214077909901117), (2168, 0.0), (2169, 0.0075497087048136515), (2170, 0.022280150040437565), (2171, 0.0), (2172, 0.0032899971567034647), (2173, 0.017293889777450937), (2174, 0.012540592901225637), (2175, 0.01844882936726929), (2176, 0.0), (2177, 0.019628941407449474), (2178, 0.003375422834735654), (2179, 0.0), (2180, 0.007595976520349802), (2181, 0.0), (2182, 0.0), (2183, 0.0), (2184, 0.03872056046751539), (2185, 0.01799354418718479), (2186, 0.0), (2187, 0.01746044534848007), (2188, 0.0), (2189, 0.004203743900331321), (2190, 0.0529409122171905), (2191, 0.012467650836194766), (2192, 0.0), (2193, 0.0030715782261958244), (2194, 0.0), (2195, 0.028096084909534885), (2196, 0.02108189397402451), (2197, 0.060924326795425504), (2198, 0.0032970764057326444), (2199, 0.0), (2200, 0.014587438561384941), (2201, 0.0), (2202, 0.0), (2203, 0.0), (2204, 0.018011250649322127), (2205, 0.0), (2206, 0.016621326116642486), (2207, 0.0), (2208, 0.0), (2209, 0.0), (2210, 0.0), (2211, 0.019082621435462892), (2212, 0.031630785421477785), (2213, 0.0), (2214, 0.0), (2215, 0.007240871417034569), (2216, 0.0), (2217, 0.0), (2218, 0.045485437598101905), (2219, 0.0), (2220, 0.012139649966175893), (2221, 0.05315901871967953), (2222, 0.01899683904178328), (2223, 0.0), (2224, 0.006461788002272362), (2225, 0.002956727038516793), (2226, 0.01843560077971798), (2227, 0.036015564295438555), (2228, 0.0), (2229, 0.0), (2230, 0.0), (2231, 0.0), (2232, 0.038495367850698986), (2233, 0.0), (2234, 0.02965871005235752), (2235, 0.0282725484723124), (2236, 0.01832252968750358), (2237, 0.026056850814942648), (2238, 0.0), (2239, 0.01066881673313253), (2240, 0.0), (2241, 0.006673015432487248), (2242, 0.0037912399267923265), (2243, 0.0), (2244, 0.0034577969790967993), (2245, 0.018914913614747245), (2246, 0.003828819187106581), (2247, 0.0), (2248, 0.0), (2249, 0.0), (2250, 0.04296171874139111), (2251, 0.0), (2252, 0.007819842391360809), (2253, 0.0), (2254, 0.00374549257344329), (2255, 0.0), (2256, 0.0), (2257, 0.004126944115555281), (2258, 0.0), (2259, 0.003919836015808668), (2260, 0.0), (2261, 0.0036525282336622804), (2262, 0.017690066083366922), (2263, 0.01428751070703205), (2264, 0.022734692595202576), (2265, 0.0), (2266, 0.022298061242002332), (2267, 0.004157034972938353), (2268, 0.024986219194705044), (2269, 0.0), (2270, 0.0), (2271, 0.0), (2272, 0.011500963827301498), (2273, 0.0037388442307434867), (2274, 0.019043013186735937), (2275, 0.0), (2276, 0.0), (2277, 0.0), (2278, 0.003980823451556197), (2279, 0.0), (2280, 0.05443465277902653), (2281, 0.0), (2282, 0.0), (2283, 0.034972611372381515), (2284, 0.003739001106810928), (2285, 0.013100190587365848), (2286, 0.0), (2287, 0.009220278885688235), (2288, 0.0), (2289, 0.0034441100269960814), (2290, 0.06341390044165336), (2291, 0.003094176853673363), (2292, 0.0039212806031668134), (2293, 0.0), (2294, 0.0032213194631389866), (2295, 0.0), (2296, 0.005594220496372679), (2297, 0.024725385655022674), (2298, 0.0036109284083122462), (2299, 0.053291254020170514), (2300, 0.003261896974911791), (2301, 0.0033171475790773394), (2302, 0.0041712049420201775), (2303, 0.038601624731765156), (2304, 0.011949510571098077), (2305, 0.0036935782122766176), (2306, 0.0044563621791209925), (2307, 0.0), (2308, 0.0), (2309, 0.0), (2310, 0.0), (2311, 0.016910731164538517), (2312, 0.0), (2313, 0.0), (2314, 0.0), (2315, 0.0033628399352834595), (2316, 0.0), (2317, 0.01662125653804165), (2318, 0.005892359924259302), (2319, 0.0), (2320, 0.010925532128585172), (2321, 0.08261162408773462), (2322, 0.08505696653327234), (2323, 0.0), (2324, 0.004134546920090647), (2325, 0.0), (2326, 0.01295119060636488), (2327, 0.01205988559727054), (2328, 0.0), (2329, 0.0), (2330, 0.0), (2331, 0.0), (2332, 0.0), (2333, 0.0), (2334, 0.0037620611138975725), (2335, 0.05295917337180784), (2336, 0.0), (2337, 0.0034083935820520945), (2338, 0.00993556582636976), (2339, 0.0036920428352850226), (2340, 0.05734311639357283), (2341, 0.0041875664250874915), (2342, 0.0), (2343, 0.0), (2344, 0.0035661810710382307), (2345, 0.0220203419352727), (2346, 0.0), (2347, 0.012879442900483642), (2348, 0.0), (2349, 0.0), (2350, 0.0), (2351, 0.004263344227807685), (2352, 0.00310260264324474), (2353, 0.03199891732348732), (2354, 0.02099724978993527), (2355, 0.0), (2356, 0.0), (2357, 0.0034096011608190147), (2358, 0.0), (2359, 0.046286219375825964), (2360, 0.041536649980398355), (2361, 0.00413820577806317), (2362, 0.0), (2363, 0.007587762054297709), (2364, 0.0), (2365, 0.004174369100000292), (2366, 0.024315250174924048), (2367, 0.01889380563828479), (2368, 0.016913401589914424), (2369, 0.0), (2370, 0.0), (2371, 0.0), (2372, 0.004297143423364495), (2373, 0.0), (2374, 0.00363370366513219), (2375, 0.01610391968770611), (2376, 0.005318887441413353), (2377, 0.012645749683472225), (2378, 0.0038224900289577485), (2379, 0.0), (2380, 0.0), (2381, 0.0), (2382, 0.01676184107270377), (2383, 0.0), (2384, 0.0), (2385, 0.0), (2386, 0.0), (2387, 0.01578174548694812), (2388, 0.0), (2389, 0.0), (2390, 0.004143655038443179), (2391, 0.0), (2392, 0.044888889788613266), (2393, 0.003927438328896916), (2394, 0.0), (2395, 0.0), (2396, 0.0), (2397, 0.0), (2398, 0.03484850647913033), (2399, 0.011705170534908861), (2400, 0.0033425342979817464), (2401, 0.0), (2402, 0.0), (2403, 0.0), (2404, 0.01881442345382836), (2405, 0.0035798463368540714), (2406, 0.03787481905111491), (2407, 0.0), (2408, 0.01636241965702565), (2409, 0.014831703122849621), (2410, 0.0), (2411, 0.0), (2412, 0.005434706221820693), (2413, 0.02682816243672422), (2414, 0.006630117399940394), (2415, 0.0), (2416, 0.0031345074046186844), (2417, 0.0), (2418, 0.0251618586982906), (2419, 0.0), (2420, 0.0), (2421, 0.012319641523842795), (2422, 0.006703367216749011), (2423, 0.0), (2424, 0.0), (2425, 0.0036979540746819063), (2426, 0.008614906195411925), (2427, 0.007493537518514776), (2428, 0.0), (2429, 0.0), (2430, 0.018785813321802104), (2431, 0.0), (2432, 0.0), (2433, 0.042584208063626804), (2434, 0.0), (2435, 0.016000607834422236), (2436, 0.003549742372024424), (2437, 0.0), (2438, 0.0), (2439, 0.003105423676688535), (2440, 0.0), (2441, 0.0), (2442, 0.030076891433668918), (2443, 0.0827613686796853), (2444, 0.003205667308555895), (2445, 0.05866856511069667), (2446, 0.0035263310354213206), (2447, 0.002923614810334768), (2448, 0.0037934520477304686), (2449, 0.0), (2450, 0.0032923692253473925), (2451, 0.0), (2452, 0.0), (2453, 0.0), (2454, 0.0), (2455, 0.0), (2456, 0.0), (2457, 0.01950379447115164), (2458, 0.006624910628930557), (2459, 0.0), (2460, 0.0), (2461, 0.0036718137011084416), (2462, 0.003998192239770898), (2463, 0.0), (2464, 0.0), (2465, 0.0), (2466, 0.0), (2467, 0.0), (2468, 0.0), (2469, 0.0), (2470, 0.0034710711218907076), (2471, 0.0), (2472, 0.017781729073214344), (2473, 0.021419644583699774), (2474, 0.00802178620721818), (2475, 0.003746443437226092), (2476, 0.03582834721095969), (2477, 0.0), (2478, 0.004059501010986747), (2479, 0.0), (2480, 0.003433659183521809), (2481, 0.018161249749305032), (2482, 0.0), (2483, 0.0), (2484, 0.00405152615774601), (2485, 0.021180992263085938), (2486, 0.0), (2487, 0.003956565534541511), (2488, 0.003789806187257057), (2489, 0.0), (2490, 0.004419534988872692), (2491, 0.0032591628246528962), (2492, 0.006101682726400929), (2493, 0.038853551897145185), (2494, 0.02377279945564118), (2495, 0.0), (2496, 0.026482890116924306), (2497, 0.0), (2498, 0.006554895938279121), (2499, 0.0), (2500, 0.0), (2501, 0.0037191308789824504), (2502, 0.053063742186367224), (2503, 0.006478336570883713), (2504, 0.016798477828089554), (2505, 0.0), (2506, 0.0), (2507, 0.0), (2508, 0.012488453960555226), (2509, 0.06565335691657598), (2510, 0.004192381173757482), (2511, 0.006626388386115078), (2512, 0.0), (2513, 0.012391067543097326), (2514, 0.014332151966827609), (2515, 0.0), (2516, 0.0), (2517, 0.03384594547508969), (2518, 0.0038234041260576004), (2519, 0.0), (2520, 0.009998299658552557), (2521, 0.0), (2522, 0.0040488448111501586), (2523, 0.0), (2524, 0.039551563030600874), (2525, 0.015495304662023167), (2526, 0.01584938422249899), (2527, 0.01094467658633396), (2528, 0.0), (2529, 0.0), (2530, 0.003976223973635288), (2531, 0.0032035362676812755), (2532, 0.0), (2533, 0.0205579081834525), (2534, 0.004553422381869037), (2535, 0.0), (2536, 0.0), (2537, 0.003875358142341491), (2538, 0.0), (2539, 0.0), (2540, 0.04330727633533341), (2541, 0.009807340908450481), (2542, 0.0033683593288352945), (2543, 0.0), (2544, 0.00231625508755411), (2545, 0.0), (2546, 0.003776121287497542), (2547, 0.004338314445292695), (2548, 0.024912889523651036), (2549, 0.002956396132895565), (2550, 0.009488124167822336), (2551, 0.0), (2552, 0.01759600329356402), (2553, 0.026548775664709458), (2554, 0.022640518058645896), (2555, 0.0), (2556, 0.0), (2557, 0.0), (2558, 0.01507912272269974), (2559, 0.0), (2560, 0.022839394512047542), (2561, 0.0), (2562, 0.020173288216504402), (2563, 0.03553782679656943), (2564, 0.0036910497381691513), (2565, 0.003983194355204913), (2566, 0.007478953687073318), (2567, 0.0), (2568, 0.0), (2569, 0.0), (2570, 0.023000636051205347), (2571, 0.0), (2572, 0.0035365729215165943), (2573, 0.018247675205734563), (2574, 0.0036739824352724475), (2575, 0.0), (2576, 0.0), (2577, 0.0), (2578, 0.0207392077138993), (2579, 0.0), (2580, 0.04820001306764697), (2581, 0.0036578265303400196), (2582, 0.0066708968590460695), (2583, 0.01712003454531104), (2584, 0.04160180447839772), (2585, 0.040572292429492174), (2586, 0.022328428813563173), (2587, 0.003273623420173104), (2588, 0.04647992753314768), (2589, 0.0), (2590, 0.0), (2591, 0.09540301529890659), (2592, 0.0), (2593, 0.0), (2594, 0.0), (2595, 0.0), (2596, 0.0), (2597, 0.0), (2598, 0.0), (2599, 0.0040237552087085075), (2600, 0.0), (2601, 0.011780628526314403), (2602, 0.0), (2603, 0.02039907590545752), (2604, 0.0), (2605, 0.003822681848695024), (2606, 0.0), (2607, 0.0), (2608, 0.003199961666053175), (2609, 0.0037653454556460454), (2610, 0.00814533404910787), (2611, 0.0030807472425455657), (2612, 0.01973380507499671), (2613, 0.0), (2614, 0.003959958788239976), (2615, 0.03834881646870548), (2616, 0.013349676365251802), (2617, 0.005957240125493695), (2618, 0.0), (2619, 0.003778457213449977), (2620, 0.0), (2621, 0.0032778836988482944), (2622, 0.0031807721096039207), (2623, 0.09565625673949023), (2624, 0.006741115611734596), (2625, 0.007616756770252943), (2626, 0.026654442170111148), (2627, 0.003203378184171517), (2628, 0.0), (2629, 0.0), (2630, 0.003701752084183266), (2631, 0.0029845634943328806), (2632, 0.021380966769293176), (2633, 0.017657275217571364), (2634, 0.0), (2635, 0.003948716832618894), (2636, 0.016892522944538788), (2637, 0.013592682830350273), (2638, 0.0), (2639, 0.003680444326645865), (2640, 0.0033788695172212867), (2641, 0.003573681516004664), (2642, 0.0190391452249205), (2643, 0.004311729323283541), (2644, 0.01918641321632378), (2645, 0.0), (2646, 0.03702177903898875), (2647, 0.14504514123846649), (2648, 0.0), (2649, 0.06610938921903009), (2650, 0.007104987406902344), (2651, 0.003183555335563544), (2652, 0.01414605119691522), (2653, 0.003444267130711464), (2654, 0.006083110409792903), (2655, 0.0), (2656, 0.007554949196111034), (2657, 0.0043537890748657024), (2658, 0.0062582415519781285), (2659, 0.004274020309545437), (2660, 0.04778393001910888), (2661, 0.0), (2662, 0.04381097199099481), (2663, 0.011154426684871918), (2664, 0.0436892114592351), (2665, 0.008479229611840031), (2666, 0.01958228298387889), (2667, 0.045812573513474134), (2668, 0.06189575497618406), (2669, 0.0), (2670, 0.0035408123362917093), (2671, 0.00871751911936678), (2672, 0.0), (2673, 0.0038083973642638264), (2674, 0.0), (2675, 0.0031948656644368864), (2676, 0.0), (2677, 0.020630275915218637), (2678, 0.005081221517916569), (2679, 0.0033564566187215773), (2680, 0.006583932809849746), (2681, 0.0), (2682, 0.08171734155597084), (2683, 0.003955226502628369), (2684, 0.0038131240057414843), (2685, 0.0), (2686, 0.016280821941800385), (2687, 0.011510618583966742), (2688, 0.0031084520893611225), (2689, 0.0035124337461782), (2690, 0.0), (2691, 0.004167102614728214), (2692, 0.0), (2693, 0.0), (2694, 0.00904601174918652), (2695, 0.00365784864471365), (2696, 0.01604521377062029), (2697, 0.0), (2698, 0.003514750055701025), (2699, 0.0), (2700, 0.0), (2701, 0.0), (2702, 0.004316156418170623), (2703, 0.0), (2704, 0.0), (2705, 0.0), (2706, 0.0031961977486695764), (2707, 0.0), (2708, 0.003917149165762001), (2709, 0.0035358949438904995), (2710, 0.025011404238849625), (2711, 0.0033246327169024316), (2712, 0.01815765902315596), (2713, 0.0), (2714, 0.0), (2715, 0.0), (2716, 0.0), (2717, 0.0), (2718, 0.0), (2719, 0.0), (2720, 0.02953714101331089), (2721, 0.0), (2722, 0.004220405309441139), (2723, 0.0), (2724, 0.006456065789105534), (2725, 0.007359362999081779), (2726, 0.0), (2727, 0.0), (2728, 0.0), (2729, 0.018736266057393598), (2730, 0.01322632505391213), (2731, 0.0), (2732, 0.00741250096136196), (2733, 0.004049015462345233), (2734, 0.005044736355227601), (2735, 0.0), (2736, 0.0), (2737, 0.004609535329222026), (2738, 0.01599624462080372), (2739, 0.0), (2740, 0.0034905135443145416), (2741, 0.0), (2742, 0.0), (2743, 0.0), (2744, 0.0), (2745, 0.0036224493444695885), (2746, 0.027075691493075718), (2747, 0.05864446605578371), (2748, 0.0), (2749, 0.02124414590715743), (2750, 0.0), (2751, 0.010117491953646827), (2752, 0.02148184978262236), (2753, 0.05134264751952435), (2754, 0.0), (2755, 0.007246621466217749), (2756, 0.0), (2757, 0.0044483308353630265), (2758, 0.0), (2759, 0.05125332120540207), (2760, 0.026881848645054593), (2761, 0.020779623736671166), (2762, 0.02745270961555974), (2763, 0.00623282754789849), (2764, 0.0), (2765, 0.006667121525062116), (2766, 0.0330268844090721), (2767, 0.0), (2768, 0.01482038620683434), (2769, 0.013122025848660557), (2770, 0.019273726661103635), (2771, 0.01599409848863805), (2772, 0.0), (2773, 0.0), (2774, 0.006148425586480928), (2775, 0.0041851125184964285), (2776, 0.003641633092980746), (2777, 0.0033247403618238574), (2778, 0.0), (2779, 0.0), (2780, 0.0), (2781, 0.0), (2782, 0.01551473905107924), (2783, 0.0), (2784, 0.0), (2785, 0.0), (2786, 0.0), (2787, 0.0), (2788, 0.019068900522878705), (2789, 0.022597893725229114), (2790, 0.007670827669047841), (2791, 0.006664925215852684), (2792, 0.007095745941967953), (2793, 0.02357024087292531), (2794, 0.0), (2795, 0.0), (2796, 0.016451376045856673), (2797, 0.0), (2798, 0.016705624051127327), (2799, 0.0), (2800, 0.0), (2801, 0.017888437186320712), (2802, 0.0), (2803, 0.0), (2804, 0.0), (2805, 0.011500850692782963), (2806, 0.0), (2807, 0.006249183220908215), (2808, 0.0071326861318606665), (2809, 0.016827396481013827), (2810, 0.0035328376737242518), (2811, 0.0039036827044033897), (2812, 0.0), (2813, 0.06051264809002945), (2814, 0.03972743653831363), (2815, 0.0), (2816, 0.0036426436216679854), (2817, 0.019401873062220618), (2818, 0.007926326979509913), (2819, 0.0), (2820, 0.0), (2821, 0.0), (2822, 0.0), (2823, 0.0), (2824, 0.025236706638007592), (2825, 0.0), (2826, 0.013500831912922832), (2827, 0.0), (2828, 0.0), (2829, 0.010688998230641438), (2830, 0.003761985758022244), (2831, 0.014921542175145033), (2832, 0.00415127449837964), (2833, 0.0), (2834, 0.0039009614634313555), (2835, 0.07375067345545097), (2836, 0.0), (2837, 0.004142452363084709), (2838, 0.0), (2839, 0.030389052299437003), (2840, 0.020867609400101753), (2841, 0.017186196005610423), (2842, 0.003373517056686986), (2843, 0.0), (2844, 0.020203177762714183), (2845, 0.010324015476061198), (2846, 0.0), (2847, 0.00320543299777121), (2848, 0.004063443978087116), (2849, 0.0), (2850, 0.003946159854720945), (2851, 0.023318979508516992), (2852, 0.03884435142835988), (2853, 0.051579090715527416), (2854, 0.023155901258638815), (2855, 0.0029101631777047245), (2856, 0.0), (2857, 0.06348361919303201), (2858, 0.0), (2859, 0.003634876715396905), (2860, 0.0), (2861, 0.0), (2862, 0.0034950667309634103), (2863, 0.0), (2864, 0.0), (2865, 0.014363804125637215), (2866, 0.0), (2867, 0.014582539880599762), (2868, 0.0029522932779328568), (2869, 0.0035045248724820824), (2870, 0.004292166705947173), (2871, 0.0034750518281178875), (2872, 0.0036625327230371614), (2873, 0.003461937236839098), (2874, 0.0), (2875, 0.0), (2876, 0.02104814540642541), (2877, 0.0), (2878, 0.01147655446201168), (2879, 0.003922232348796482), (2880, 0.0), (2881, 0.0), (2882, 0.015131085089517379), (2883, 0.0), (2884, 0.046188830791510885), (2885, 0.0023866375471013083), (2886, 0.015010093440842826), (2887, 0.003607063480385332), (2888, 0.0), (2889, 0.0), (2890, 0.0), (2891, 0.0), (2892, 0.005849717285751133), (2893, 0.0), (2894, 0.0), (2895, 0.00405750224526474), (2896, 0.0), (2897, 0.0901167665386284), (2898, 0.0), (2899, 0.02031711689676235), (2900, 0.0067174973736952295), (2901, 0.0), (2902, 0.0), (2903, 0.0), (2904, 0.0), (2905, 0.0), (2906, 0.009222860931765439), (2907, 0.0), (2908, 0.02507780475043602), (2909, 0.0), (2910, 0.0037282334604212155), (2911, 0.003830997940581315), (2912, 0.012490143289224348), (2913, 0.0), (2914, 0.0), (2915, 0.0), (2916, 0.0), (2917, 0.0), (2918, 0.016001183342218176), (2919, 0.0), (2920, 0.003422427984544456), (2921, 0.0), (2922, 0.0041425132901257355), (2923, 0.0), (2924, 0.0), (2925, 0.049948171900266125), (2926, 0.0), (2927, 0.008641816584339365), (2928, 0.0), (2929, 0.018610189950054017), (2930, 0.0), (2931, 0.006367957314648197), (2932, 0.0), (2933, 0.005735462286628765), (2934, 0.0), (2935, 0.014794167280309354), (2936, 0.004178107565639543), (2937, 0.0), (2938, 0.007162257052212897), (2939, 0.0), (2940, 0.007182027159651164), (2941, 0.0), (2942, 0.016313886433616195), (2943, 0.0036738079530856636), (2944, 0.049675682612632534), (2945, 0.0), (2946, 0.00350236567542846), (2947, 0.0), (2948, 0.0), (2949, 0.0), (2950, 0.0), (2951, 0.017282469934411647), (2952, 0.022093111269006836), (2953, 0.0), (2954, 0.01767299868435677), (2955, 0.0036777094779356016), (2956, 0.00401622063666365), (2957, 0.03480565622734366), (2958, 0.0032811219784371643), (2959, 0.0), (2960, 0.0040402770652243295), (2961, 0.0038070253092955253), (2962, 0.030231243485710924), (2963, 0.007673804711787907), (2964, 0.0), (2965, 0.051572920070427575), (2966, 0.0), (2967, 0.0), (2968, 0.0), (2969, 0.002709010718512412), (2970, 0.0), (2971, 0.0), (2972, 0.0), (2973, 0.0), (2974, 0.0), (2975, 0.009147893709576633), (2976, 0.0), (2977, 0.0036970680263353796), (2978, 0.0), (2979, 0.003589113858614126), (2980, 0.03390540662400974), (2981, 0.022778167619779893), (2982, 0.019510681075443514), (2983, 0.0), (2984, 0.0), (2985, 0.0058049516427980015), (2986, 0.0), (2987, 0.004299060404347703), (2988, 0.013430346487063878), (2989, 0.0), (2990, 0.004292292548676908), (2991, 0.003711884024003332), (2992, 0.0), (2993, 0.003900695959161173), (2994, 0.0), (2995, 0.0), (2996, 0.023250032909161514), (2997, 0.003550484496290558), (2998, 0.0), (2999, 0.016111020381057512), (3000, 0.01230873786591468), (3001, 0.0034686420545470714), (3002, 0.003815008928847053), (3003, 0.01667033286516558), (3004, 0.0), (3005, 0.0), (3006, 0.0033017393074973745), (3007, 0.0), (3008, 0.0), (3009, 0.0), (3010, 0.017346345015224893), (3011, 0.0034406293571676715), (3012, 0.0), (3013, 0.0), (3014, 0.011546317228758868), (3015, 0.0), (3016, 0.03413979388685158), (3017, 0.0), (3018, 0.006258562651958974), (3019, 0.0), (3020, 0.0), (3021, 0.003237838816535786), (3022, 0.009963740798181006), (3023, 0.0032467855032415308), (3024, 0.03236562463186283), (3025, 0.0), (3026, 0.0), (3027, 0.034498209406232334), (3028, 0.009424909137240731), (3029, 0.003790892723940463), (3030, 0.04503348377641336), (3031, 0.004366435675826421), (3032, 0.004016506119204877), (3033, 0.0033372930309092884), (3034, 0.0), (3035, 0.0032287250311447253), (3036, 0.0), (3037, 0.0), (3038, 0.0), (3039, 0.0), (3040, 0.014641694780227487), (3041, 0.003486434769169409), (3042, 0.0), (3043, 0.0), (3044, 0.0037457401959284952), (3045, 0.009827153505312441), (3046, 0.0034124768277737764), (3047, 0.04358473636981851), (3048, 0.0), (3049, 0.0), (3050, 0.0), (3051, 0.0), (3052, 0.0), (3053, 0.017177458103904024), (3054, 0.0), (3055, 0.004505231265218915), (3056, 0.0), (3057, 0.0029257050258007984), (3058, 0.0069002517240138155), (3059, 0.0), (3060, 0.016098254935173917), (3061, 0.0), (3062, 0.0), (3063, 0.0), (3064, 0.0), (3065, 0.0), (3066, 0.0), (3067, 0.0), (3068, 0.003034368495353252), (3069, 0.0), (3070, 0.01419677237789072), (3071, 0.003074745118922633), (3072, 0.0), (3073, 0.0035361334332296903), (3074, 0.0), (3075, 0.0), (3076, 0.0), (3077, 0.015863901025341166), (3078, 0.004005761981592384), (3079, 0.0), (3080, 0.0), (3081, 0.0), (3082, 0.0), (3083, 0.01716485294455286), (3084, 0.0), (3085, 0.0), (3086, 0.0), (3087, 0.0), (3088, 0.0), (3089, 0.0), (3090, 0.0), (3091, 0.012693417505697704), (3092, 0.02323209185789705), (3093, 0.00377745589097758), (3094, 0.0), (3095, 0.0), (3096, 0.0031292398911120017), (3097, 0.0), (3098, 0.024900996165345808), (3099, 0.0037751405731603137), (3100, 0.0), (3101, 0.02637819057337605), (3102, 0.003274177728989051), (3103, 0.003545823409717556), (3104, 0.01733108305316313), (3105, 0.003296164156278269), (3106, 0.022601968609245623), (3107, 0.0), (3108, 0.006371847783686895), (3109, 0.04291057367112881), (3110, 0.021251650279612178), (3111, 0.016767466234793978), (3112, 0.0), (3113, 0.0), (3114, 0.0), (3115, 0.0), (3116, 0.05760971757396369), (3117, 0.028380409032349667), (3118, 0.0), (3119, 0.04463758195151493), (3120, 0.08745561918671835), (3121, 0.016252272727791197), (3122, 0.007017021554715564), (3123, 0.0), (3124, 0.0), (3125, 0.006686775934232365), (3126, 0.0), (3127, 0.008619642832980622), (3128, 0.0), (3129, 0.03709669046801756), (3130, 0.0), (3131, 0.0), (3132, 0.0), (3133, 0.0372466545538261), (3134, 0.0041357340354808226), (3135, 0.0), (3136, 0.0), (3137, 0.0), (3138, 0.0), (3139, 0.0), (3140, 0.004038063303645398), (3141, 0.007077614827080896), (3142, 0.008819842881911628), (3143, 0.0), (3144, 0.00543603592492358), (3145, 0.004147625613764145), (3146, 0.0037648519229095184), (3147, 0.0), (3148, 0.0), (3149, 0.020568404725718678), (3150, 0.007344977880479494), (3151, 0.0031029188656413564), (3152, 0.002771850510883536), (3153, 0.0038909156064567277), (3154, 0.003926266187486385), (3155, 0.020807569788097457), (3156, 0.0), (3157, 0.0), (3158, 0.0), (3159, 0.0), (3160, 0.0), (3161, 0.003530496633840601), (3162, 0.12953401979542783), (3163, 0.0), (3164, 0.0), (3165, 0.0), (3166, 0.003983047697194713), (3167, 0.003232509233754596), (3168, 0.0), (3169, 0.0), (3170, 0.0), (3171, 0.003576696381764253), (3172, 0.0039440139499608735), (3173, 0.015314995281832076), (3174, 0.0), (3175, 0.01101637612164852), (3176, 0.006360398837175152), (3177, 0.0), (3178, 0.0), (3179, 0.03405545975381104), (3180, 0.02127648210410657), (3181, 0.040767403983028465), (3182, 0.003638930479789777), (3183, 0.0), (3184, 0.0), (3185, 0.0), (3186, 0.0), (3187, 0.003811242749520459), (3188, 0.0), (3189, 0.0), (3190, 0.0), (3191, 0.0), (3192, 0.0), (3193, 0.0031588228524049946), (3194, 0.0), (3195, 0.016094921684378722), (3196, 0.0), (3197, 0.0), (3198, 0.0), (3199, 0.002572680936695834), (3200, 0.0), (3201, 0.019172413020737834), (3202, 0.0), (3203, 0.002876644584548855), (3204, 0.0), (3205, 0.017060903691667354), (3206, 0.018786833599097642), (3207, 0.0), (3208, 0.026928423874528106), (3209, 0.053066078993939114), (3210, 0.0), (3211, 0.003146378752463373), (3212, 0.0), (3213, 0.09219317209412863), (3214, 0.019021089565280567), (3215, 0.010447712281954707), (3216, 0.0), (3217, 0.004235750283438008), (3218, 0.003431438751674661), (3219, 0.0), (3220, 0.0), (3221, 0.01658344726874058), (3222, 0.017482514873243916), (3223, 0.0), (3224, 0.0), (3225, 0.017144926124110203), (3226, 0.006421593615619035), (3227, 0.0), (3228, 0.0452062446341943), (3229, 0.0), (3230, 0.0), (3231, 0.017570414168124295), (3232, 0.0), (3233, 0.0), (3234, 0.0068481792385622), (3235, 0.003431802455712981), (3236, 0.0032041769119232743), (3237, 0.003461519756487377), (3238, 0.0472296397934771), (3239, 0.0), (3240, 0.0032762305990058746), (3241, 0.0), (3242, 0.0), (3243, 0.0), (3244, 0.024464073055836866), (3245, 0.0), (3246, 0.0), (3247, 0.0), (3248, 0.0), (3249, 0.0), (3250, 0.0), (3251, 0.019628876163141778), (3252, 0.029715419425018118), (3253, 0.003311094770047948), (3254, 0.017275435620071892), (3255, 0.0), (3256, 0.016408056196180593), (3257, 0.0), (3258, 0.0), (3259, 0.007691407100917254), (3260, 0.003439937407324084), (3261, 0.02815489479459996), (3262, 0.0), (3263, 0.04353245773472783), (3264, 0.006729219552332548), (3265, 0.006995623758621825), (3266, 0.0), (3267, 0.0), (3268, 0.0), (3269, 0.020389497022408293), (3270, 0.05248247035360869), (3271, 0.003906913995225253), (3272, 0.059958022863687246), (3273, 0.017137725343894395), (3274, 0.007102527941461618), (3275, 0.0), (3276, 0.0), (3277, 0.003325088386282003), (3278, 0.0), (3279, 0.013825212024724233), (3280, 0.003617943156770536), (3281, 0.0), (3282, 0.0), (3283, 0.07631833169071219), (3284, 0.0152908702540269), (3285, 0.0), (3286, 0.0038285094426211137), (3287, 0.0), (3288, 0.0), (3289, 0.0), (3290, 0.0), (3291, 0.0), (3292, 0.004347594614920755), (3293, 0.01658202701293185), (3294, 0.02604898923321265), (3295, 0.003382303359586657), (3296, 0.0), (3297, 0.027284478927746776), (3298, 0.0212430271561065), (3299, 0.0), (3300, 0.0), (3301, 0.004296709328668463), (3302, 0.05339136837310788), (3303, 0.01967671553408129), (3304, 0.0), (3305, 0.0), (3306, 0.04244262110249067), (3307, 0.0037181180051785137), (3308, 0.041824762704685), (3309, 0.0037943133613351884), (3310, 0.0), (3311, 0.015236133386471637), (3312, 0.020930463985517685), (3313, 0.0), (3314, 0.0), (3315, 0.033592368142489414), (3316, 0.0023502920126669915), (3317, 0.0333713175812633), (3318, 0.018057752275372346), (3319, 0.0), (3320, 0.017129031992286683), (3321, 0.00330479214327355), (3322, 0.003941861516904644), (3323, 0.008362508661588839), (3324, 0.003795725252882552), (3325, 0.0), (3326, 0.036657262164748586), (3327, 0.003201470588806364), (3328, 0.03705183311363707), (3329, 0.010593999334687014), (3330, 0.020490948064120194), (3331, 0.08114552370077205), (3332, 0.0), (3333, 0.0), (3334, 0.0), (3335, 0.0), (3336, 0.003036372816620847), (3337, 0.0), (3338, 0.0147538349224381), (3339, 0.0), (3340, 0.0), (3341, 0.0), (3342, 0.003210144892509362), (3343, 0.0033529584732577833), (3344, 0.023040355619276552), (3345, 0.007692765849442028), (3346, 0.01919893067748874), (3347, 0.0029937300030321895), (3348, 0.0), (3349, 0.0), (3350, 0.0), (3351, 0.0035367687006723197), (3352, 0.0), (3353, 0.0), (3354, 0.0), (3355, 0.004512874685941581), (3356, 0.0), (3357, 0.0), (3358, 0.0), (3359, 0.003668719288535871), (3360, 0.003097424476915694), (3361, 0.05214646737435531), (3362, 0.0031245650376191154), (3363, 0.003928924509284601), (3364, 0.003746384222824941), (3365, 0.005336047298811934), (3366, 0.013038400164419883), (3367, 0.0), (3368, 0.0), (3369, 0.031362881311718445), (3370, 0.011253524258049537), (3371, 0.0), (3372, 0.0), (3373, 0.04527349183399466), (3374, 0.003225332232707578), (3375, 0.03167873384075969), (3376, 0.0), (3377, 0.00359688411379123), (3378, 0.003731001617760698), (3379, 0.003957202774371743), (3380, 0.0), (3381, 0.004034636721898994), (3382, 0.0), (3383, 0.0), (3384, 0.0037408275383498425), (3385, 0.0), (3386, 0.0036472983392995748), (3387, 0.02757803159575775), (3388, 0.0), (3389, 0.01867059011042974), (3390, 0.0), (3391, 0.003917903009250195), (3392, 0.0), (3393, 0.028747738107106416), (3394, 0.0), (3395, 0.0), (3396, 0.0), (3397, 0.0073229826133957895), (3398, 0.0036315492991320733), (3399, 0.0032219362819320262), (3400, 0.0), (3401, 0.0037872319012906257), (3402, 0.0), (3403, 0.003395140844935143), (3404, 0.0038195329483901156), (3405, 0.0), (3406, 0.0), (3407, 0.018695252850285244), (3408, 0.01596437918373891), (3409, 0.003049468176393964), (3410, 0.00273453413077678), (3411, 0.0033023383769023693), (3412, 0.07539199992082975), (3413, 0.0), (3414, 0.00730583798106528), (3415, 0.07355841803621044), (3416, 0.0), (3417, 0.0), (3418, 0.0), (3419, 0.0), (3420, 0.015600260948545091), (3421, 0.0), (3422, 0.03300775981687465), (3423, 0.0), (3424, 0.007355712862736028), (3425, 0.027382705941185755), (3426, 0.0), (3427, 0.021309657478940165), (3428, 0.003101475252272828), (3429, 0.0), (3430, 0.014630402286303395), (3431, 0.0), (3432, 0.0), (3433, 0.003553799429396757), (3434, 0.0035469415581022954), (3435, 0.0037247241267494035), (3436, 0.0038975436125763007), (3437, 0.0), (3438, 0.0), (3439, 0.0), (3440, 0.0), (3441, 0.05037850209385858), (3442, 0.0), (3443, 0.01709784066183739), (3444, 0.003994484844556422), (3445, 0.0), (3446, 0.0038606241638900088), (3447, 0.014995103348992407), (3448, 0.0039018613791063773), (3449, 0.0), (3450, 0.00414006761416199), (3451, 0.003915454189598147), (3452, 0.0), (3453, 0.0), (3454, 0.010221617675664464), (3455, 0.006488482914483213), (3456, 0.03031105740528659), (3457, 0.019320465362895233), (3458, 0.021277349458011005), (3459, 0.01760745572045602), (3460, 0.0), (3461, 0.008254552444482246), (3462, 0.0037207485928520733), (3463, 0.0), (3464, 0.003857923748655884), (3465, 0.0), (3466, 0.0), (3467, 0.174197046706621), (3468, 0.014431879878204955), (3469, 0.003981931035067958), (3470, 0.0), (3471, 0.0031786665725675703), (3472, 0.007622903866486409), (3473, 0.0), (3474, 0.018648243767653963), (3475, 0.0), (3476, 0.0), (3477, 0.016778598069178717), (3478, 0.0039413469861304265), (3479, 0.0), (3480, 0.003014761335745344), (3481, 0.0), (3482, 0.0), (3483, 0.003695501712804108), (3484, 0.003342671283325257), (3485, 0.0), (3486, 0.0), (3487, 0.01428427260200928), (3488, 0.04548926782716607), (3489, 0.0), (3490, 0.0), (3491, 0.003776833557048504), (3492, 0.0032996497200368418), (3493, 0.0), (3494, 0.0), (3495, 0.03494437934388977), (3496, 0.0), (3497, 0.003793769378187412), (3498, 0.0), (3499, 0.0), (3500, 0.0034090935664107666), (3501, 0.0), (3502, 0.003934234691346347), (3503, 0.011570703711965457), (3504, 0.0), (3505, 0.0038301759586001605), (3506, 0.036544538371487266), (3507, 0.0038573723216043456), (3508, 0.0), (3509, 0.04556289007150216), (3510, 0.003418487318148934), (3511, 0.01886016251907138), (3512, 0.0), (3513, 0.0), (3514, 0.0), (3515, 0.006106985426071318), (3516, 0.0), (3517, 0.0), (3518, 0.0071331973495759576), (3519, 0.0), (3520, 0.003914045784313782), (3521, 0.003993498531880586), (3522, 0.0), (3523, 0.004437257537450427), (3524, 0.019490504284878956), (3525, 0.0), (3526, 0.03994268548604783), (3527, 0.0), (3528, 0.003468347120340203), (3529, 0.011868614169511299), (3530, 0.003880375504649196), (3531, 0.098581176303892), (3532, 0.0), (3533, 0.0), (3534, 0.01131752357625012), (3535, 0.0), (3536, 0.007243042912158467), (3537, 0.0), (3538, 0.0029243861113754386), (3539, 0.003531046005107649), (3540, 0.0), (3541, 0.0), (3542, 0.0), (3543, 0.0), (3544, 0.0), (3545, 0.0), (3546, 0.02132214454001609), (3547, 0.0), (3548, 0.01315554895675008), (3549, 0.003748563160979218), (3550, 0.03406221594038632), (3551, 0.019164058878949543), (3552, 0.0), (3553, 0.01875903897637998), (3554, 0.02101972454839822), (3555, 0.0), (3556, 0.023134705193810418), (3557, 0.02175456636778972), (3558, 0.0), (3559, 0.06494476283516595), (3560, 0.0), (3561, 0.0), (3562, 0.0032837518255781407), (3563, 0.006402115028338294), (3564, 0.0), (3565, 0.0), (3566, 0.009111062702638197), (3567, 0.007519537007720073), (3568, 0.007179304706591406), (3569, 0.0), (3570, 0.0), (3571, 0.0), (3572, 0.00397786246497763), (3573, 0.004255250112426022), (3574, 0.0), (3575, 0.0), (3576, 0.0), (3577, 0.007399857904919546), (3578, 0.020303507605692807), (3579, 0.01301208391725458), (3580, 0.0), (3581, 0.0), (3582, 0.017940924203645955), (3583, 0.0036860176133462798), (3584, 0.0), (3585, 0.014231599605195152), (3586, 0.0), (3587, 0.0038234700584084255), (3588, 0.003648102423117413), (3589, 0.03559432201117551), (3590, 0.0034932442227579323), (3591, 0.0), (3592, 0.01518857013275623), (3593, 0.019013304615071707), (3594, 0.02279861862039484), (3595, 0.003424075858854903), (3596, 0.0036147927127696995), (3597, 0.0), (3598, 0.0033165807149295318), (3599, 0.0037780853176011733), (3600, 0.0), (3601, 0.003511445775290437), (3602, 0.019704603845971187), (3603, 0.0), (3604, 0.0), (3605, 0.0), (3606, 0.0), (3607, 0.011659327200409594), (3608, 0.0), (3609, 0.0), (3610, 0.003494310535893318), (3611, 0.063645831968575), (3612, 0.025386245480059973), (3613, 0.003966830146930215), (3614, 0.0), (3615, 0.0), (3616, 0.019231243499102293), (3617, 0.0), (3618, 0.003937857963244012), (3619, 0.013640809961020003), (3620, 0.018401719669890716), (3621, 0.09595154769803792), (3622, 0.0), (3623, 0.0075754182637156695), (3624, 0.0), (3625, 0.0), (3626, 0.0031204854381462277), (3627, 0.0), (3628, 0.0), (3629, 0.016729106769822137), (3630, 0.010327849615976985), (3631, 0.0), (3632, 0.0), (3633, 0.0034704408379516325), (3634, 0.0), (3635, 0.0), (3636, 0.0), (3637, 0.013451864571594306), (3638, 0.0), (3639, 0.0), (3640, 0.0), (3641, 0.0), (3642, 0.0), (3643, 0.003588317042160953), (3644, 0.018275112323964664), (3645, 0.0), (3646, 0.05452372594160174), (3647, 0.017629840177153574), (3648, 0.06547162073321863), (3649, 0.0), (3650, 0.03219627986157802), (3651, 0.016074437222370203), (3652, 0.0036135383169624215), (3653, 0.03735651283737532), (3654, 0.003551664592561699), (3655, 0.006271043681911913), (3656, 0.0), (3657, 0.028731648347300656), (3658, 0.023329696584106656), (3659, 0.060578800082585045), (3660, 0.10582657910007322), (3661, 0.0), (3662, 0.0), (3663, 0.005557058039026892), (3664, 0.0), (3665, 0.003535119271828803), (3666, 0.03865683268751052), (3667, 0.002621875119665051), (3668, 0.02578302175728369), (3669, 0.0), (3670, 0.0067255614867517315), (3671, 0.0), (3672, 0.0), (3673, 0.0), (3674, 0.025518789753882408), (3675, 0.0), (3676, 0.0), (3677, 0.010028794024427173), (3678, 0.01895759854814294), (3679, 0.0), (3680, 0.0), (3681, 0.0038610736116625258), (3682, 0.0037653923220915715), (3683, 0.01868637865179098), (3684, 0.022548975826458977), (3685, 0.020394574369069406), (3686, 0.0), (3687, 0.0), (3688, 0.0), (3689, 0.003594403148659557), (3690, 0.007581052809329404), (3691, 0.004092692570556404), (3692, 0.0), (3693, 0.0), (3694, 0.0), (3695, 0.00349289731901327), (3696, 0.0035628185483818657), (3697, 0.019728257090222495), (3698, 0.008243872394297825), (3699, 0.0036945044267305003), (3700, 0.0), (3701, 0.007005716811253655), (3702, 0.0), (3703, 0.004355429590047855), (3704, 0.012439788068325509), (3705, 0.011648069618968753), (3706, 0.01561285592837165), (3707, 0.0035427992926925903), (3708, 0.0036004677946864464), (3709, 0.020810914941965436), (3710, 0.0), (3711, 0.023508590372029736), (3712, 0.0031913842758478253), (3713, 0.0), (3714, 0.0037292551756611435), (3715, 0.004213079703526097), (3716, 0.0), (3717, 0.005184946771053789), (3718, 0.014834346509307763), (3719, 0.0), (3720, 0.007893757610075457), (3721, 0.0), (3722, 0.020485321342540386), (3723, 0.0), (3724, 0.0), (3725, 0.003914094343778994), (3726, 0.0), (3727, 0.0), (3728, 0.0034784145953063172), (3729, 0.0), (3730, 0.017870525903768038), (3731, 0.015228903554829436), (3732, 0.0), (3733, 0.0), (3734, 0.033716072217484655), (3735, 0.015477574767624666), (3736, 0.012575197480181167), (3737, 0.0), (3738, 0.0), (3739, 0.0033105820178609214), (3740, 0.0), (3741, 0.008058935124103425), (3742, 0.0), (3743, 0.010695418360849248), (3744, 0.0), (3745, 0.004583572608986418), (3746, 0.015247232474019568), (3747, 0.023713057474234005), (3748, 0.0027963697141362718), (3749, 0.0), (3750, 0.0), (3751, 0.005908214813002756), (3752, 0.015590218355096996), (3753, 0.0), (3754, 0.016041928041952765), (3755, 0.0), (3756, 0.0), (3757, 0.04416955383845502), (3758, 0.0), (3759, 0.022552155298033665), (3760, 0.0), (3761, 0.0), (3762, 0.0), (3763, 0.0), (3764, 0.0), (3765, 0.010375527065952739), (3766, 0.003793559828551158), (3767, 0.003270660352243707), (3768, 0.0), (3769, 0.02274811527224723), (3770, 0.0), (3771, 0.0038743654104617616), (3772, 0.0), (3773, 0.0), (3774, 0.0), (3775, 0.0), (3776, 0.03420246604265555), (3777, 0.0), (3778, 0.0031153762033051865), (3779, 0.0), (3780, 0.0038044861540974797), (3781, 0.0), (3782, 0.02263516254363084), (3783, 0.0034365603482777625), (3784, 0.0), (3785, 0.03826042417603238), (3786, 0.007909631660794213), (3787, 0.0), (3788, 0.003369379339002533), (3789, 0.0037012813513963147), (3790, 0.0), (3791, 0.004039346632499702), (3792, 0.024676754764849495), (3793, 0.0), (3794, 0.014890069387183593), (3795, 0.0), (3796, 0.0), (3797, 0.02502394407881742), (3798, 0.0), (3799, 0.0034140039189867214), (3800, 0.0), (3801, 0.023847162802446944), (3802, 0.012011745150188604), (3803, 0.003178178808345379), (3804, 0.0), (3805, 0.012488240593359474), (3806, 0.0), (3807, 0.0), (3808, 0.01803124878885059), (3809, 0.004004803921585121), (3810, 0.006813431636982767), (3811, 0.0), (3812, 0.003640985927731184), (3813, 0.0033722179804826797), (3814, 0.0032828829310363283), (3815, 0.0036488797474644487), (3816, 0.0), (3817, 0.012073640743903368), (3818, 0.007957535626846682), (3819, 0.0036808033829047932), (3820, 0.0), (3821, 0.00598262872725145), (3822, 0.02439798885793435), (3823, 0.007270896075344197), (3824, 0.0), (3825, 0.0028245024623817128), (3826, 0.019334409492004184), (3827, 0.01202226993264339), (3828, 0.0), (3829, 0.011286769477515982), (3830, 0.032867410130393425), (3831, 0.0), (3832, 0.0), (3833, 0.0037965450267112215), (3834, 0.0034979116196712503), (3835, 0.010286595059781025), (3836, 0.0), (3837, 0.004108325137574211), (3838, 0.06512969447020267), (3839, 0.0), (3840, 0.0), (3841, 0.006933765146920652), (3842, 0.0), (3843, 0.037375902992949996), (3844, 0.0), (3845, 0.0), (3846, 0.018414546066956004), (3847, 0.004026963069680416), (3848, 0.0), (3849, 0.0), (3850, 0.0), (3851, 0.0), (3852, 0.024137323367375393), (3853, 0.0), (3854, 0.0), (3855, 0.0420144221578281), (3856, 0.009938690822092448), (3857, 0.0034498036999425262), (3858, 0.019463417395837783), (3859, 0.0), (3860, 0.08011976107693548), (3861, 0.0), (3862, 0.0), (3863, 0.0), (3864, 0.03630669616922895), (3865, 0.054954460866286796), (3866, 0.021670222086760678), (3867, 0.0), (3868, 0.0033763657455856836), (3869, 0.0), (3870, 0.0), (3871, 0.0), (3872, 0.0), (3873, 0.0), (3874, 0.0), (3875, 0.005675040319202191), (3876, 0.022673775472930147), (3877, 0.0039733274110318965), (3878, 0.0), (3879, 0.0), (3880, 0.003072243878672343), (3881, 0.0), (3882, 0.0), (3883, 0.0), (3884, 0.0), (3885, 0.014802931082847155), (3886, 0.0034285436886931767), (3887, 0.003936769658118836), (3888, 0.0), (3889, 0.015367194614766157), (3890, 0.006657737874271418), (3891, 0.015200593294233376), (3892, 0.003919903092037766), (3893, 0.026092160389497295), (3894, 0.017175365226758672), (3895, 0.0), (3896, 0.00312738765599908), (3897, 0.0033313073214953715), (3898, 0.0), (3899, 0.0), (3900, 0.0), (3901, 0.0), (3902, 0.0), (3903, 0.008119482498671983), (3904, 0.0), (3905, 0.0), (3906, 0.02175826905782295), (3907, 0.00398643093894076), (3908, 0.0), (3909, 0.0), (3910, 0.07661259181340048), (3911, 0.0), (3912, 0.003372398757131545), (3913, 0.05089164205896212), (3914, 0.017649342413748402), (3915, 0.0038435978107178395), (3916, 0.0343996333243469), (3917, 0.0036639369447091725), (3918, 0.024254731355044183), (3919, 0.022937482372584563), (3920, 0.003784442701305581), (3921, 0.006993481313276057), (3922, 0.0), (3923, 0.006788923192835934), (3924, 0.017202396802889937), (3925, 0.0), (3926, 0.0), (3927, 0.0029586872768102754), (3928, 0.0), (3929, 0.0), (3930, 0.0), (3931, 0.0), (3932, 0.0), (3933, 0.0), (3934, 0.0), (3935, 0.0), (3936, 0.0), (3937, 0.0), (3938, 0.0), (3939, 0.0), (3940, 0.010428020716583785), (3941, 0.0), (3942, 0.0), (3943, 0.0), (3944, 0.0033782720063622778), (3945, 0.0), (3946, 0.0029758110522188214), (3947, 0.0), (3948, 0.0), (3949, 0.0), (3950, 0.01540985976169445), (3951, 0.01760700013695514), (3952, 0.0), (3953, 0.0), (3954, 0.0), (3955, 0.003586001823490821), (3956, 0.02755536212073439), (3957, 0.006120832963502855), (3958, 0.007103441740210902), (3959, 0.0), (3960, 0.01299186427053092), (3961, 0.0), (3962, 0.0), (3963, 0.006339792780728056), (3964, 0.0), (3965, 0.0), (3966, 0.0), (3967, 0.0037471900352213532), (3968, 0.0), (3969, 0.020808805099944407), (3970, 0.006668821255648616), (3971, 0.0030441456784978996), (3972, 0.0037992518526152614), (3973, 0.03627227887186279), (3974, 0.0), (3975, 0.0), (3976, 0.0), (3977, 0.003491962282599755), (3978, 0.0), (3979, 0.0037966425168694373), (3980, 0.0037333197677314653), (3981, 0.0), (3982, 0.0), (3983, 0.012363120257306178), (3984, 0.02133371022151756), (3985, 0.0), (3986, 0.003412475892743314), (3987, 0.0), (3988, 0.0), (3989, 0.0028874532838730764), (3990, 0.0), (3991, 0.0035065439495861645), (3992, 0.003796390092686588), (3993, 0.029948034051389356), (3994, 0.052151804185385696), (3995, 0.0), (3996, 0.0), (3997, 0.018006142407633936), (3998, 0.003478254454043638), (3999, 0.0), (4000, 0.004130276718109959), (4001, 0.010630853608685169), (4002, 0.003951164206076578), (4003, 0.06013630513560719), (4004, 0.0), (4005, 0.0), (4006, 0.0), (4007, 0.004028313592910919), (4008, 0.003898789304067879), (4009, 0.003319308715752506), (4010, 0.0), (4011, 0.0), (4012, 0.003387579315179658), (4013, 0.007339892857831993), (4014, 0.0), (4015, 0.0383494097911356), (4016, 0.003186046888676728), (4017, 0.0), (4018, 0.0), (4019, 0.0043451000694548735), (4020, 0.0), (4021, 0.020130927035334024), (4022, 0.0), (4023, 0.01677990500281112), (4024, 0.0), (4025, 0.007465204093797158), (4026, 0.005832312191155862), (4027, 0.0), (4028, 0.0037033885219940423), (4029, 0.0), (4030, 0.007334527395199716), (4031, 0.0), (4032, 0.010238230193327159), (4033, 0.0035928688696884614), (4034, 0.0), (4035, 0.0038852112754882437), (4036, 0.0034630405417955955), (4037, 0.0), (4038, 0.0), (4039, 0.0), (4040, 0.0), (4041, 0.0035996493474749996), (4042, 0.0), (4043, 0.0), (4044, 0.0), (4045, 0.0), (4046, 0.02413880619314756), (4047, 0.01787869404565372), (4048, 0.0), (4049, 0.003387345512706841), (4050, 0.0), (4051, 0.06964724323932829), (4052, 0.0), (4053, 0.0), (4054, 0.0123102362147927), (4055, 0.016102582652911687), (4056, 0.003463932377398118), (4057, 0.02425760530833183), (4058, 0.004152705976766213), (4059, 0.0035853927211965527), (4060, 0.0), (4061, 0.00697771501638425), (4062, 0.003607660642577376), (4063, 0.022340534355176224), (4064, 0.071241689536375), (4065, 0.012193571082679), (4066, 0.0), (4067, 0.0), (4068, 0.0036931036108584763), (4069, 0.0036462715687123944), (4070, 0.02911181353323044), (4071, 0.003516534137668964), (4072, 0.0036216451788291457), (4073, 0.0035096101919301678), (4074, 0.01449893307084902), (4075, 0.0), (4076, 0.01830487467939736), (4077, 0.0034875699299198484), (4078, 0.0), (4079, 0.0), (4080, 0.0), (4081, 0.003456045676544331), (4082, 0.004013069370636017), (4083, 0.0), (4084, 0.0038369503719618463), (4085, 0.0), (4086, 0.0), (4087, 0.0), (4088, 0.0), (4089, 0.0), (4090, 0.0037306767703844516), (4091, 0.0), (4092, 0.0), (4093, 0.0), (4094, 0.0037262668703383285), (4095, 0.04358440194488732), (4096, 0.0), (4097, 0.0), (4098, 0.01797436224524904), (4099, 0.003732704883182792), (4100, 0.0), (4101, 0.0), (4102, 0.004178492395806401), (4103, 0.003627148832471683), (4104, 0.0), (4105, 0.03309892479909387), (4106, 0.010878167252605762), (4107, 0.0), (4108, 0.003759334520184954), (4109, 0.015628141605765696), (4110, 0.007205168653445152), (4111, 0.0), (4112, 0.0033759905611341853), (4113, 0.0), (4114, 0.0025785065098558792), (4115, 0.0), (4116, 0.0), (4117, 0.014458250982622952), (4118, 0.0036109591255735385), (4119, 0.0036036264704525658), (4120, 0.003444566672163915), (4121, 0.0), (4122, 0.013883805380298849), (4123, 0.0), (4124, 0.0), (4125, 0.03959441082609845), (4126, 0.0037804057163687553), (4127, 0.0037711888472613505), (4128, 0.0), (4129, 0.0), (4130, 0.0), (4131, 0.0), (4132, 0.0037283798696142825), (4133, 0.015217894633516534), (4134, 0.006013200734014781), (4135, 0.0034731959594931456), (4136, 0.003979394689515082), (4137, 0.0033207226936042816), (4138, 0.004156303577592144), (4139, 0.0), (4140, 0.0), (4141, 0.0034514486052437477), (4142, 0.0), (4143, 0.019566502051514924), (4144, 0.013992571872787503), (4145, 0.0), (4146, 0.003486899632156052), (4147, 0.0), (4148, 0.0034542807637798806), (4149, 0.035911952525847404), (4150, 0.0), (4151, 0.0), (4152, 0.0), (4153, 0.0), (4154, 0.0), (4155, 0.0034302411949508416), (4156, 0.006320601880535426), (4157, 0.006058553095794054), (4158, 0.005385438448278286), (4159, 0.0), (4160, 0.0035253795057635265), (4161, 0.0), (4162, 0.04790245577152647), (4163, 0.0), (4164, 0.03799615695759271), (4165, 0.0036030586471800744), (4166, 0.013986144079892295), (4167, 0.0), (4168, 0.0), (4169, 0.011240737454262587), (4170, 0.0), (4171, 0.04169042606810264), (4172, 0.004309159609143002), (4173, 0.02505253187233335), (4174, 0.049693302790880654), (4175, 0.0), (4176, 0.0066240936169375915), (4177, 0.0030375264171871087), (4178, 0.050048004184089605), (4179, 0.01596953916091252), (4180, 0.0), (4181, 0.0), (4182, 0.04256871953754078), (4183, 0.017676849110323495), (4184, 0.0), (4185, 0.0), (4186, 0.0), (4187, 0.0), (4188, 0.0), (4189, 0.027553591501751115), (4190, 0.0037580610314862117), (4191, 0.0032868011280860585), (4192, 0.007228754042728628), (4193, 0.0034033064333699762), (4194, 0.010290702780862922), (4195, 0.0), (4196, 0.0), (4197, 0.0), (4198, 0.0044298074201535595), (4199, 0.0), (4200, 0.0), (4201, 0.004985373458058116), (4202, 0.0), (4203, 0.01989421507347909), (4204, 0.0), (4205, 0.003702919238066766), (4206, 0.0), (4207, 0.0), (4208, 0.004139702859891155), (4209, 0.0), (4210, 0.003640957183199267), (4211, 0.0), (4212, 0.0), (4213, 0.0033452773502023665), (4214, 0.03896009977652754), (4215, 0.0033074625145299344), (4216, 0.0), (4217, 0.0033769863720005625), (4218, 0.010162268688605834), (4219, 0.0), (4220, 0.03637850552912252), (4221, 0.0), (4222, 0.0), (4223, 0.0), (4224, 0.0), (4225, 0.035934394417253095), (4226, 0.003446629187262686), (4227, 0.0), (4228, 0.0), (4229, 0.0), (4230, 0.0), (4231, 0.0), (4232, 0.0), (4233, 0.02590805597967338), (4234, 0.015024814097950007), (4235, 0.0), (4236, 0.0036221584657318024), (4237, 0.08744306364634725), (4238, 0.0), (4239, 0.018473678790732737), (4240, 0.019969102004521413), (4241, 0.012337561381690359), (4242, 0.017028971496025683), (4243, 0.003837462362118401), (4244, 0.0), (4245, 0.0), (4246, 0.0), (4247, 0.013208519777200589), (4248, 0.0), (4249, 0.0), (4250, 0.0), (4251, 0.0), (4252, 0.024942351120894962), (4253, 0.003049202386566157), (4254, 0.01472757709151022), (4255, 0.0), (4256, 0.0), (4257, 0.003497182700338652), (4258, 0.0), (4259, 0.0), (4260, 0.0), (4261, 0.0), (4262, 0.0033244570165164105), (4263, 0.023608247834748443), (4264, 0.003444541426090422), (4265, 0.007377317317299036), (4266, 0.0), (4267, 0.0035831568540626415), (4268, 0.03541288838431501), (4269, 0.0035957309329998307), (4270, 0.01747937102524378), (4271, 0.004394182287634246), (4272, 0.00689873429299607), (4273, 0.003707155537148308), (4274, 0.0), (4275, 0.0), (4276, 0.042514163489963605), (4277, 0.01904902066223013), (4278, 0.0), (4279, 0.01496490034158892), (4280, 0.004154028904660087), (4281, 0.003672815933449156), (4282, 0.009849301248535445), (4283, 0.02266608437540491), (4284, 0.003236117972034393), (4285, 0.0), (4286, 0.0), (4287, 0.02398125437009494), (4288, 0.0), (4289, 0.01880086519004141), (4290, 0.022456918581154995), (4291, 0.0), (4292, 0.011527841505854793), (4293, 0.0), (4294, 0.0), (4295, 0.0), (4296, 0.0), (4297, 0.003412692561665877), (4298, 0.0), (4299, 0.0), (4300, 0.0), (4301, 0.0), (4302, 0.0), (4303, 0.023612762563721527), (4304, 0.021808005599405413), (4305, 0.0), (4306, 0.0), (4307, 0.0), (4308, 0.003559997629203968), (4309, 0.0), (4310, 0.003537516653285304), (4311, 0.0), (4312, 0.0), (4313, 0.004501901354393303), (4314, 0.03640982150793808), (4315, 0.0), (4316, 0.0), (4317, 0.0), (4318, 0.0), (4319, 0.0), (4320, 0.015304259131341853), (4321, 0.0), (4322, 0.0), (4323, 0.0), (4324, 0.021567759694015688), (4325, 0.020304190355190103), (4326, 0.0032246476433457185), (4327, 0.0), (4328, 0.00345073434021267), (4329, 0.02144436729521577), (4330, 0.007576405272078382), (4331, 0.0), (4332, 0.006694480852701746), (4333, 0.0), (4334, 0.05826051088789461), (4335, 0.0), (4336, 0.0), (4337, 0.043372417175113864), (4338, 0.025323052079121576), (4339, 0.0034352088218759856), (4340, 0.0), (4341, 0.0038535763287158493), (4342, 0.0032193187386677135), (4343, 0.010433436563074069), (4344, 0.007147625187128565), (4345, 0.036037083594561), (4346, 0.0), (4347, 0.0032513694224299713), (4348, 0.006134292898161439), (4349, 0.0), (4350, 0.019683471548278014), (4351, 0.004085042171173113), (4352, 0.0), (4353, 0.003386793354264049), (4354, 0.0), (4355, 0.0), (4356, 0.0), (4357, 0.0), (4358, 0.0), (4359, 0.0030496324633021016), (4360, 0.0), (4361, 0.0), (4362, 0.0), (4363, 0.020518835936594176), (4364, 0.016548595025445048), (4365, 0.0), (4366, 0.01842435983349788), (4367, 0.0), (4368, 0.0), (4369, 0.0037695919070854433), (4370, 0.0), (4371, 0.0), (4372, 0.0), (4373, 0.0), (4374, 0.08721108190164908), (4375, 0.003394783007793136), (4376, 0.027174276534716255), (4377, 0.0), (4378, 0.06512183410017525), (4379, 0.0), (4380, 0.0), (4381, 0.0032670357964748892), (4382, 0.0), (4383, 0.0037914842437589105), (4384, 0.0), (4385, 0.0), (4386, 0.0), (4387, 0.0), (4388, 0.0196078753132182), (4389, 0.0039203257139879995), (4390, 0.0), (4391, 0.0), (4392, 0.003735346874449479), (4393, 0.0), (4394, 0.0), (4395, 0.0034879203121408837), (4396, 0.0038332323734211497), (4397, 0.004286630039882094), (4398, 0.0), (4399, 0.003457058106212574), (4400, 0.0), (4401, 0.0), (4402, 0.026962899898524795), (4403, 0.0038829694449907695), (4404, 0.0), (4405, 0.03100620507065193), (4406, 0.004073957578670752), (4407, 0.0252413057170713), (4408, 0.0), (4409, 0.015786826252527485), (4410, 0.029971904432384525), (4411, 0.05739836175107592), (4412, 0.0), (4413, 0.0), (4414, 0.0032529496407480364), (4415, 0.003967905829423627), (4416, 0.0), (4417, 0.0), (4418, 0.0042610507183929655), (4419, 0.018885386417636853), (4420, 0.02676518541108803), (4421, 0.0), (4422, 0.0), (4423, 0.0), (4424, 0.0), (4425, 0.0), (4426, 0.0), (4427, 0.0), (4428, 0.0), (4429, 0.0035528232650887848), (4430, 0.0), (4431, 0.010194899500015316), (4432, 0.0), (4433, 0.025738763261900287), (4434, 0.0), (4435, 0.0), (4436, 0.007094422534282828), (4437, 0.0), (4438, 0.0033952750671936618), (4439, 0.0036569669450930665), (4440, 0.0), (4441, 0.0), (4442, 0.003983344101213749), (4443, 0.03564640922146559), (4444, 0.0), (4445, 0.0026812429045565034), (4446, 0.0), (4447, 0.0), (4448, 0.0038578010140042345), (4449, 0.0038010776560540743), (4450, 0.0), (4451, 0.014248898685185406), (4452, 0.003920061962386534), (4453, 0.0), (4454, 0.0236164627391233), (4455, 0.0), (4456, 0.043241745810671924), (4457, 0.006960628618238285), (4458, 0.0), (4459, 0.006627067105641649), (4460, 0.003829921427088775), (4461, 0.0), (4462, 0.0), (4463, 0.0), (4464, 0.0), (4465, 0.0), (4466, 0.0), (4467, 0.003735027828147834), (4468, 0.0), (4469, 0.0), (4470, 0.0), (4471, 0.004135658350730592), (4472, 0.003371799416722378), (4473, 0.003641418959645461), (4474, 0.0), (4475, 0.0035727952667939647), (4476, 0.0), (4477, 0.00808217840060886), (4478, 0.0), (4479, 0.003388941749555929), (4480, 0.00846574580998065), (4481, 0.0), (4482, 0.003519648569199247), (4483, 0.0), (4484, 0.003924036879256721), (4485, 0.041930975429435705), (4486, 0.0), (4487, 0.0), (4488, 0.0), (4489, 0.0), (4490, 0.0), (4491, 0.0), (4492, 0.0), (4493, 0.0), (4494, 0.0), (4495, 0.0), (4496, 0.019878825133583286), (4497, 0.0), (4498, 0.06768691601316985), (4499, 0.0), (4500, 0.03814979962679138), (4501, 0.0), (4502, 0.019560210167727094), (4503, 0.0), (4504, 0.0037961403083032357), (4505, 0.0), (4506, 0.0), (4507, 0.0), (4508, 0.0), (4509, 0.003523855461631512), (4510, 0.0), (4511, 0.0), (4512, 0.0), (4513, 0.0), (4514, 0.0), (4515, 0.006542490951862741), (4516, 0.004279718377324627), (4517, 0.0), (4518, 0.030619641216508894), (4519, 0.029329570226333344), (4520, 0.0), (4521, 0.0), (4522, 0.0), (4523, 0.022996596333920618), (4524, 0.07081905682580454), (4525, 0.0), (4526, 0.0), (4527, 0.0036267862082041426), (4528, 0.0), (4529, 0.0), (4530, 0.0), (4531, 0.003987577272899156), (4532, 0.0032078429408487446), (4533, 0.0038439227245800054), (4534, 0.01137208591333589), (4535, 0.004314302630950196), (4536, 0.0), (4537, 0.0), (4538, 0.0), (4539, 0.0), (4540, 0.0), (4541, 0.004594361622515294), (4542, 0.0), (4543, 0.0033892214993954495), (4544, 0.0), (4545, 0.0), (4546, 0.0), (4547, 0.0), (4548, 0.028274854964252562), (4549, 0.0037742834426172014), (4550, 0.0035452808637589967), (4551, 0.02749993394830271), (4552, 0.0), (4553, 0.01400623807130083), (4554, 0.013931642140505143), (4555, 0.0), (4556, 0.0), (4557, 0.0), (4558, 0.0), (4559, 0.0), (4560, 0.0), (4561, 0.0), (4562, 0.0), (4563, 0.0038270029695393615), (4564, 0.003830892052841377), (4565, 0.003127437329810614), (4566, 0.04262629706372828), (4567, 0.010989527832259928), (4568, 0.00591089525876379), (4569, 0.02029562552036684), (4570, 0.006692025876771748), (4571, 0.0), (4572, 0.0), (4573, 0.0032526928829318116), (4574, 0.0), (4575, 0.0), (4576, 0.03835394139762474), (4577, 0.0), (4578, 0.012623378409498624), (4579, 0.042357520764815304), (4580, 0.0), (4581, 0.0), (4582, 0.020405831867073645), (4583, 0.0), (4584, 0.0), (4585, 0.0035875349173285077), (4586, 0.0), (4587, 0.0), (4588, 0.0035283117477814888), (4589, 0.007376265672103217), (4590, 0.005944067596634464), (4591, 0.01981902628638842), (4592, 0.0032486201872336867), (4593, 0.0), (4594, 0.02260505455940102), (4595, 0.003416797128311207), (4596, 0.0067555573774710055), (4597, 0.0), (4598, 0.019011681505842048), (4599, 0.0), (4600, 0.0035327701069343747), (4601, 0.0), (4602, 0.0135825151541189), (4603, 0.0035974409033162624), (4604, 0.021211195515900432), (4605, 0.04419936644768135), (4606, 0.014372733970833801), (4607, 0.015513846803190259), (4608, 0.0), (4609, 0.0034593975124981935), (4610, 0.014870115123031179), (4611, 0.0), (4612, 0.004268346956710263), (4613, 0.007543105112593717), (4614, 0.0035654033615857327), (4615, 0.0034709878463607645), (4616, 0.0034088519086098892), (4617, 0.0), (4618, 0.0), (4619, 0.0), (4620, 0.0), (4621, 0.004013809830899713), (4622, 0.0033815453101212153), (4623, 0.012101515762546576), (4624, 0.008404552627312703), (4625, 0.03987675649639945), (4626, 0.0), (4627, 0.0147084199294742), (4628, 0.0), (4629, 0.00346355142296869), (4630, 0.00346696277454275), (4631, 0.0), (4632, 0.0), (4633, 0.0442368915546911), (4634, 0.006615374359647581), (4635, 0.0), (4636, 0.003159091120948248), (4637, 0.0), (4638, 0.0), (4639, 0.003771302197144965), (4640, 0.0), (4641, 0.08686066805483617), (4642, 0.0), (4643, 0.0034426368469443387), (4644, 0.0), (4645, 0.0034792960085554352), (4646, 0.0), (4647, 0.03463674388600606), (4648, 0.003955593378987241), (4649, 0.0), (4650, 0.013197231666208885), (4651, 0.015564509126863439), (4652, 0.005284393818819123), (4653, 0.0), (4654, 0.0), (4655, 0.0), (4656, 0.0), (4657, 0.0), (4658, 0.03463900641760671), (4659, 0.0), (4660, 0.003661746339261778), (4661, 0.016489818425569226), (4662, 0.027376835639209993), (4663, 0.0), (4664, 0.0036445509201031533), (4665, 0.06041426123748542), (4666, 0.0038627238106781654), (4667, 0.0), (4668, 0.0), (4669, 0.0), (4670, 0.0), (4671, 0.0), (4672, 0.0), (4673, 0.0), (4674, 0.027360479859463098), (4675, 0.003862282982506524), (4676, 0.0), (4677, 0.0121870812739311), (4678, 0.0), (4679, 0.006678535860369984), (4680, 0.0), (4681, 0.0), (4682, 0.007273265827598867), (4683, 0.0), (4684, 0.0), (4685, 0.0032343020411712622), (4686, 0.003465279357322775), (4687, 0.003576773573627308), (4688, 0.027228467733864885), (4689, 0.0033453978649906966), (4690, 0.0), (4691, 0.0), (4692, 0.012733137986994627), (4693, 0.003375688873448405), (4694, 0.013974356726537279), (4695, 0.039878183386412976), (4696, 0.0), (4697, 0.0), (4698, 0.0), (4699, 0.0), (4700, 0.00424582476327973), (4701, 0.0), (4702, 0.0), (4703, 0.0), (4704, 0.0), (4705, 0.0), (4706, 0.0035097368400021185), (4707, 0.007369096921086066), (4708, 0.0), (4709, 0.0), (4710, 0.0), (4711, 0.0), (4712, 0.0), (4713, 0.0), (4714, 0.0), (4715, 0.0), (4716, 0.0), (4717, 0.0), (4718, 0.0), (4719, 0.0), (4720, 0.0034849011375569553), (4721, 0.024329974992716472), (4722, 0.0), (4723, 0.0), (4724, 0.0), (4725, 0.0), (4726, 0.0029278124683461814), (4727, 0.0037494678046949286), (4728, 0.01765142056610565), (4729, 0.0), (4730, 0.0), (4731, 0.0), (4732, 0.020259067814804563), (4733, 0.0), (4734, 0.003586948239618808), (4735, 0.03974916265791011), (4736, 0.010401400330251206), (4737, 0.0), (4738, 0.05089134570231176), (4739, 0.005541614636910716), (4740, 0.0), (4741, 0.0036623651548665153), (4742, 0.0036009217840286788), (4743, 0.011609921415600907), (4744, 0.0), (4745, 0.0), (4746, 0.033037085801688765), (4747, 0.012099408315969604), (4748, 0.006796948230823771), (4749, 0.004327407189924402), (4750, 0.0), (4751, 0.0), (4752, 0.03090249507002836), (4753, 0.0), (4754, 0.05443608615469417), (4755, 0.0), (4756, 0.010825002749127408), (4757, 0.0), (4758, 0.0), (4759, 0.0)]\n"
          ]
        }
      ]
    },
    {
      "cell_type": "code",
      "source": [
        "len(R_S)"
      ],
      "metadata": {
        "colab": {
          "base_uri": "https://localhost:8080/"
        },
        "id": "85o6V9x58hYI",
        "outputId": "6958a78b-7b73-4afc-a644-6c8f57a28cc6"
      },
      "execution_count": 47,
      "outputs": [
        {
          "output_type": "execute_result",
          "data": {
            "text/plain": [
              "4760"
            ]
          },
          "metadata": {},
          "execution_count": 47
        }
      ]
    },
    {
      "cell_type": "markdown",
      "source": [
        "# **Get All movies Sort based on Recommendation Score**"
      ],
      "metadata": {
        "id": "B9QlwKEq8nTG"
      }
    },
    {
      "cell_type": "code",
      "source": [
        "Ssm=sorted(R_S,key=lambda x:x[1],reverse=True)\n",
        "print(Ssm)"
      ],
      "metadata": {
        "colab": {
          "base_uri": "https://localhost:8080/"
        },
        "id": "y16HQFix8k28",
        "outputId": "cd87b560-1fb7-4b46-8b19-9bd4ba51235c"
      },
      "execution_count": 49,
      "outputs": [
        {
          "output_type": "stream",
          "name": "stdout",
          "text": [
            "[(2, 1.0000000000000002), (3467, 0.174197046706621), (2647, 0.14504514123846649), (137, 0.14326663261470035), (106, 0.12967484657662925), (3162, 0.12953401979542783), (70, 0.12677839641831246), (1251, 0.1206089514920449), (2016, 0.11475736045174803), (178, 0.11365699402188885), (72, 0.11080667390247168), (619, 0.10825441296196245), (3660, 0.10582657910007322), (1646, 0.10216636289822616), (3531, 0.098581176303892), (1276, 0.09809078939934543), (709, 0.09782826115540758), (624, 0.09687243801354323), (3621, 0.09595154769803792), (2623, 0.09565625673949023), (2591, 0.09540301529890659), (353, 0.09387960073144354), (3213, 0.09219317209412863), (1813, 0.09170142706728827), (293, 0.0907286848364454), (286, 0.09066644826343923), (2897, 0.0901167665386284), (182, 0.08840141606145471), (698, 0.08827003585057393), (1082, 0.08784416595359373), (1964, 0.0876045451276642), (3120, 0.08745561918671835), (4237, 0.08744306364634725), (4374, 0.08721108190164908), (4641, 0.08686066805483617), (2322, 0.08505696653327234), (459, 0.08322416307269784), (1586, 0.08311743740823736), (230, 0.08295837803917402), (2443, 0.0827613686796853), (427, 0.08274319847430522), (2321, 0.08261162408773462), (540, 0.08229803928549723), (463, 0.08211571281218161), (1834, 0.08190963947454726), (2682, 0.08171734155597084), (1974, 0.08126424686139046), (3331, 0.08114552370077205), (1092, 0.08078827290615655), (3860, 0.08011976107693548), (160, 0.07710304759661221), (3910, 0.07661259181340048), (1257, 0.07641284522317715), (3283, 0.07631833169071219), (2161, 0.0758619341776897), (3412, 0.07539199992082975), (2835, 0.07375067345545097), (853, 0.07369941728868556), (3415, 0.07355841803621044), (911, 0.07201908091941595), (1903, 0.07183569012027893), (4064, 0.071241689536375), (121, 0.07104130404755049), (4524, 0.07081905682580454), (2145, 0.07070545014883975), (862, 0.06980742453532668), (4051, 0.06964724323932829), (2061, 0.06819944992836428), (4498, 0.06768691601316985), (385, 0.06751774517801024), (988, 0.06681058133788394), (2649, 0.06610938921903009), (1505, 0.06608232764844205), (1714, 0.06594339734823329), (881, 0.0658062616900625), (1544, 0.0657012768249134), (2509, 0.06565335691657598), (3648, 0.06547162073321863), (3838, 0.06512969447020267), (4378, 0.06512183410017525), (3559, 0.06494476283516595), (324, 0.0646685084696537), (1114, 0.06417332244484789), (1010, 0.06401684047931512), (562, 0.06386964953288231), (3611, 0.063645831968575), (2857, 0.06348361919303201), (2290, 0.06341390044165336), (1758, 0.0620260601786274), (2668, 0.06189575497618406), (2197, 0.060924326795425504), (546, 0.06086829192377655), (3659, 0.060578800082585045), (2813, 0.06051264809002945), (4665, 0.06041426123748542), (4003, 0.06013630513560719), (3272, 0.059958022863687246), (1210, 0.0599094868730046), (1700, 0.05981400869079883), (705, 0.059279204304203845), (25, 0.059270552360476736), (2445, 0.05866856511069667), (2747, 0.05864446605578371), (1339, 0.05862328312021571), (4334, 0.05826051088789461), (3116, 0.05760971757396369), (155, 0.05744452370782935), (1254, 0.05742160468037917), (4411, 0.05739836175107592), (2340, 0.05734311639357283), (1842, 0.05711675733596584), (1724, 0.056952432696870614), (768, 0.05687882334569388), (1226, 0.05643278513020736), (1450, 0.05614894038406633), (880, 0.05604387293573433), (1574, 0.055859954006910593), (1094, 0.05529272122004801), (596, 0.05528828887002703), (337, 0.055257610654018935), (3865, 0.054954460866286796), (594, 0.05486263156407808), (879, 0.054538302048655896), (3646, 0.05452372594160174), (4754, 0.05443608615469417), (2280, 0.05443465277902653), (395, 0.05418693557798451), (946, 0.05397410961734311), (1454, 0.053837487750271515), (1351, 0.0536712998293566), (3302, 0.05339136837310788), (2299, 0.053291254020170514), (807, 0.05323395137239851), (2221, 0.05315901871967953), (3209, 0.053066078993939114), (2502, 0.053063742186367224), (2335, 0.05295917337180784), (2190, 0.0529409122171905), (1862, 0.05279721879041599), (1356, 0.05269394464084935), (3270, 0.05248247035360869), (472, 0.052411585821156716), (474, 0.05234083869611339), (1327, 0.05219269231842131), (3994, 0.052151804185385696), (3361, 0.05214646737435531), (233, 0.05212079123199013), (2853, 0.051579090715527416), (2965, 0.051572920070427575), (2753, 0.05134264751952435), (2759, 0.05125332120540207), (2138, 0.05098196405648329), (1468, 0.05094061162380948), (3913, 0.05089164205896212), (4738, 0.05089134570231176), (3441, 0.05037850209385858), (4178, 0.050048004184089605), (2925, 0.049948171900266125), (1845, 0.04972185340246526), (4174, 0.049693302790880654), (2944, 0.049675682612632534), (815, 0.04951271954494166), (1202, 0.04938993398298284), (567, 0.04897270087817142), (1241, 0.04887378862176479), (217, 0.04879758278481817), (1157, 0.048581270806570376), (2119, 0.04841203738424387), (105, 0.04841028271926355), (1080, 0.048210908480705174), (2580, 0.04820001306764697), (1933, 0.04798598170776305), (4162, 0.04790245577152647), (1375, 0.04784874175997304), (2660, 0.04778393001910888), (428, 0.04777852201852892), (1305, 0.04769739703460326), (1799, 0.047480887173171386), (893, 0.04746643327335277), (948, 0.04745246497059862), (1743, 0.04732187057353065), (3238, 0.0472296397934771), (0, 0.047164870681121185), (1002, 0.04673626598502018), (1427, 0.04671407368769216), (2588, 0.04647992753314768), (429, 0.04637869427711648), (2359, 0.046286219375825964), (2884, 0.046188830791510885), (1568, 0.045902801097093035), (2667, 0.045812573513474134), (708, 0.04580173478219552), (185, 0.04571111914078201), (2005, 0.04561862959204557), (3509, 0.04556289007150216), (1550, 0.04551170716853542), (3488, 0.04548926782716607), (2218, 0.045485437598101905), (3373, 0.04527349183399466), (852, 0.045209271905915026), (3228, 0.0452062446341943), (3030, 0.04503348377641336), (1694, 0.04494932168737901), (2392, 0.044888889788613266), (1703, 0.04473888919210166), (3119, 0.04463758195151493), (1789, 0.044485062885122204), (4633, 0.0442368915546911), (4605, 0.04419936644768135), (3757, 0.04416955383845502), (2662, 0.04381097199099481), (1178, 0.043783766013702215), (1478, 0.04376177637224346), (2664, 0.0436892114592351), (2104, 0.04367502499160462), (3047, 0.04358473636981851), (4095, 0.04358440194488732), (3263, 0.04353245773472783), (4337, 0.043372417175113864), (2540, 0.04330727633533341), (1760, 0.04329061936672298), (4456, 0.043241745810671924), (1365, 0.04298819054641674), (2250, 0.04296171874139111), (3109, 0.04291057367112881), (561, 0.04288970958104607), (1948, 0.04271670039227589), (4566, 0.04262629706372828), (2433, 0.042584208063626804), (4182, 0.04256871953754078), (1817, 0.042522394270837094), (4276, 0.042514163489963605), (3306, 0.04244262110249067), (2102, 0.04237350607393205), (4579, 0.042357520764815304), (753, 0.0422002067641674), (1794, 0.04213379813124952), (856, 0.04210047416193737), (1296, 0.042023863934559064), (3855, 0.0420144221578281), (96, 0.04193975798812884), (4485, 0.041930975429435705), (247, 0.041873139486664115), (2097, 0.04186646378709094), (3308, 0.041824762704685), (4171, 0.04169042606810264), (651, 0.0416408549554158), (1584, 0.041608256152081684), (2584, 0.04160180447839772), (1698, 0.041574595783251435), (703, 0.041555528654038415), (2360, 0.041536649980398355), (1676, 0.041516123347185595), (1855, 0.04151041179345276), (730, 0.04149170037914968), (91, 0.0410388776849719), (1937, 0.04097107359224945), (166, 0.04092504857903793), (3181, 0.040767403983028465), (2585, 0.040572292429492174), (743, 0.04043028956961903), (1216, 0.04041953278156601), (794, 0.040165922635107064), (507, 0.04000226095227495), (3526, 0.03994268548604783), (4695, 0.039878183386412976), (4625, 0.03987675649639945), (778, 0.039759275020911394), (4735, 0.03974916265791011), (1570, 0.039730924249007024), (2814, 0.03972743653831363), (4125, 0.03959441082609845), (2524, 0.039551563030600874), (269, 0.03947696823590648), (406, 0.03941990035565285), (1920, 0.039182136429090325), (1430, 0.03916472578516733), (1152, 0.03914685036270795), (4214, 0.03896009977652754), (1666, 0.03890446669371875), (212, 0.038876638997793776), (2493, 0.038853551897145185), (2852, 0.03884435142835988), (1046, 0.03876994907871353), (2184, 0.03872056046751539), (3666, 0.03865683268751052), (256, 0.038606322707214764), (2303, 0.038601624731765156), (954, 0.03856897841346883), (2232, 0.038495367850698986), (26, 0.03848578543851992), (1176, 0.03847581407102804), (355, 0.03844839793365862), (4576, 0.03835394139762474), (4015, 0.0383494097911356), (2615, 0.03834881646870548), (3785, 0.03826042417603238), (1095, 0.038257963819574727), (4500, 0.03814979962679138), (4164, 0.03799615695759271), (1944, 0.03797219594922065), (1609, 0.03792198583533109), (2406, 0.03787481905111491), (1364, 0.03765427131951706), (989, 0.03744946852887601), (3843, 0.037375902992949996), (3653, 0.03735651283737532), (3133, 0.0372466545538261), (500, 0.037237574452620305), (1279, 0.03717393118188099), (3129, 0.03709669046801756), (1664, 0.037059833609071446), (3328, 0.03705183311363707), (2646, 0.03702177903898875), (884, 0.03700274054209784), (906, 0.03687114239930413), (1888, 0.03684745224658211), (49, 0.036843131422158774), (939, 0.036792334114934225), (1485, 0.03670380251479014), (3326, 0.036657262164748586), (3506, 0.036544538371487266), (350, 0.03643847504035805), (196, 0.03641341809828919), (4314, 0.03640982150793808), (1868, 0.03637982198072437), (4220, 0.03637850552912252), (3864, 0.03630669616922895), (3973, 0.03627227887186279), (936, 0.0362548530804329), (370, 0.0362486057289603), (1682, 0.036224304189659794), (2100, 0.03616100357952978), (1562, 0.036052474397141224), (4345, 0.036037083594561), (2059, 0.036022614222909255), (2227, 0.036015564295438555), (4225, 0.035934394417253095), (4149, 0.035911952525847404), (2476, 0.03582834721095969), (785, 0.03581882107966949), (360, 0.0357720964321551), (173, 0.03566737630144791), (4443, 0.03564640922146559), (3589, 0.03559432201117551), (2563, 0.03553782679656943), (4268, 0.03541288838431501), (508, 0.03527618085285278), (2118, 0.035205266826310186), (2283, 0.034972611372381515), (3495, 0.03494437934388977), (2398, 0.03484850647913033), (2957, 0.03480565622734366), (47, 0.034716204333570144), (4658, 0.03463900641760671), (4647, 0.03463674388600606), (3027, 0.034498209406232334), (2000, 0.0344406739268308), (3916, 0.0343996333243469), (953, 0.03429027456688945), (3776, 0.03420246604265555), (108, 0.03419825866788466), (3016, 0.03413979388685158), (1163, 0.03408128064557562), (642, 0.03407587673479362), (3550, 0.03406221594038632), (3179, 0.03405545975381104), (926, 0.03405138849583393), (1057, 0.03404017347222139), (1456, 0.03402898714861708), (2980, 0.03390540662400974), (2517, 0.03384594547508969), (3734, 0.033716072217484655), (1412, 0.03366242077179855), (229, 0.03365202567494381), (3315, 0.033592368142489414), (136, 0.033404443919332796), (3317, 0.0333713175812633), (1496, 0.03317029709900236), (4105, 0.03309892479909387), (4746, 0.033037085801688765), (2766, 0.0330268844090721), (1503, 0.033022199742968036), (3422, 0.03300775981687465), (1891, 0.03289627079384598), (3830, 0.032867410130393425), (1824, 0.03276013543489768), (2060, 0.03257473009838382), (740, 0.032427949155093366), (3024, 0.03236562463186283), (2114, 0.032268210909926896), (3650, 0.03219627986157802), (2353, 0.03199891732348732), (1282, 0.031917029968514324), (69, 0.0318697014991588), (566, 0.031827445914571637), (3375, 0.03167873384075969), (995, 0.031664431180134914), (2212, 0.031630785421477785), (1953, 0.031557106325659987), (315, 0.03151850392151333), (621, 0.03147103422998042), (27, 0.0313706091213585), (3369, 0.031362881311718445), (804, 0.0312316400600655), (356, 0.03120249410724152), (4405, 0.03100620507065193), (1677, 0.030996469612579194), (1992, 0.030976134931767832), (4752, 0.03090249507002836), (1458, 0.03071168746241909), (4518, 0.030619641216508894), (1237, 0.030574560657405915), (1414, 0.030423844209748974), (2839, 0.030389052299437003), (379, 0.030386717641182497), (3456, 0.03031105740528659), (434, 0.03028776828832361), (2962, 0.030231243485710924), (1725, 0.030182624249310844), (400, 0.03007708174266482), (2442, 0.030076891433668918), (699, 0.030047435198128185), (4410, 0.029971904432384525), (532, 0.029958176757526437), (3993, 0.029948034051389356), (1259, 0.02978031824807378), (1559, 0.029746130830722486), (530, 0.029735379871000476), (1776, 0.02972886648562507), (3252, 0.029715419425018118), (2234, 0.02965871005235752), (2720, 0.02953714101331089), (187, 0.029484998666242702), (4519, 0.029329570226333344), (1876, 0.02926431100967055), (1489, 0.029263027518527947), (2022, 0.02925502783577387), (4070, 0.02911181353323044), (861, 0.028962988988126978), (731, 0.028768516016100074), (469, 0.028758287746121262), (3393, 0.028747738107106416), (3657, 0.028731648347300656), (975, 0.02862073055013839), (498, 0.0285825199631734), (373, 0.02839693379044874), (3117, 0.028380409032349667), (4548, 0.028274854964252562), (2235, 0.0282725484723124), (86, 0.028161417239456324), (3261, 0.02815489479459996), (2195, 0.028096084909534885), (1472, 0.027956420735369525), (265, 0.02792143384941984), (327, 0.027810616353980976), (2014, 0.027748009277975914), (597, 0.02773390887215496), (855, 0.02773126914158891), (1910, 0.02772337685017543), (3387, 0.02757803159575775), (2140, 0.027555883711555703), (3956, 0.02755536212073439), (4189, 0.027553591501751115), (52, 0.027516246637313842), (4551, 0.02749993394830271), (1645, 0.027487226276735867), (2762, 0.02745270961555974), (3425, 0.027382705941185755), (4662, 0.027376835639209993), (73, 0.027370743581463505), (4674, 0.027360479859463098), (1887, 0.02731903099047977), (3297, 0.027284478927746776), (4688, 0.027228467733864885), (4376, 0.027174276534716255), (1998, 0.027152702376842367), (2746, 0.027075691493075718), (1808, 0.027012801327832833), (4402, 0.026962899898524795), (415, 0.026951332187122472), (3208, 0.026928423874528106), (2760, 0.026881848645054593), (560, 0.026880725011088184), (2085, 0.0268665059529447), (2413, 0.02682816243672422), (455, 0.02681970573629888), (4420, 0.02676518541108803), (2626, 0.026654442170111148), (448, 0.026626847906232758), (874, 0.0265657797207091), (2553, 0.026548775664709458), (270, 0.02653062931123004), (891, 0.026514081993850254), (2496, 0.026482890116924306), (1344, 0.026388130082999985), (3101, 0.02637819057337605), (1253, 0.026256576267893992), (1828, 0.02622604628422256), (277, 0.026203392259088396), (3893, 0.026092160389497295), (384, 0.026086845932067386), (192, 0.02606208246110058), (2237, 0.026056850814942648), (3294, 0.02604898923321265), (1647, 0.026045587908037217), (836, 0.025949283587127576), (2111, 0.02592694439283723), (4233, 0.02590805597967338), (1577, 0.025876501294591386), (1849, 0.025862674230807247), (3668, 0.02578302175728369), (4433, 0.025738763261900287), (2086, 0.02573676750514967), (345, 0.02570366511756958), (1487, 0.02569311685563066), (179, 0.025633014108105298), (1495, 0.025578340587398073), (894, 0.025526795131519973), (3674, 0.025518789753882408), (3612, 0.025386245480059973), (1105, 0.025338084180266975), (4338, 0.025323052079121576), (1207, 0.025305181413114122), (517, 0.025297006058563293), (1616, 0.02528455980249139), (2073, 0.02526381628231163), (4407, 0.0252413057170713), (2824, 0.025236706638007592), (2418, 0.0251618586982906), (1614, 0.02511175548201983), (2908, 0.02507780475043602), (4173, 0.02505253187233335), (991, 0.025026781269413836), (3797, 0.02502394407881742), (2710, 0.025011404238849625), (2268, 0.024986219194705044), (4252, 0.024942351120894962), (2548, 0.024912889523651036), (3098, 0.024900996165345808), (769, 0.024892066615430232), (555, 0.024779001614236663), (2297, 0.024725385655022674), (3792, 0.024676754764849495), (656, 0.02459549806460433), (657, 0.02450514078542975), (3244, 0.024464073055836866), (495, 0.024455806914553957), (3822, 0.02439798885793435), (805, 0.024396899190340916), (827, 0.024389807097129353), (1390, 0.024362665400027128), (4721, 0.024329974992716472), (2366, 0.024315250174924048), (958, 0.024285909043520123), (1250, 0.024272953677427024), (1321, 0.024271266981257787), (4057, 0.02425760530833183), (3918, 0.024254731355044183), (1582, 0.024140227694863455), (4046, 0.02413880619314756), (3852, 0.024137323367375393), (810, 0.024134363257360864), (378, 0.0241206481727191), (392, 0.024109989607887482), (1118, 0.02402264209972787), (742, 0.02401875392629331), (892, 0.02399790312842188), (4287, 0.02398125437009494), (1904, 0.023953717279428702), (1025, 0.023953338883470184), (2055, 0.02388123724233252), (3801, 0.023847162802446944), (1610, 0.02378758847383751), (2494, 0.02377279945564118), (985, 0.023750167841343785), (3747, 0.023713057474234005), (263, 0.023680798611508715), (4454, 0.0236164627391233), (4303, 0.023612762563721527), (4263, 0.023608247834748443), (1726, 0.023589862650570306), (2793, 0.02357024087292531), (3711, 0.023508590372029736), (1090, 0.023500971364131117), (216, 0.02343772455299587), (683, 0.023417519615143254), (2155, 0.02341486913341756), (3658, 0.023329696584106656), (2851, 0.023318979508516992), (696, 0.02330117076664408), (2996, 0.023250032909161514), (3092, 0.02323209185789705), (1407, 0.023226403355517518), (358, 0.023193027576656124), (1784, 0.02317440494237595), (2854, 0.023155901258638815), (3556, 0.023134705193810418), (1009, 0.02313107330794227), (690, 0.0230724936874244), (3344, 0.023040355619276552), (750, 0.023017933012204863), (1935, 0.0230094243036175), (1494, 0.0230031571994862), (2570, 0.023000636051205347), (4523, 0.022996596333920618), (1122, 0.022986050214695672), (1018, 0.02296929788972278), (610, 0.022941758025368394), (3919, 0.022937482372584563), (557, 0.02292381150753584), (1353, 0.022895510259499853), (2560, 0.022839394512047542), (1295, 0.022825625388640712), (3594, 0.02279861862039484), (2981, 0.022778167619779893), (1797, 0.022775570596950876), (915, 0.0227695633427842), (82, 0.022762802157385804), (3769, 0.02274811527224723), (2264, 0.022734692595202576), (203, 0.02269699542384785), (3876, 0.022673775472930147), (4283, 0.02266608437540491), (2554, 0.022640518058645896), (3782, 0.02263516254363084), (4594, 0.02260505455940102), (3106, 0.022601968609245623), (2789, 0.022597893725229114), (670, 0.022577819973376698), (1492, 0.022572881674654023), (3759, 0.022552155298033665), (3684, 0.022548975826458977), (1079, 0.022481564946818352), (1481, 0.022466238273134927), (4290, 0.022456918581154995), (2109, 0.022423544999541918), (142, 0.022393671106642483), (520, 0.022370834874292353), (4063, 0.022340534355176224), (2586, 0.022328428813563173), (202, 0.02230302812002557), (2266, 0.022298061242002332), (2170, 0.022280150040437565), (1871, 0.022279046644717533), (1634, 0.022268545528395335), (30, 0.02222954055284482), (820, 0.022142724193789303), (2952, 0.022093111269006836), (1433, 0.02205208885662751), (1925, 0.022041645057151858), (1480, 0.02203269350849352), (2345, 0.0220203419352727), (763, 0.02199023924717105), (973, 0.021852757976173646), (2098, 0.021847053017346237), (4304, 0.021808005599405413), (1109, 0.021768677000957623), (3906, 0.02175826905782295), (3557, 0.02175456636778972), (479, 0.021695602636944818), (363, 0.021687384729397262), (3866, 0.021670222086760678), (780, 0.021663407369633618), (1873, 0.021599085256933114), (1961, 0.02158190999955407), (4324, 0.021567759694015688), (1932, 0.021553118707712322), (2752, 0.02148184978262236), (4329, 0.02144436729521577), (1791, 0.021421171736277816), (605, 0.02142049425031622), (1814, 0.021419843059614654), (2473, 0.021419644583699774), (2632, 0.021380966769293176), (541, 0.021361848802972573), (3984, 0.02133371022151756), (3546, 0.02132214454001609), (3427, 0.021309657478940165), (568, 0.021308687898701675), (3458, 0.021277349458011005), (3180, 0.02127648210410657), (3110, 0.021251650279612178), (2749, 0.02124414590715743), (3298, 0.0212430271561065), (251, 0.021212725062844703), (4604, 0.021211195515900432), (2485, 0.021180992263085938), (1969, 0.02116151563841934), (1465, 0.021160145976766576), (1914, 0.021091534733766466), (2196, 0.02108189397402451), (2876, 0.02104814540642541), (550, 0.02104004854372181), (3554, 0.02101972454839822), (786, 0.02100133471366033), (2354, 0.02099724978993527), (1511, 0.020979919526004562), (3312, 0.020930463985517685), (1068, 0.020927119600031862), (1242, 0.0209120595396062), (1306, 0.020887411389260056), (2840, 0.020867609400101753), (3709, 0.020810914941965436), (3969, 0.020808805099944407), (3155, 0.020807569788097457), (276, 0.020806959250854348), (609, 0.02080059893402489), (2761, 0.020779623736671166), (1493, 0.020745400144701664), (305, 0.02074250721077025), (2578, 0.0207392077138993), (1467, 0.020692535658338496), (559, 0.020687134885212455), (1117, 0.020666983056916645), (2677, 0.020630275915218637), (453, 0.020616064796810035), (3149, 0.020568404725718678), (2533, 0.0205579081834525), (1453, 0.020526030508209506), (4363, 0.020518835936594176), (1604, 0.020501171180838704), (1385, 0.020493529763358942), (3330, 0.020490948064120194), (3722, 0.020485321342540386), (1235, 0.02048084043203814), (1263, 0.020426068003075146), (4582, 0.020405831867073645), (2603, 0.02039907590545752), (3685, 0.020394574369069406), (44, 0.020391608501341654), (3269, 0.020389497022408293), (2034, 0.020362837745029345), (2899, 0.02031711689676235), (4325, 0.020304190355190103), (3578, 0.020303507605692807), (4569, 0.02029562552036684), (878, 0.020271693438468942), (4732, 0.020259067814804563), (57, 0.02025259451077774), (435, 0.02022468838198727), (1060, 0.020214174381333164), (2167, 0.020214077909901117), (2844, 0.020203177762714183), (2562, 0.020173288216504402), (1701, 0.020141017843680914), (4021, 0.020130927035334024), (1443, 0.020085916618054332), (868, 0.020079905887040034), (912, 0.020048062599840703), (4240, 0.019969102004521413), (347, 0.019968373120692336), (29, 0.01995949429365685), (4203, 0.01989421507347909), (1603, 0.019883730028081515), (4496, 0.019878825133583286), (1278, 0.01987237282807397), (10, 0.019837362372518826), (4591, 0.01981902628638842), (501, 0.019775993025363606), (1115, 0.01974522163093804), (2612, 0.01973380507499671), (3697, 0.019728257090222495), (1869, 0.01972500700831223), (1403, 0.01972228654100705), (3602, 0.019704603845971187), (4350, 0.019683471548278014), (3303, 0.01967671553408129), (2074, 0.01966094285905544), (403, 0.019657858941381695), (2177, 0.019628941407449474), (3251, 0.019628876163141778), (4388, 0.0196078753132182), (2666, 0.01958228298387889), (1301, 0.019578907579168994), (1692, 0.019575379643533147), (4143, 0.019566502051514924), (4502, 0.019560210167727094), (1778, 0.019544923402314122), (50, 0.019536381581389824), (2982, 0.019510681075443514), (2457, 0.01950379447115164), (3524, 0.019490504284878956), (336, 0.019488053593825633), (3858, 0.019463417395837783), (744, 0.019453379799051703), (2817, 0.019401873062220618), (1045, 0.019394156355943458), (2036, 0.019387105175050677), (3826, 0.019334409492004184), (3457, 0.019320465362895233), (2770, 0.019273726661103635), (184, 0.01927280899040765), (75, 0.019253129302961733), (3616, 0.019231243499102293), (3346, 0.01919893067748874), (2644, 0.01918641321632378), (3201, 0.019172413020737834), (3551, 0.019164058878949543), (1672, 0.01908843717861337), (1926, 0.01908505767681667), (2211, 0.019082621435462892), (122, 0.019075946793190857), (2788, 0.019068900522878705), (304, 0.019054479078623218), (4277, 0.01904902066223013), (1270, 0.019046368617739513), (2274, 0.019043013186735937), (2642, 0.0190391452249205), (3214, 0.019021089565280567), (3593, 0.019013304615071707), (4598, 0.019011681505842048), (2222, 0.01899683904178328), (3678, 0.01895759854814294), (2088, 0.018930526082146945), (1217, 0.01892137067133945), (2245, 0.018914913614747245), (1155, 0.01890178617989498), (1526, 0.018897833245129173), (2367, 0.01889380563828479), (4419, 0.018885386417636853), (3511, 0.01886016251907138), (1135, 0.01882820087557143), (1215, 0.01882083373534296), (895, 0.018820006217769233), (2404, 0.01881442345382836), (4289, 0.01880086519004141), (3206, 0.018786833599097642), (2430, 0.018785813321802104), (3553, 0.01875903897637998), (213, 0.018758192499006485), (1029, 0.018742895246657298), (2729, 0.018736266057393598), (281, 0.01871034130435994), (715, 0.01870538862398389), (3407, 0.018695252850285244), (1129, 0.01869205305776208), (3683, 0.01868637865179098), (239, 0.018678900997367458), (3389, 0.01867059011042974), (3474, 0.018648243767653963), (2929, 0.018610189950054017), (225, 0.018541053471164304), (486, 0.01853536476128336), (170, 0.018529737055355405), (4239, 0.018473678790732737), (2175, 0.01844882936726929), (2226, 0.01843560077971798), (4366, 0.01842435983349788), (3846, 0.018414546066956004), (3620, 0.018401719669890716), (1445, 0.01839716436258266), (1827, 0.018367640387361314), (161, 0.01835929839447645), (928, 0.018345499906494412), (622, 0.01834052549523283), (80, 0.01833184201403672), (1219, 0.01832698658465845), (2236, 0.01832252968750358), (330, 0.018315923635639705), (4076, 0.01830487467939736), (1934, 0.01828431168659441), (3644, 0.018275112323964664), (2573, 0.018247675205734563), (102, 0.018230715450708215), (2039, 0.01821999035317875), (1818, 0.018197611280077398), (1629, 0.018193116691105887), (1404, 0.018171130395929894), (2481, 0.018161249749305032), (2712, 0.01815765902315596), (1228, 0.018146925772135242), (3318, 0.018057752275372346), (577, 0.01803441220090024), (3808, 0.01803124878885059), (33, 0.018015021123973265), (2204, 0.018011250649322127), (3997, 0.018006142407633936), (2185, 0.01799354418718479), (4098, 0.01797436224524904), (829, 0.01797074097771893), (3582, 0.017940924203645955), (2006, 0.01794012887884682), (2801, 0.017888437186320712), (4047, 0.01787869404565372), (3730, 0.017870525903768038), (1588, 0.017863620345978354), (1021, 0.01784988742690921), (114, 0.01783575819921639), (2472, 0.017781729073214344), (2158, 0.017735806352052127), (1696, 0.017730765276679453), (539, 0.017707132166429516), (2262, 0.017690066083366922), (4183, 0.017676849110323495), (2954, 0.01767299868435677), (2633, 0.017657275217571364), (4728, 0.01765142056610565), (3914, 0.017649342413748402), (3647, 0.017629840177153574), (1379, 0.01761612223452539), (3459, 0.01760745572045602), (3951, 0.01760700013695514), (2552, 0.01759600329356402), (604, 0.0175739720008095), (3231, 0.017570414168124295), (1134, 0.017546262095748198), (524, 0.017543046826384884), (352, 0.0175401831575641), (1227, 0.017503252413855853), (944, 0.017490945614694272), (3222, 0.017482514873243916), (4270, 0.01747937102524378), (1064, 0.017470224699978564), (2187, 0.01746044534848007), (664, 0.017449033993714315), (1211, 0.01743005970182762), (1308, 0.017427945692805074), (793, 0.017415235280112174), (966, 0.017385097039198306), (3010, 0.017346345015224893), (1431, 0.01733180792149338), (3104, 0.01733108305316313), (1341, 0.017318942360764138), (2173, 0.017293889777450937), (1779, 0.017285350096693415), (2951, 0.017282469934411647), (3254, 0.017275435620071892), (496, 0.017269933899914654), (618, 0.01724742949053577), (1921, 0.017243513227562606), (1333, 0.017238528996004684), (342, 0.01722364316267202), (2064, 0.01722300314273179), (3924, 0.017202396802889937), (466, 0.017200449777612436), (2841, 0.017186196005610423), (3053, 0.017177458103904024), (3894, 0.017175365226758672), (3083, 0.01716485294455286), (1967, 0.0171454970339575), (3225, 0.017144926124110203), (3273, 0.017137725343894395), (3320, 0.017129031992286683), (2583, 0.01712003454531104), (1197, 0.01711520362113225), (1387, 0.017101930915769382), (3443, 0.01709784066183739), (806, 0.017083732463631256), (3205, 0.017060903691667354), (4242, 0.017028971496025683), (1116, 0.016997942024657146), (835, 0.01699471247177573), (1564, 0.016982755453557697), (1269, 0.016958400491635623), (833, 0.016953898005654458), (2368, 0.016913401589914424), (2311, 0.016910731164538517), (812, 0.01690740697173954), (1393, 0.01689309320027476), (2636, 0.016892522944538788), (981, 0.016875592781066873), (1195, 0.016843922487061597), (792, 0.016836064555510122), (2809, 0.016827396481013827), (2504, 0.016798477828089554), (1829, 0.016793228825105467), (1734, 0.016790752098625863), (639, 0.016788747657609186), (2094, 0.01678811365835846), (4023, 0.01677990500281112), (3477, 0.016778598069178717), (3111, 0.016767466234793978), (2382, 0.01676184107270377), (467, 0.016755781372134352), (834, 0.016747963854338226), (1626, 0.016731905079198785), (3629, 0.016729106769822137), (762, 0.01672201010846082), (2798, 0.016705624051127327), (717, 0.016695421126553135), (1247, 0.016694317715408823), (1232, 0.016677317764823434), (3003, 0.01667033286516558), (1034, 0.016669430170848876), (1411, 0.01665702934174358), (2206, 0.016621326116642486), (2317, 0.01662125653804165), (3221, 0.01658344726874058), (3293, 0.01658202701293185), (4364, 0.016548595025445048), (1852, 0.016547352482812954), (1153, 0.016524672968635797), (1718, 0.016491657849665234), (4661, 0.016489818425569226), (298, 0.016488493029468074), (2796, 0.016451376045856673), (56, 0.016448315634446008), (1679, 0.016413581916782764), (3256, 0.016408056196180593), (1561, 0.01640198210661345), (1081, 0.01639159579686865), (2408, 0.01636241965702565), (1509, 0.016314543552056478), (2942, 0.016313886433616195), (2686, 0.016280821941800385), (931, 0.0162730033396153), (3121, 0.016252272727791197), (150, 0.016242625096727824), (1175, 0.016183477246187454), (2999, 0.016111020381057512), (2375, 0.01610391968770611), (4055, 0.016102582652911687), (3060, 0.016098254935173917), (3195, 0.016094921684378722), (1209, 0.01609102983950349), (1166, 0.01608931549758177), (349, 0.01608281190080077), (519, 0.01608217205373456), (3651, 0.016074437222370203), (2696, 0.01604521377062029), (3754, 0.016041928041952765), (1931, 0.01602795247897432), (2918, 0.016001183342218176), (2435, 0.016000607834422236), (2738, 0.01599624462080372), (2771, 0.01599409848863805), (2037, 0.015985810872741923), (4179, 0.01596953916091252), (3408, 0.01596437918373891), (1476, 0.015958039045650883), (979, 0.01593855690042249), (1993, 0.015923793336235417), (3077, 0.015863901025341166), (1811, 0.015854838494541185), (2526, 0.01584938422249899), (110, 0.01584295332837495), (2050, 0.01584154105707639), (945, 0.015828918067758078), (691, 0.015817271833407268), (4409, 0.015786826252527485), (2387, 0.01578174548694812), (2121, 0.015777753260021322), (1774, 0.015715178165388012), (398, 0.015684154537926705), (4109, 0.015628141605765696), (612, 0.015627774341764756), (3706, 0.01561285592837165), (5, 0.015607445457177006), (3420, 0.015600260948545091), (3752, 0.015590218355096996), (4651, 0.015564509126863439), (821, 0.015549943052838973), (1374, 0.015526098146800518), (2782, 0.01551473905107924), (4607, 0.015513846803190259), (831, 0.015511852310025822), (817, 0.015506283119093738), (2525, 0.015495304662023167), (3735, 0.015477574767624666), (630, 0.015459964230126617), (1611, 0.015443015708751173), (3950, 0.01540985976169445), (1028, 0.015393932668488559), (3889, 0.015367194614766157), (3173, 0.015314995281832076), (676, 0.015312025924994886), (4320, 0.015304259131341853), (3284, 0.0152908702540269), (405, 0.015254776929723515), (790, 0.015252238525281608), (3746, 0.015247232474019568), (94, 0.015242495279337999), (3311, 0.015236133386471637), (3731, 0.015228903554829436), (4133, 0.015217894633516534), (3891, 0.015200593294233376), (309, 0.015190384394076727), (3592, 0.01518857013275623), (338, 0.015164790211816465), (1529, 0.015146520099744825), (2882, 0.015131085089517379), (538, 0.015103624114468363), (2558, 0.01507912272269974), (152, 0.015071269751899928), (359, 0.015051998737849756), (4234, 0.015024814097950007), (2886, 0.015010093440842826), (240, 0.015008407669491573), (1255, 0.014997121933861452), (3447, 0.014995103348992407), (1345, 0.014990652323788881), (143, 0.014981992073461126), (4279, 0.01496490034158892), (2831, 0.014921542175145033), (905, 0.014912363692966639), (1757, 0.014891239050895861), (3794, 0.014890069387183593), (1501, 0.014885947374935864), (4610, 0.014870115123031179), (3718, 0.014834346509307763), (775, 0.014832385003591433), (2409, 0.014831703122849621), (2768, 0.01482038620683434), (3885, 0.014802931082847155), (2935, 0.014794167280309354), (3338, 0.0147538349224381), (284, 0.01475363242884433), (4254, 0.01472757709151022), (237, 0.014720666488126609), (1284, 0.01471068093313017), (4627, 0.0147084199294742), (3040, 0.014641694780227487), (3430, 0.014630402286303395), (999, 0.014629632702712328), (2200, 0.014587438561384941), (2867, 0.014582539880599762), (266, 0.01453757979501605), (4074, 0.01449893307084902), (1539, 0.014489618925095867), (811, 0.014468413494024912), (4117, 0.014458250982622952), (3468, 0.014431879878204955), (4606, 0.014372733970833801), (2865, 0.014363804125637215), (2514, 0.014332151966827609), (285, 0.014288030922279447), (2263, 0.01428751070703205), (3487, 0.01428427260200928), (1580, 0.014263851737321467), (4451, 0.014248898685185406), (1267, 0.014231931233858835), (3585, 0.014231599605195152), (1816, 0.014213069913587638), (686, 0.014209348837422536), (787, 0.01419832200695725), (3070, 0.01419677237789072), (2652, 0.01414605119691522), (279, 0.01402668547801437), (4553, 0.01400623807130083), (4144, 0.013992571872787503), (4166, 0.013986144079892295), (4694, 0.013974356726537279), (88, 0.013961902587056992), (4554, 0.013931642140505143), (1288, 0.013914205237054571), (4122, 0.013883805380298849), (3279, 0.013825212024724233), (1803, 0.01374865426592278), (1201, 0.013717442621888148), (3619, 0.013640809961020003), (191, 0.013602800032724419), (2637, 0.013592682830350273), (4602, 0.0135825151541189), (2826, 0.013500831912922832), (957, 0.013463686283986552), (3637, 0.013451864571594306), (54, 0.013433949388548373), (2988, 0.013430346487063878), (1507, 0.013392353824050168), (2616, 0.013349676365251802), (1632, 0.013346694991936288), (66, 0.013336222421041372), (1245, 0.01329459483168728), (1612, 0.013228899190878395), (2730, 0.01322632505391213), (4247, 0.013208519777200589), (4650, 0.013197231666208885), (377, 0.013195591730564922), (3548, 0.01315554895675008), (2769, 0.013122025848660557), (231, 0.013121790916796033), (1569, 0.013117529057667193), (2285, 0.013100190587365848), (1369, 0.013071549590726195), (3366, 0.013038400164419883), (1419, 0.013023337729685194), (3579, 0.01301208391725458), (9, 0.013010654918971964), (3960, 0.01299186427053092), (2326, 0.01295119060636488), (271, 0.01294055629392831), (484, 0.012926811435357585), (2347, 0.012879442900483642), (205, 0.012863194613610079), (822, 0.012815693672253742), (130, 0.012763678199171792), (264, 0.01275024404749635), (1222, 0.012733775011037483), (4692, 0.012733137986994627), (1777, 0.012716693982031676), (3091, 0.012693417505697704), (67, 0.012662955454446815), (2377, 0.012645749683472225), (1401, 0.012633495199913495), (4578, 0.012623378409498624), (3736, 0.012575197480181167), (2174, 0.012540592901225637), (990, 0.0125218941674677), (1649, 0.012506613741420307), (2912, 0.012490143289224348), (2508, 0.012488453960555226), (3805, 0.012488240593359474), (1599, 0.012472685001137428), (2191, 0.012467650836194766), (3704, 0.012439788068325509), (2103, 0.012406569183623711), (846, 0.012405323880527933), (2513, 0.012391067543097326), (3983, 0.012363120257306178), (2053, 0.012346082523324923), (4241, 0.012337561381690359), (2421, 0.012319641523842795), (4054, 0.0123102362147927), (3000, 0.01230873786591468), (494, 0.01227971310961767), (2122, 0.012262962630164149), (4065, 0.012193571082679), (4677, 0.0121870812739311), (1804, 0.012176907319336032), (2220, 0.012139649966175893), (1406, 0.012133349511095856), (1859, 0.012124935188428438), (124, 0.012124045015329262), (2101, 0.012110888538149508), (4623, 0.012101515762546576), (4747, 0.012099408315969604), (3817, 0.012073640743903368), (1334, 0.012073234063672276), (2327, 0.01205988559727054), (3827, 0.01202226993264339), (1978, 0.012020211797036417), (3802, 0.012011745150188604), (433, 0.012001158173166559), (197, 0.011968802984945282), (2304, 0.011949510571098077), (839, 0.011925456931192121), (3529, 0.011868614169511299), (311, 0.011830028079091323), (745, 0.011790514110176516), (2601, 0.011780628526314403), (1078, 0.011748430871904626), (465, 0.011707192567800827), (2399, 0.011705170534908861), (332, 0.011689685290674908), (1, 0.011688013433572788), (1769, 0.011678187282935968), (3607, 0.011659327200409594), (3705, 0.011648069618968753), (1133, 0.01163566762831874), (4743, 0.011609921415600907), (1608, 0.01160777960528337), (3503, 0.011570703711965457), (1026, 0.011564869939530998), (1392, 0.011546358918041342), (3014, 0.011546317228758868), (132, 0.01153641427759229), (4292, 0.011527841505854793), (167, 0.011527549854385566), (2687, 0.011510618583966742), (2272, 0.011500963827301498), (2805, 0.011500850692782963), (339, 0.011491189030974038), (186, 0.011477018476562118), (2878, 0.01147655446201168), (723, 0.011457552423445698), (441, 0.01140590140817643), (4534, 0.01137208591333589), (1008, 0.011356058043902717), (629, 0.0113307802997613), (3534, 0.01131752357625012), (3829, 0.011286769477515982), (858, 0.011258122785869143), (218, 0.011257057598842346), (3370, 0.011253524258049537), (4169, 0.011240737454262587), (749, 0.01121883542400501), (1213, 0.01117564919000125), (2663, 0.011154426684871918), (542, 0.011065346159031559), (2007, 0.011054564351099718), (3175, 0.01101637612164852), (1723, 0.011011275349675935), (4567, 0.010989527832259928), (1762, 0.010957942875542262), (2527, 0.01094467658633396), (2320, 0.010925532128585172), (4106, 0.010878167252605762), (1191, 0.01084406220141088), (4756, 0.010825002749127408), (1517, 0.010801182628064662), (635, 0.01075779472320174), (935, 0.010711558257715295), (3743, 0.010695418360849248), (2829, 0.010688998230641438), (55, 0.010686048064978864), (43, 0.010684362444129292), (2239, 0.01066881673313253), (1071, 0.010654166312151622), (1865, 0.010634075308792467), (4001, 0.010630853608685169), (1041, 0.010621522302358063), (3329, 0.010593999334687014), (727, 0.010498658215748531), (76, 0.01045625327665375), (3215, 0.010447712281954707), (4343, 0.010433436563074069), (113, 0.010429546819837626), (3940, 0.010428020716583785), (4736, 0.010401400330251206), (1668, 0.010379963448100871), (3765, 0.010375527065952739), (684, 0.010371787350543107), (3630, 0.010327849615976985), (2845, 0.010324015476061198), (840, 0.010299826139778544), (4194, 0.010290702780862922), (3835, 0.010286595059781025), (4032, 0.010238230193327159), (3454, 0.010221617675664464), (4431, 0.010194899500015316), (2043, 0.010193439439013156), (4218, 0.010162268688605834), (319, 0.010118443154688064), (2751, 0.010117491953646827), (1579, 0.01009086388737883), (287, 0.010089788552618485), (1802, 0.010052454433111362), (962, 0.010038540761834119), (3677, 0.010028794024427173), (1709, 0.01001983895387549), (2520, 0.009998299658552557), (3022, 0.009963740798181006), (3856, 0.009938690822092448), (2338, 0.00993556582636976), (726, 0.009930297364644743), (1446, 0.009897536337876543), (1106, 0.009887710659896421), (1788, 0.00985389865251131), (4282, 0.009849301248535445), (3045, 0.009827153505312441), (1366, 0.009818981428592563), (310, 0.009810774677883579), (2541, 0.009807340908450481), (1277, 0.00977006997295432), (854, 0.009722674107605432), (527, 0.009665417673382306), (35, 0.009651581966050536), (2550, 0.009488124167822336), (1214, 0.00945782193677752), (351, 0.009454334165262007), (3028, 0.009424909137240731), (156, 0.00938854479442122), (706, 0.009300326106654835), (2906, 0.009222860931765439), (2287, 0.009220278885688235), (1675, 0.009198255149682847), (2975, 0.009147893709576633), (803, 0.009127070894407606), (440, 0.009116845865170533), (3566, 0.009111062702638197), (369, 0.009080173841211427), (2694, 0.00904601174918652), (249, 0.0090326611765525), (553, 0.008890155831064832), (3142, 0.008819842881911628), (306, 0.008812082006733488), (824, 0.008777593269096084), (1377, 0.00872174168045155), (2671, 0.00871751911936678), (497, 0.008668615532358155), (2927, 0.008641816584339365), (3127, 0.008619642832980622), (2426, 0.008614906195411925), (719, 0.008614261151688226), (1919, 0.008599806625257967), (2665, 0.008479229611840031), (412, 0.008475009642692826), (533, 0.008466719136416733), (407, 0.008466306492398726), (4480, 0.00846574580998065), (4624, 0.008404552627312703), (1349, 0.008378297585033442), (380, 0.008376285732689642), (3323, 0.008362508661588839), (1587, 0.008275949041190854), (3461, 0.008254552444482246), (3698, 0.008243872394297825), (1537, 0.008224120110003915), (757, 0.008182351923404246), (2610, 0.00814533404910787), (3903, 0.008119482498671983), (7, 0.008084071390043511), (1581, 0.008083172226158187), (4477, 0.00808217840060886), (3741, 0.008058935124103425), (1208, 0.008035515473854341), (2474, 0.00802178620721818), (1648, 0.008011406624058921), (1547, 0.008002209283422648), (2042, 0.007984150074460091), (1952, 0.007957672480626107), (3818, 0.007957535626846682), (250, 0.007944886490408047), (2818, 0.007926326979509913), (243, 0.007924195398276341), (3786, 0.007909631660794213), (1006, 0.00789997828215465), (3720, 0.007893757610075457), (259, 0.007869444988951623), (701, 0.007836681922504876), (2252, 0.007819842391360809), (1522, 0.0077989032055828834), (74, 0.007733972051610051), (1146, 0.007732227420743627), (162, 0.007730923605943572), (3345, 0.007692765849442028), (3259, 0.007691407100917254), (1319, 0.007674714786184262), (2963, 0.007673804711787907), (2790, 0.007670827669047841), (1223, 0.007633877652297088), (3472, 0.007622903866486409), (328, 0.007619375960815542), (2625, 0.007616756770252943), (2180, 0.007595976520349802), (2363, 0.007587762054297709), (1997, 0.0075814340576532855), (3690, 0.007581052809329404), (4330, 0.007576405272078382), (3623, 0.0075754182637156695), (760, 0.007575084123271445), (1140, 0.007570740374385313), (2656, 0.007554949196111034), (2169, 0.0075497087048136515), (1455, 0.0075476957049704875), (4613, 0.007543105112593717), (1742, 0.0075198091410351615), (3567, 0.007519537007720073), (2017, 0.007508791797433104), (2427, 0.007493537518514776), (297, 0.0074923835809627345), (2566, 0.007478953687073318), (439, 0.007467705629265493), (4025, 0.007465204093797158), (1307, 0.007453987453110576), (1765, 0.007433871507215478), (2032, 0.007423297097976864), (1273, 0.007422270309446469), (2732, 0.00741250096136196), (1515, 0.0074090592146015995), (813, 0.007406813866255013), (3577, 0.007399857904919546), (1179, 0.007378479648061101), (4265, 0.007377317317299036), (4589, 0.007376265672103217), (1346, 0.007375826662609054), (4707, 0.007369096921086066), (2725, 0.007359362999081779), (3424, 0.007355712862736028), (1630, 0.007345179255765946), (3150, 0.007344977880479494), (4013, 0.007339892857831993), (1087, 0.007339686664056188), (4030, 0.007334527395199716), (3397, 0.0073229826133957895), (3414, 0.00730583798106528), (1304, 0.007299059802710174), (1001, 0.007291528839993692), (2048, 0.007284451458729919), (4682, 0.007273265827598867), (3823, 0.007270896075344197), (1841, 0.007270497807210569), (2045, 0.007266849445787221), (1594, 0.007265084238294228), (1506, 0.00726386714764589), (1354, 0.007262346655865636), (2755, 0.007246621466217749), (3536, 0.007243042912158467), (2215, 0.007240871417034569), (4192, 0.007228754042728628), (219, 0.007207000206224149), (4110, 0.007205168653445152), (301, 0.0071959342640536775), (1520, 0.0071866391025158845), (2940, 0.007182027159651164), (3568, 0.007179304706591406), (1751, 0.00717639753685182), (408, 0.0071680685603432714), (2062, 0.007165205747200694), (2938, 0.007162257052212897), (570, 0.007155338238815648), (4344, 0.007147625187128565), (1982, 0.007147031381436344), (1459, 0.007146946519357827), (3518, 0.0071331973495759576), (2808, 0.0071326861318606665), (1500, 0.007120499964735253), (2650, 0.007104987406902344), (1013, 0.007104464883974562), (3958, 0.007103441740210902), (3274, 0.007102527941461618), (2792, 0.007095745941967953), (4436, 0.007094422534282828), (101, 0.007080935961910623), (3141, 0.007077614827080896), (1825, 0.007075601882683943), (907, 0.007066538794423652), (585, 0.007053359799001204), (1858, 0.007046745043437178), (1908, 0.007031123490490921), (3122, 0.007017021554715564), (3701, 0.007005716811253655), (1781, 0.007000979069394907), (3265, 0.006995623758621825), (3921, 0.006993481313276057), (1192, 0.006993063063058419), (1755, 0.0069871893265323875), (4061, 0.00697771501638425), (1915, 0.006972303518973588), (4457, 0.006960628618238285), (529, 0.00694586829217903), (3841, 0.006933765146920652), (221, 0.006933590586826874), (45, 0.006932427241053542), (1418, 0.006921105656702792), (974, 0.006909221860006349), (3058, 0.0069002517240138155), (483, 0.006899183683683963), (4272, 0.00689873429299607), (1617, 0.006894467144301931), (411, 0.006881279784788702), (2027, 0.006849095560871894), (3234, 0.0068481792385622), (2160, 0.006836085224588523), (1314, 0.006830117204507609), (549, 0.006830027063700908), (3810, 0.006813431636982767), (4748, 0.006796948230823771), (3923, 0.006788923192835934), (112, 0.006771464795622906), (1606, 0.006764363808170931), (4596, 0.0067555573774710055), (2624, 0.006741115611734596), (214, 0.0067338400173624835), (3264, 0.006729219552332548), (1787, 0.006728199542883696), (3670, 0.0067255614867517315), (756, 0.0067241945405745705), (2900, 0.0067174973736952295), (1857, 0.006709516835124422), (1782, 0.006703981724504657), (2422, 0.006703367216749011), (4332, 0.006694480852701746), (4570, 0.006692025876771748), (982, 0.006689787268188474), (3125, 0.006686775934232365), (1130, 0.006683552593674259), (4679, 0.006678535860369984), (2241, 0.006673015432487248), (2582, 0.0066708968590460695), (3970, 0.006668821255648616), (2765, 0.006667121525062116), (2791, 0.006664925215852684), (3890, 0.006657737874271418), (554, 0.0066540536696930086), (1420, 0.006646285317132261), (1329, 0.0066459254026382045), (1291, 0.006638730524576642), (2414, 0.006630117399940394), (4459, 0.006627067105641649), (2511, 0.006626388386115078), (2458, 0.006624910628930557), (374, 0.006624128048326165), (4176, 0.0066240936169375915), (1823, 0.0066238998348172465), (1033, 0.006616563952297729), (1052, 0.0066162471351027905), (4634, 0.006615374359647581), (1555, 0.006596523408012327), (2680, 0.006583932809849746), (1394, 0.006580802176408894), (1598, 0.0065791745871723656), (2498, 0.006554895938279121), (4515, 0.006542490951862741), (923, 0.006537674278574364), (268, 0.006536836493457968), (934, 0.006529350417807588), (653, 0.006495354134895256), (3455, 0.006488482914483213), (647, 0.00648724728763304), (798, 0.006481390283860187), (2503, 0.006478336570883713), (2224, 0.006461788002272362), (2724, 0.006456065789105534), (1756, 0.006442629682370093), (722, 0.0064422237067230685), (354, 0.0064407125066717275), (3226, 0.006421593615619035), (3563, 0.006402115028338294), (643, 0.006382765600794947), (3108, 0.006371847783686895), (1120, 0.006370102452498084), (2931, 0.006367957314648197), (3176, 0.006360398837175152), (3963, 0.006339792780728056), (4156, 0.006320601880535426), (37, 0.0063140814961107575), (357, 0.0063135951494987215), (2031, 0.006294044997392311), (1795, 0.0062898685982385235), (3655, 0.006271043681911913), (2070, 0.006266900407374884), (3018, 0.006258562651958974), (2658, 0.0062582415519781285), (222, 0.006250136345538432), (2807, 0.006249183220908215), (2763, 0.00623282754789849), (2047, 0.006210324293619132), (733, 0.006196448930993981), (165, 0.006182859386481143), (78, 0.006173531818570619), (1650, 0.006172557694019622), (2774, 0.006148425586480928), (4348, 0.006134292898161439), (3957, 0.006120832963502855), (569, 0.006113384748489632), (3515, 0.006106985426071318), (2492, 0.006101682726400929), (1719, 0.006092100664189121), (1039, 0.006084507682241599), (2654, 0.006083110409792903), (1707, 0.0060774977278934056), (1652, 0.006059331777272675), (4157, 0.006058553095794054), (4134, 0.006013200734014781), (1464, 0.005999412850951057), (3821, 0.00598262872725145), (2156, 0.005959006841432286), (2617, 0.005957240125493695), (3, 0.005953366634496819), (4590, 0.005944067596634464), (1631, 0.005924747687711881), (4568, 0.00591089525876379), (3751, 0.005908214813002756), (2318, 0.005892359924259302), (2892, 0.005849717285751133), (4026, 0.005832312191155862), (2985, 0.0058049516427980015), (177, 0.005755540650540222), (1957, 0.005745793327817269), (2933, 0.005735462286628765), (1553, 0.005694023531258674), (789, 0.005678230306627736), (3875, 0.005675040319202191), (1005, 0.005643645364120244), (2296, 0.005594220496372679), (3663, 0.005557058039026892), (4739, 0.005541614636910716), (738, 0.005537001940752459), (1471, 0.005494471895147868), (3144, 0.00543603592492358), (2412, 0.005434706221820693), (4158, 0.005385438448278286), (3365, 0.005336047298811934), (2376, 0.005318887441413353), (228, 0.005302048872889307), (4652, 0.005284393818819123), (452, 0.005209011077507295), (640, 0.005199479806454161), (3717, 0.005184946771053789), (510, 0.005114275240499843), (2678, 0.005081221517916569), (2734, 0.005044736355227601), (4201, 0.004985373458058116), (937, 0.004766161100159484), (2737, 0.004609535329222026), (4541, 0.004594361622515294), (3745, 0.004583572608986418), (823, 0.00455493928054865), (2534, 0.004553422381869037), (1548, 0.004521287585932207), (3355, 0.004512874685941581), (3055, 0.004505231265218915), (4313, 0.004501901354393303), (326, 0.004490876548449976), (614, 0.004463699997199968), (2306, 0.0044563621791209925), (1121, 0.004454243622146866), (2757, 0.0044483308353630265), (3523, 0.004437257537450427), (4198, 0.0044298074201535595), (2490, 0.004419534988872692), (11, 0.004416008059505285), (4271, 0.004394182287634246), (1381, 0.0043846652207893055), (1491, 0.004368512822288563), (3031, 0.004366435675826421), (3703, 0.004355429590047855), (2657, 0.0043537890748657024), (3292, 0.004347594614920755), (4019, 0.0043451000694548735), (2547, 0.004338314445292695), (4749, 0.004327407189924402), (1145, 0.004320281318734553), (2702, 0.004316156418170623), (4535, 0.004314302630950196), (2643, 0.004311729323283541), (4172, 0.004309159609143002), (1732, 0.00430803569092851), (2987, 0.004299060404347703), (2372, 0.004297143423364495), (3301, 0.004296709328668463), (2990, 0.004292292548676908), (2870, 0.004292166705947173), (4397, 0.004286630039882094), (4516, 0.004279718377324627), (914, 0.004276359405968351), (2659, 0.004274020309545437), (4612, 0.004268346956710263), (1148, 0.004266440091919449), (2351, 0.004263344227807685), (4418, 0.0042610507183929655), (3573, 0.004255250112426022), (1429, 0.004246593141289895), (4700, 0.00424582476327973), (680, 0.004240297464339026), (3217, 0.004235750283438008), (537, 0.004233505511917377), (2722, 0.004220405309441139), (3715, 0.004213079703526097), (1731, 0.004208270473484982), (2189, 0.004203743900331321), (1343, 0.004203510695789858), (2510, 0.004192381173757482), (2341, 0.0041875664250874915), (2775, 0.0041851125184964285), (431, 0.004183476923409422), (4102, 0.004178492395806401), (2936, 0.004178107565639543), (1383, 0.0041761017009522465), (2365, 0.004174369100000292), (2302, 0.0041712049420201775), (206, 0.004167756424933589), (2691, 0.004167102614728214), (1299, 0.004164439448635108), (1497, 0.004162910296728429), (2267, 0.004157034972938353), (4138, 0.004156303577592144), (4280, 0.004154028904660087), (4058, 0.004152705976766213), (2832, 0.00415127449837964), (961, 0.004149131212086008), (3145, 0.004147625613764145), (253, 0.0041452927821326), (2390, 0.004143655038443179), (2922, 0.0041425132901257355), (2837, 0.004142452363084709), (3450, 0.00414006761416199), (4208, 0.004139702859891155), (1885, 0.004139332811304901), (2361, 0.00413820577806317), (3134, 0.0041357340354808226), (4471, 0.004135658350730592), (2324, 0.004134546920090647), (1474, 0.004131929540195598), (476, 0.004131851848740213), (4000, 0.004130276718109959), (1470, 0.004129088518315077), (2257, 0.004126944115555281), (2066, 0.004126405522696671), (677, 0.004120325327494561), (3837, 0.004108325137574211), (1460, 0.004106261301668543), (443, 0.004104140994178596), (1733, 0.004097346486433414), (1051, 0.004096855943581261), (3691, 0.004092692570556404), (4351, 0.004085042171173113), (493, 0.004077166283122779), (1150, 0.004075837011188327), (4406, 0.004073957578670752), (1596, 0.004064899627595114), (2848, 0.004063443978087116), (2478, 0.004059501010986747), (2895, 0.00405750224526474), (1711, 0.004053309145734094), (2484, 0.00405152615774601), (1332, 0.004050215155014268), (68, 0.00405002921061735), (1810, 0.004049537285375637), (2733, 0.004049015462345233), (2522, 0.0040488448111501586), (1185, 0.0040469799708162555), (1968, 0.004045313166856933), (2960, 0.0040402770652243295), (1168, 0.004039885005978146), (3791, 0.004039346632499702), (3140, 0.004038063303645398), (704, 0.004037080502421323), (227, 0.0040364855841068786), (1233, 0.004035653373581477), (3381, 0.004034636721898994), (1882, 0.004034006939561133), (4007, 0.004028313592910919), (3847, 0.004026963069680416), (189, 0.004024423732482394), (2599, 0.0040237552087085075), (2116, 0.004022563013543007), (123, 0.004017817836712713), (2012, 0.00401724959385608), (3032, 0.004016506119204877), (2956, 0.00401622063666365), (4621, 0.004013809830899713), (4082, 0.004013069370636017), (312, 0.004012429857122657), (2082, 0.0040119227284479714), (1761, 0.004011508563600101), (3078, 0.004005761981592384), (3809, 0.004004803921585121), (424, 0.004004492412049104), (1851, 0.004002344589569847), (1894, 0.003999753440616539), (2462, 0.003998192239770898), (201, 0.003995078116824345), (3444, 0.003994484844556422), (1400, 0.003993965834089398), (3521, 0.003993498531880586), (1498, 0.003990000189803321), (4531, 0.003987577272899156), (3907, 0.00398643093894076), (4442, 0.003983344101213749), (2565, 0.003983194355204913), (3166, 0.003983047697194713), (739, 0.003982375625048912), (3469, 0.003981931035067958), (2278, 0.003980823451556197), (1798, 0.003980451612952094), (4136, 0.003979394689515082), (3572, 0.00397786246497763), (2530, 0.003976223973635288), (2147, 0.003974420825571601), (3877, 0.0039733274110318965), (4415, 0.003967905829423627), (3613, 0.003966830146930215), (12, 0.003964220513516384), (1973, 0.00396335351789715), (2614, 0.003959958788239976), (3379, 0.003957202774371743), (1262, 0.0039570725050657824), (2487, 0.003956565534541511), (4648, 0.003955593378987241), (2683, 0.003955226502628369), (2165, 0.00395256264310259), (4002, 0.003951164206076578), (272, 0.003949565184682461), (6, 0.003948976118649286), (2635, 0.003948716832618894), (890, 0.00394844638535795), (2850, 0.003946159854720945), (3172, 0.0039440139499608735), (3322, 0.003941861516904644), (3478, 0.0039413469861304265), (3618, 0.003937857963244012), (3887, 0.003936769658118836), (994, 0.003936029326792069), (3502, 0.003934234691346347), (176, 0.003933812433955985), (1402, 0.003929447018270253), (3363, 0.003928924509284601), (2393, 0.003927438328896916), (2079, 0.003926403191348739), (3154, 0.003926266187486385), (1615, 0.003925277403500569), (4484, 0.003924036879256721), (119, 0.0039224891918717385), (2879, 0.003922232348796482), (666, 0.003921851222789807), (2292, 0.0039212806031668134), (4389, 0.0039203257139879995), (4452, 0.003920061962386534), (3892, 0.003919903092037766), (2259, 0.003919836015808668), (1441, 0.003918705776718833), (3391, 0.003917903009250195), (2708, 0.003917149165762001), (3451, 0.003915454189598147), (1499, 0.003915392660235982), (3725, 0.003914094343778994), (3520, 0.003914045784313782), (1258, 0.003910347464413118), (3271, 0.003906913995225253), (857, 0.003906814265481948), (1072, 0.003905866372403059), (1461, 0.0039055977438564164), (2811, 0.0039036827044033897), (3448, 0.0039018613791063773), (2834, 0.0039009614634313555), (2993, 0.003900695959161173), (2105, 0.0038990512744158006), (4008, 0.003898789304067879), (1104, 0.003898434935407418), (721, 0.0038980860283909526), (3436, 0.0038975436125763007), (1557, 0.0038973555274211653), (729, 0.0038964768245870716), (3153, 0.0038909156064567277), (1681, 0.0038903301990268787), (1775, 0.0038892228757143326), (4035, 0.0038852112754882437), (636, 0.0038850270172087835), (4403, 0.0038829694449907695), (1895, 0.0038804919592502194), (3530, 0.003880375504649196), (781, 0.003878122604734383), (1011, 0.00387621382723226), (2537, 0.003875358142341491), (3771, 0.0038743654104617616), (1881, 0.00387400867183183), (460, 0.003871171092769968), (919, 0.003868336477347483), (913, 0.0038663595337158204), (341, 0.0038648749622264213), (4666, 0.0038627238106781654), (4675, 0.003862282982506524), (3681, 0.0038610736116625258), (3446, 0.0038606241638900088), (747, 0.003860411038524035), (1812, 0.003858411868297192), (3464, 0.003857923748655884), (4448, 0.0038578010140042345), (3507, 0.0038573723216043456), (1936, 0.0038570831744752926), (871, 0.0038562726356205297), (1907, 0.003854981949423136), (4341, 0.0038535763287158493), (1234, 0.003853049609024499), (23, 0.003852447026657049), (2108, 0.003848755528607891), (1048, 0.0038469933544813453), (1091, 0.0038458569308900447), (1003, 0.003845695920725131), (600, 0.003844037968423632), (4533, 0.0038439227245800054), (3915, 0.0038435978107178395), (700, 0.0038425423409424327), (1436, 0.0038395977686563314), (481, 0.0038381209387376284), (109, 0.0038381011414107217), (4243, 0.003837462362118401), (4084, 0.0038369503719618463), (275, 0.003836820810129986), (1536, 0.0038355738856972912), (4396, 0.0038332323734211497), (2911, 0.003830997940581315), (4564, 0.003830892052841377), (1727, 0.0038304867839689016), (3505, 0.0038301759586001605), (4460, 0.003829921427088775), (2246, 0.003828819187106581), (3286, 0.0038285094426211137), (1243, 0.003827347351099472), (4563, 0.0038270029695393615), (528, 0.0038242892700331215), (3587, 0.0038234700584084255), (2518, 0.0038234041260576004), (2605, 0.003822681848695024), (2378, 0.0038224900289577485), (404, 0.003821912576782434), (344, 0.0038212298454956667), (3404, 0.0038195329483901156), (3002, 0.003815008928847053), (1736, 0.0038138611209376796), (1893, 0.003813313464931283), (2684, 0.0038131240057414843), (1945, 0.003812823915113171), (3187, 0.003811242749520459), (887, 0.003810408971539311), (1643, 0.003810028460362902), (2673, 0.0038083973642638264), (2961, 0.0038070253092955253), (83, 0.0038069527896445916), (3780, 0.0038044861540974797), (737, 0.0038038283244224607), (4449, 0.0038010776560540743), (980, 0.0038000787326785755), (151, 0.003799918006134925), (3972, 0.0037992518526152614), (1074, 0.0037986275369455607), (1298, 0.00379754058017172), (3979, 0.0037966425168694373), (3833, 0.0037965450267112215), (3992, 0.003796390092686588), (4504, 0.0037961403083032357), (3324, 0.003795725252882552), (3309, 0.0037943133613351884), (3497, 0.003793769378187412), (3766, 0.003793559828551158), (2448, 0.0037934520477304686), (4383, 0.0037914842437589105), (2242, 0.0037912399267923265), (3029, 0.003790892723940463), (2488, 0.003789806187257057), (1916, 0.003789215320171123), (3401, 0.0037872319012906257), (1119, 0.0037863586130754295), (3920, 0.003784442701305581), (2056, 0.0037811863682326472), (4126, 0.0037804057163687553), (1448, 0.0037797341394577195), (2619, 0.003778457213449977), (3599, 0.0037780853176011733), (3093, 0.00377745589097758), (3491, 0.003776833557048504), (488, 0.0037762857862395113), (2546, 0.003776121287497542), (3099, 0.0037751405731603137), (4549, 0.0037742834426172014), (2106, 0.0037727862162000225), (580, 0.0037718226277308115), (409, 0.003771603085770455), (4639, 0.003771302197144965), (4127, 0.0037711888472613505), (331, 0.003770043959812343), (4369, 0.0037695919070854433), (348, 0.0037655711677676007), (3682, 0.0037653923220915715), (2609, 0.0037653454556460454), (3146, 0.0037648519229095184), (2334, 0.0037620611138975725), (2830, 0.003761985758022244), (1123, 0.0037603371124722653), (4108, 0.003759334520184954), (4190, 0.0037580610314862117), (499, 0.0037568001816616296), (1607, 0.003751399239255064), (4727, 0.0037494678046949286), (3549, 0.003748563160979218), (3967, 0.0037471900352213532), (2475, 0.003746443437226092), (260, 0.0037464136694362986), (3364, 0.003746384222824941), (1689, 0.0037462367123830688), (3044, 0.0037457401959284952), (2254, 0.00374549257344329), (313, 0.0037448367802119693), (3384, 0.0037408275383498425), (2284, 0.003739001106810928), (2273, 0.0037388442307434867), (2019, 0.003738269747852659), (4392, 0.003735346874449479), (4467, 0.003735027828147834), (3980, 0.0037333197677314653), (4099, 0.003732704883182792), (1518, 0.0037326883205788942), (847, 0.003732215702437561), (1860, 0.003731946204146261), (3378, 0.003731001617760698), (4090, 0.0037306767703844516), (425, 0.0037293067389789192), (3714, 0.0037292551756611435), (1740, 0.0037289361612922707), (4132, 0.0037283798696142825), (2910, 0.0037282334604212155), (552, 0.0037276652326559663), (4094, 0.0037262668703383285), (446, 0.0037252359886505173), (3435, 0.0037247241267494035), (1378, 0.0037244779889379497), (615, 0.003724200146502583), (845, 0.0037209988110039056), (3462, 0.0037207485928520733), (1043, 0.0037206915890321242), (1413, 0.0037193869743730526), (2501, 0.0037191308789824504), (3307, 0.0037181180051785137), (2991, 0.003711884024003332), (169, 0.0037117023351309346), (4273, 0.003707155537148308), (599, 0.003705294512354896), (4028, 0.0037033885219940423), (983, 0.003703287363956983), (4205, 0.003702919238066766), (2128, 0.003702741055379195), (2630, 0.003701752084183266), (3789, 0.0037012813513963147), (1297, 0.003700161836553483), (1923, 0.0037001347313116097), (2425, 0.0036979540746819063), (2977, 0.0036970680263353796), (3483, 0.003695501712804108), (1310, 0.0036948681801292353), (3699, 0.0036945044267305003), (2305, 0.0036935782122766176), (4068, 0.0036931036108584763), (2339, 0.0036920428352850226), (2564, 0.0036910497381691513), (1704, 0.003690279447430821), (1951, 0.003687870623212964), (241, 0.0036877457675137037), (3583, 0.0036860176133462798), (1396, 0.00368139914842848), (3819, 0.0036808033829047932), (2639, 0.003680444326645865), (1131, 0.003679091388930181), (2955, 0.0036777094779356016), (1665, 0.003675816244231498), (1325, 0.0036752319175442894), (1525, 0.0036752098587226304), (2574, 0.0036739824352724475), (2943, 0.0036738079530856636), (4281, 0.003672815933449156), (17, 0.003672404460951744), (2461, 0.0036718137011084416), (1688, 0.003671675898013371), (971, 0.003670533248096748), (2021, 0.0036704145318134855), (3359, 0.003668719288535871), (1942, 0.003667543663226765), (1535, 0.003666395420030109), (1638, 0.003665458516118877), (1193, 0.0036651379777636836), (3917, 0.0036639369447091725), (2872, 0.0036625327230371614), (4741, 0.0036623651548665153), (1368, 0.003662269848823962), (4660, 0.003661746339261778), (2071, 0.003660767611670732), (1620, 0.0036604346724950724), (681, 0.0036597407326181782), (870, 0.0036596181052023316), (2695, 0.00365784864471365), (2581, 0.0036578265303400196), (1946, 0.0036571611268952486), (4439, 0.0036569669450930665), (1287, 0.003656929392793613), (2126, 0.0036565597421002968), (340, 0.0036562758511288593), (728, 0.0036555721662956064), (492, 0.003655222038312516), (1640, 0.0036551289476985604), (771, 0.0036532749259267946), (682, 0.00365307758944887), (2261, 0.0036525282336622804), (903, 0.003652365381840521), (523, 0.003651302503181768), (346, 0.0036494247657762632), (343, 0.0036492043377302353), (3815, 0.0036488797474644487), (85, 0.0036486586366121067), (909, 0.0036485728273275356), (3588, 0.003648102423117413), (3386, 0.0036472983392995748), (4069, 0.0036462715687123944), (4664, 0.0036445509201031533), (2816, 0.0036426436216679854), (2776, 0.003641633092980746), (4473, 0.003641418959645461), (3812, 0.003640985927731184), (4210, 0.003640957183199267), (965, 0.003640157663761726), (140, 0.003639246946994147), (3182, 0.003638930479789777), (1710, 0.0036385434478619014), (2136, 0.003638244917265657), (368, 0.0036353884799624854), (2859, 0.003634876715396905), (2374, 0.00363370366513219), (3398, 0.0036315492991320733), (4103, 0.003627148832471683), (4527, 0.0036267862082041426), (967, 0.00362516772480023), (1136, 0.003624458606547576), (1027, 0.0036243259714574066), (2745, 0.0036224493444695885), (4236, 0.0036221584657318024), (1892, 0.0036216451788291457), (4072, 0.0036216451788291457), (504, 0.0036199801580915907), (1101, 0.0036192070423002793), (3280, 0.003617943156770536), (1194, 0.0036163447551641466), (3596, 0.0036147927127696995), (633, 0.0036139932948881185), (3652, 0.0036135383169624215), (4118, 0.0036109591255735385), (2298, 0.0036109284083122462), (1067, 0.003610215260919424), (1358, 0.0036100734034725025), (1949, 0.0036083725806825722), (1198, 0.0036079549496921904), (4062, 0.003607660642577376), (2887, 0.003607063480385332), (2112, 0.0036049571383449694), (921, 0.0036036717299501894), (4119, 0.0036036264704525658), (4165, 0.0036030586471800744), (4742, 0.0036009217840286788), (3708, 0.0036004677946864464), (4041, 0.0035996493474749996), (4603, 0.0035974409033162624), (1991, 0.0035969133455689365), (3377, 0.00359688411379123), (4269, 0.0035957309329998307), (685, 0.0035949092048384703), (321, 0.0035947648620548276), (3689, 0.003594403148659557), (1322, 0.0035931917396228165), (4033, 0.0035928688696884614), (1660, 0.0035912046655136552), (565, 0.0035908427506552037), (65, 0.0035897128296681576), (2979, 0.003589113858614126), (3643, 0.003588317042160953), (4585, 0.0035875349173285077), (4734, 0.003586948239618808), (273, 0.003586629544455486), (3955, 0.003586001823490821), (4059, 0.0035853927211965527), (883, 0.0035852696940486778), (1337, 0.0035845460105430626), (902, 0.0035841519930879364), (4267, 0.0035831568540626415), (1702, 0.003582363374520134), (863, 0.003581998882162166), (1463, 0.0035819691109827967), (644, 0.0035813470539475894), (2405, 0.0035798463368540714), (2095, 0.003579145046211475), (410, 0.0035767836961319447), (4687, 0.003576773573627308), (3171, 0.003576696381764253), (1483, 0.0035762350334485877), (2641, 0.003573681516004664), (525, 0.003573643703666334), (4475, 0.0035727952667939647), (1510, 0.003571705435962421), (1750, 0.003566391510744476), (2344, 0.0035661810710382307), (4614, 0.0035654033615857327), (3696, 0.0035628185483818657), (748, 0.0035610405542250943), (4308, 0.003559997629203968), (1889, 0.003559777784602957), (930, 0.0035583966141197135), (918, 0.0035548766758198946), (1030, 0.003554404859743223), (1447, 0.0035541523131342157), (1022, 0.003553846427707319), (3433, 0.003553799429396757), (4429, 0.0035528232650887848), (1239, 0.00355207728940639), (849, 0.0035517278515967516), (3654, 0.003551664592561699), (933, 0.003551541366367774), (261, 0.00355072656922507), (2997, 0.003550484496290558), (2436, 0.003549742372024424), (329, 0.0035484270127616306), (3434, 0.0035469415581022954), (1439, 0.0035463392343421116), (3103, 0.003545823409717556), (1642, 0.0035455250611117627), (4550, 0.0035452808637589967), (1738, 0.0035446714447315243), (1984, 0.003543723020152337), (1452, 0.0035434922958177567), (3707, 0.0035427992926925903), (2670, 0.0035408123362917093), (770, 0.003540569447659229), (1389, 0.0035403054724401947), (648, 0.003539114345553425), (4310, 0.003537516653285304), (1746, 0.0035370757021860907), (3351, 0.0035367687006723197), (2572, 0.0035365729215165943), (3073, 0.0035361334332296903), (2709, 0.0035358949438904995), (3665, 0.003535119271828803), (993, 0.0035349877296586446), (2139, 0.003534003805532849), (917, 0.003533493395934565), (2810, 0.0035328376737242518), (4600, 0.0035327701069343747), (579, 0.003532547904349816), (3539, 0.003531046005107649), (3161, 0.003530496633840601), (866, 0.0035293046667997465), (1482, 0.003528916347378538), (4588, 0.0035283117477814888), (2446, 0.0035263310354213206), (4160, 0.0035253795057635265), (4509, 0.003523855461631512), (1488, 0.0035201595736884792), (4482, 0.003519648569199247), (4071, 0.003516534137668964), (2698, 0.003514750055701025), (246, 0.003514369033461143), (783, 0.003514061018076304), (2689, 0.0035124337461782), (1930, 0.0035122842749962324), (3601, 0.003511445775290437), (897, 0.0035100073676076495), (4706, 0.0035097368400021185), (4073, 0.0035096101919301678), (2024, 0.0035065933227347228), (3991, 0.0035065439495861645), (1985, 0.003504909220873793), (875, 0.0035047649348939826), (299, 0.0035045779663943444), (2869, 0.0035045248724820824), (1641, 0.0035031186617260376), (2946, 0.00350236567542846), (1592, 0.0034998209319099926), (3834, 0.0034979116196712503), (521, 0.0034975958394932935), (4257, 0.003497182700338652), (1551, 0.003495246618042489), (2862, 0.0034950667309634103), (3610, 0.003494310535893318), (1426, 0.003494026086175739), (1667, 0.0034937536567942913), (3590, 0.0034932442227579323), (3695, 0.00349289731901327), (3977, 0.003491962282599755), (2740, 0.0034905135443145416), (4395, 0.0034879203121408837), (4077, 0.0034875699299198484), (4146, 0.003486899632156052), (3041, 0.003486434769169409), (4720, 0.0034849011375569553), (674, 0.003483121872478134), (418, 0.0034815692044839752), (117, 0.003479312199769683), (4645, 0.0034792960085554352), (3728, 0.0034784145953063172), (3998, 0.003478254454043638), (1328, 0.0034752346992965445), (2871, 0.0034750518281178875), (1035, 0.0034737500676766623), (4135, 0.0034731959594931456), (2470, 0.0034710711218907076), (4615, 0.0034709878463607645), (1619, 0.0034708592757174057), (773, 0.0034707178642867024), (1683, 0.0034705308275450666), (3633, 0.0034704408379516325), (3001, 0.0034686420545470714), (3528, 0.003468347120340203), (4630, 0.00346696277454275), (1880, 0.0034664286127342506), (1395, 0.0034654247177502233), (4686, 0.003465279357322775), (4056, 0.003463932377398118), (4629, 0.00346355142296869), (4036, 0.0034630405417955955), (2873, 0.003461937236839098), (1839, 0.0034617688580723884), (3237, 0.003461519756487377), (1085, 0.0034612483602178097), (608, 0.0034605319265702413), (1678, 0.003460497633293852), (4609, 0.0034593975124981935), (572, 0.0034590460211230047), (1807, 0.0034589563331611337), (899, 0.0034580996047028083), (2244, 0.0034577969790967993), (4399, 0.003457058106212574), (4081, 0.003456045676544331), (4148, 0.0034542807637798806), (1113, 0.003452764027726286), (1240, 0.003452732089212618), (4141, 0.0034514486052437477), (4328, 0.00345073434021267), (3857, 0.0034498036999425262), (2065, 0.0034488491765781153), (4226, 0.003446629187262686), (4120, 0.003444566672163915), (4264, 0.003444541426090422), (2653, 0.003444267130711464), (2289, 0.0034441100269960814), (4643, 0.0034426368469443387), (1204, 0.0034411950537234825), (1462, 0.0034408725489579947), (3011, 0.0034406293571676715), (3260, 0.003439937407324084), (1477, 0.0034396773064529294), (1283, 0.0034393243152672634), (135, 0.0034389750334649807), (3783, 0.0034365603482777625), (4339, 0.0034352088218759856), (724, 0.0034350835881654814), (1338, 0.0034350144114593468), (603, 0.0034344542335350116), (2480, 0.003433659183521809), (397, 0.0034336100599829155), (3235, 0.003431802455712981), (3218, 0.003431438751674661), (1183, 0.0034309269106053905), (888, 0.003430834026385773), (4155, 0.0034302411949508416), (3886, 0.0034285436886931767), (215, 0.003425938326012979), (3595, 0.003424075858854903), (1657, 0.0034234598249817784), (2920, 0.003422427984544456), (3510, 0.003418487318148934), (1171, 0.0034180042965880676), (1200, 0.0034176225753646443), (1352, 0.003417005416686609), (4595, 0.003416797128311207), (1826, 0.003414985581348043), (3799, 0.0034140039189867214), (2029, 0.003413346943075043), (1059, 0.0034131031956423784), (4297, 0.003412692561665877), (3046, 0.0034124768277737764), (3986, 0.003412475892743314), (372, 0.003412227703017149), (1451, 0.0034102721773357327), (2357, 0.0034096011608190147), (3500, 0.0034090935664107666), (4616, 0.0034088519086098892), (592, 0.0034086751918286566), (2337, 0.0034083935820520945), (986, 0.0034055934590968935), (53, 0.003405498998659525), (4193, 0.0034033064333699762), (447, 0.0034030707467250835), (720, 0.003400174532914013), (1768, 0.003399468299600347), (1173, 0.0033958368677972097), (4438, 0.0033952750671936618), (3403, 0.003395140844935143), (4375, 0.003394783007793136), (1196, 0.0033930512941491068), (18, 0.0033902116716033655), (4543, 0.0033892214993954495), (4479, 0.003388941749555929), (2003, 0.0033887276451149404), (4012, 0.003387579315179658), (4049, 0.003387345512706841), (4353, 0.003386793354264049), (3295, 0.003382303359586657), (1086, 0.0033818485639256542), (4622, 0.0033815453101212153), (1729, 0.0033807617563185724), (138, 0.003379972530827393), (2640, 0.0033788695172212867), (3944, 0.0033782720063622778), (4217, 0.0033769863720005625), (3868, 0.0033763657455856836), (4112, 0.0033759905611341853), (4693, 0.003375688873448405), (2178, 0.003375422834735654), (2842, 0.003373517056686986), (3912, 0.003372398757131545), (3813, 0.0033722179804826797), (4472, 0.003371799416722378), (490, 0.0033700945019051578), (3788, 0.003369379339002533), (2542, 0.0033683593288352945), (725, 0.0033672533789142287), (300, 0.003365922825668496), (2131, 0.00336284978661781), (2315, 0.0033628399352834595), (2072, 0.003360031931214564), (916, 0.003359944240087146), (1442, 0.003359450218522223), (678, 0.0033577998022904306), (2679, 0.0033564566187215773), (1988, 0.0033553044039363426), (1633, 0.0033548463598232596), (2052, 0.003354797185186986), (1256, 0.0033546382990672055), (291, 0.003353781284368721), (1662, 0.003353133971620313), (3343, 0.0033529584732577833), (1054, 0.003350633355469284), (2041, 0.0033456103825874445), (4689, 0.0033453978649906966), (4213, 0.0033452773502023665), (1486, 0.0033452353422617665), (3484, 0.003342671283325257), (2400, 0.0033425342979817464), (589, 0.003339177484161846), (3033, 0.0033372930309092884), (1622, 0.0033369621419241905), (1360, 0.003336685450599372), (126, 0.003336291265159101), (687, 0.0033336940008657744), (767, 0.003332767640724014), (3897, 0.0033313073214953715), (14, 0.003330358747999046), (959, 0.0033293064116125), (1793, 0.003326622327677086), (3277, 0.003325088386282003), (1597, 0.003324843786862516), (2777, 0.0033247403618238574), (2711, 0.0033246327169024316), (4262, 0.0033244570165164105), (617, 0.0033228222983743673), (1521, 0.003322145954139765), (4137, 0.0033207226936042816), (4009, 0.003319308715752506), (2301, 0.0033171475790773394), (3598, 0.0033165807149295318), (938, 0.0033158255697139528), (1066, 0.0033140316667296024), (1292, 0.003313169409964429), (3253, 0.003311094770047948), (3739, 0.0033105820178609214), (1457, 0.0033076702578228876), (183, 0.0033074921901054813), (4215, 0.0033074625145299344), (3321, 0.00330479214327355), (634, 0.0033034802351638148), (3411, 0.0033023383769023693), (3006, 0.0033017393074973745), (388, 0.0033001002641622258), (1070, 0.0033000724872817547), (3492, 0.0032996497200368418), (734, 0.0032992680154116036), (736, 0.003298022581172675), (97, 0.003297750723046122), (978, 0.003297567963110134), (2198, 0.0032970764057326444), (3105, 0.003296164156278269), (1348, 0.003294204213749124), (1990, 0.003293001548858861), (575, 0.003292987946026035), (2450, 0.0032923692253473925), (659, 0.0032909836334921684), (2172, 0.0032899971567034647), (4191, 0.0032868011280860585), (2163, 0.0032840955869381), (3562, 0.0032837518255781407), (3814, 0.0032828829310363283), (79, 0.003282598027672564), (1312, 0.003282311734688741), (2958, 0.0032811219784371643), (1573, 0.00327962026150937), (2621, 0.0032778836988482944), (3240, 0.0032762305990058746), (3102, 0.003274177728989051), (2587, 0.003273623420173104), (3767, 0.003270660352243707), (1309, 0.003270346250062563), (60, 0.0032691271791609106), (4381, 0.0032670357964748892), (655, 0.0032655114004333926), (2300, 0.003261896974911791), (2491, 0.0032591628246528962), (2146, 0.0032582026166906863), (111, 0.0032579077494596094), (1132, 0.003257390636487591), (282, 0.0032530142090218465), (4414, 0.0032529496407480364), (4573, 0.0032526928829318116), (4347, 0.0032513694224299713), (4592, 0.0032486201872336867), (1065, 0.0032479076158428207), (3023, 0.0032467855032415308), (3021, 0.003237838816535786), (1595, 0.0032372575306072295), (984, 0.003236692045235957), (1870, 0.0032361766558031795), (4284, 0.003236117972034393), (1098, 0.0032358721226606233), (4685, 0.0032343020411712622), (3167, 0.003232509233754596), (3035, 0.0032287250311447253), (1977, 0.0032278748508758537), (800, 0.0032266922241580855), (625, 0.0032255639179096735), (3374, 0.003225332232707578), (4326, 0.0032246476433457185), (908, 0.003223210943617627), (3399, 0.0032219362819320262), (2294, 0.0032213194631389866), (454, 0.003219430066476062), (4342, 0.0032193187386677135), (689, 0.0032174759942177073), (1042, 0.0032166650715126496), (583, 0.0032165696602743615), (924, 0.0032116720127427843), (3342, 0.003210144892509362), (1954, 0.003208339242866698), (4532, 0.0032078429408487446), (1971, 0.0032076855321571066), (399, 0.003207624643387997), (1050, 0.0032069928456780698), (2444, 0.003205667308555895), (2847, 0.00320543299777121), (3236, 0.0032041769119232743), (2531, 0.0032035362676812755), (2627, 0.003203378184171517), (257, 0.003203335602501891), (421, 0.0032019589825077635), (3327, 0.003201470588806364), (2608, 0.003199961666053175), (1199, 0.003198122912893831), (1772, 0.003197780699425439), (2706, 0.0031961977486695764), (2675, 0.0031948656644368864), (3712, 0.0031913842758478253), (4016, 0.003186046888676728), (2651, 0.003183555335563544), (2622, 0.0031807721096039207), (1943, 0.003180324059717498), (3471, 0.0031786665725675703), (3803, 0.003178178808345379), (1590, 0.0031754331991636162), (1397, 0.0031673477803329836), (548, 0.0031645737535128376), (1752, 0.0031640518754040715), (1425, 0.003162040581896778), (4636, 0.003159091120948248), (3193, 0.0031588228524049946), (1929, 0.003157952919259834), (1878, 0.0031545745324306645), (3211, 0.003146378752463373), (1428, 0.003144584882251082), (1357, 0.003135790372079881), (2023, 0.003135732294982915), (1303, 0.003134600349080699), (2416, 0.0031345074046186844), (3096, 0.0031292398911120017), (2152, 0.0031279684207695868), (4565, 0.003127437329810614), (3896, 0.00312738765599908), (2018, 0.0031254107809746677), (3362, 0.0031245650376191154), (707, 0.0031239024808791534), (1840, 0.0031238571638400577), (3626, 0.0031204854381462277), (3778, 0.0031153762033051865), (1764, 0.003112897251677454), (1900, 0.0031100827413623796), (2688, 0.0031084520893611225), (2439, 0.003105423676688535), (558, 0.0031046946232529174), (1524, 0.0031032146866808922), (3151, 0.0031029188656413564), (2352, 0.00310260264324474), (932, 0.0031019540870750825), (3428, 0.003101475252272828), (968, 0.0030985927526071873), (3360, 0.003097424476915694), (1384, 0.003097190789807344), (2291, 0.003094176853673363), (2120, 0.0030874241588598854), (877, 0.0030818185265651375), (2611, 0.0030807472425455657), (1994, 0.0030805670241601615), (3071, 0.003074745118922633), (563, 0.003073965987505937), (3880, 0.003072243878672343), (2193, 0.0030715782261958244), (1530, 0.003069965964089448), (816, 0.0030627304130677363), (438, 0.0030592244600945676), (732, 0.003058431709573163), (4359, 0.0030496324633021016), (3409, 0.003049468176393964), (4253, 0.003049202386566157), (3971, 0.0030441456784978996), (511, 0.0030395248762042225), (2013, 0.003038424653276831), (4177, 0.0030375264171871087), (3336, 0.003036372816620847), (3068, 0.003034368495353252), (788, 0.0030277062136313893), (611, 0.0030257646379730765), (692, 0.0030246955174679235), (885, 0.003023617047149714), (2058, 0.003017498500029057), (3480, 0.003014761335745344), (1950, 0.00301404527070001), (394, 0.003011701285702925), (808, 0.0030054059077273027), (1415, 0.003002235226510242), (668, 0.0029985804981778655), (15, 0.0029953781287954165), (3347, 0.0029937300030321895), (2631, 0.0029845634943328806), (3946, 0.0029758110522188214), (3927, 0.0029586872768102754), (2225, 0.002956727038516793), (2549, 0.002956396132895565), (1989, 0.0029557100087563236), (2868, 0.0029522932779328568), (1691, 0.0029516594615413587), (416, 0.002949978446395469), (626, 0.0029400799182879643), (2001, 0.0029357812270262157), (4726, 0.0029278124683461814), (3057, 0.0029257050258007984), (3538, 0.0029243861113754386), (2447, 0.002923614810334768), (2010, 0.002913850835148332), (779, 0.0029119806293343), (36, 0.002911599319957079), (2855, 0.0029101631777047245), (1546, 0.0029099069391800647), (3989, 0.0028874532838730764), (942, 0.002887442531217976), (381, 0.002883609002356456), (506, 0.002882150603424493), (148, 0.0028820403273611037), (2063, 0.0028799776172974546), (3203, 0.002876644584548855), (1221, 0.002872255060462514), (601, 0.0028565418258483105), (1144, 0.002854724941048721), (616, 0.0028490783573889267), (432, 0.0028404827024228665), (168, 0.002838381720011798), (2113, 0.0028368569931445787), (3825, 0.0028245024623817128), (1850, 0.002804721101345789), (195, 0.002799005980708022), (288, 0.002798904680738005), (3748, 0.0027963697141362718), (3152, 0.002771850510883536), (477, 0.0027551341096532715), (1981, 0.002751816053344364), (224, 0.002737363940629237), (3410, 0.00273453413077678), (159, 0.0027206656739875387), (602, 0.002719571547293167), (2969, 0.002709010718512412), (4445, 0.0026812429045565034), (3667, 0.002621875119665051), (940, 0.002621410260644763), (1861, 0.0026046062061057624), (972, 0.0025874244422878128), (4114, 0.0025785065098558792), (3199, 0.002572680936695834), (929, 0.002536988721758878), (294, 0.0025216268969654736), (129, 0.002458644272392327), (1987, 0.002438595474511653), (2885, 0.0023866375471013083), (3316, 0.0023502920126669915), (2544, 0.00231625508755411), (4, 0.0), (8, 0.0), (13, 0.0), (16, 0.0), (19, 0.0), (20, 0.0), (21, 0.0), (22, 0.0), (24, 0.0), (28, 0.0), (31, 0.0), (32, 0.0), (34, 0.0), (38, 0.0), (39, 0.0), (40, 0.0), (41, 0.0), (42, 0.0), (46, 0.0), (48, 0.0), (51, 0.0), (58, 0.0), (59, 0.0), (61, 0.0), (62, 0.0), (63, 0.0), (64, 0.0), (71, 0.0), (77, 0.0), (81, 0.0), (84, 0.0), (87, 0.0), (89, 0.0), (90, 0.0), (92, 0.0), (93, 0.0), (95, 0.0), (98, 0.0), (99, 0.0), (100, 0.0), (103, 0.0), (104, 0.0), (107, 0.0), (115, 0.0), (116, 0.0), (118, 0.0), (120, 0.0), (125, 0.0), (127, 0.0), (128, 0.0), (131, 0.0), (133, 0.0), (134, 0.0), (139, 0.0), (141, 0.0), (144, 0.0), (145, 0.0), (146, 0.0), (147, 0.0), (149, 0.0), (153, 0.0), (154, 0.0), (157, 0.0), (158, 0.0), (163, 0.0), (164, 0.0), (171, 0.0), (172, 0.0), (174, 0.0), (175, 0.0), (180, 0.0), (181, 0.0), (188, 0.0), (190, 0.0), (193, 0.0), (194, 0.0), (198, 0.0), (199, 0.0), (200, 0.0), (204, 0.0), (207, 0.0), (208, 0.0), (209, 0.0), (210, 0.0), (211, 0.0), (220, 0.0), (223, 0.0), (226, 0.0), (232, 0.0), (234, 0.0), (235, 0.0), (236, 0.0), (238, 0.0), (242, 0.0), (244, 0.0), (245, 0.0), (248, 0.0), (252, 0.0), (254, 0.0), (255, 0.0), (258, 0.0), (262, 0.0), (267, 0.0), (274, 0.0), (278, 0.0), (280, 0.0), (283, 0.0), (289, 0.0), (290, 0.0), (292, 0.0), (295, 0.0), (296, 0.0), (302, 0.0), (303, 0.0), (307, 0.0), (308, 0.0), (314, 0.0), (316, 0.0), (317, 0.0), (318, 0.0), (320, 0.0), (322, 0.0), (323, 0.0), (325, 0.0), (333, 0.0), (334, 0.0), (335, 0.0), (361, 0.0), (362, 0.0), (364, 0.0), (365, 0.0), (366, 0.0), (367, 0.0), (371, 0.0), (375, 0.0), (376, 0.0), (382, 0.0), (383, 0.0), (386, 0.0), (387, 0.0), (389, 0.0), (390, 0.0), (391, 0.0), (393, 0.0), (396, 0.0), (401, 0.0), (402, 0.0), (413, 0.0), (414, 0.0), (417, 0.0), (419, 0.0), (420, 0.0), (422, 0.0), (423, 0.0), (426, 0.0), (430, 0.0), (436, 0.0), (437, 0.0), (442, 0.0), (444, 0.0), (445, 0.0), (449, 0.0), (450, 0.0), (451, 0.0), (456, 0.0), (457, 0.0), (458, 0.0), (461, 0.0), (462, 0.0), (464, 0.0), (468, 0.0), (470, 0.0), (471, 0.0), (473, 0.0), (475, 0.0), (478, 0.0), (480, 0.0), (482, 0.0), (485, 0.0), (487, 0.0), (489, 0.0), (491, 0.0), (502, 0.0), (503, 0.0), (505, 0.0), (509, 0.0), (512, 0.0), (513, 0.0), (514, 0.0), (515, 0.0), (516, 0.0), (518, 0.0), (522, 0.0), (526, 0.0), (531, 0.0), (534, 0.0), (535, 0.0), (536, 0.0), (543, 0.0), (544, 0.0), (545, 0.0), (547, 0.0), (551, 0.0), (556, 0.0), (564, 0.0), (571, 0.0), (573, 0.0), (574, 0.0), (576, 0.0), (578, 0.0), (581, 0.0), (582, 0.0), (584, 0.0), (586, 0.0), (587, 0.0), (588, 0.0), (590, 0.0), (591, 0.0), (593, 0.0), (595, 0.0), (598, 0.0), (606, 0.0), (607, 0.0), (613, 0.0), (620, 0.0), (623, 0.0), (627, 0.0), (628, 0.0), (631, 0.0), (632, 0.0), (637, 0.0), (638, 0.0), (641, 0.0), (645, 0.0), (646, 0.0), (649, 0.0), (650, 0.0), (652, 0.0), (654, 0.0), (658, 0.0), (660, 0.0), (661, 0.0), (662, 0.0), (663, 0.0), (665, 0.0), (667, 0.0), (669, 0.0), (671, 0.0), (672, 0.0), (673, 0.0), (675, 0.0), (679, 0.0), (688, 0.0), (693, 0.0), (694, 0.0), (695, 0.0), (697, 0.0), (702, 0.0), (710, 0.0), (711, 0.0), (712, 0.0), (713, 0.0), (714, 0.0), (716, 0.0), (718, 0.0), (735, 0.0), (741, 0.0), (746, 0.0), (751, 0.0), (752, 0.0), (754, 0.0), (755, 0.0), (758, 0.0), (759, 0.0), (761, 0.0), (764, 0.0), (765, 0.0), (766, 0.0), (772, 0.0), (774, 0.0), (776, 0.0), (777, 0.0), (782, 0.0), (784, 0.0), (791, 0.0), (795, 0.0), (796, 0.0), (797, 0.0), (799, 0.0), (801, 0.0), (802, 0.0), (809, 0.0), (814, 0.0), (818, 0.0), (819, 0.0), (825, 0.0), (826, 0.0), (828, 0.0), (830, 0.0), (832, 0.0), (837, 0.0), (838, 0.0), (841, 0.0), (842, 0.0), (843, 0.0), (844, 0.0), (848, 0.0), (850, 0.0), (851, 0.0), (859, 0.0), (860, 0.0), (864, 0.0), (865, 0.0), (867, 0.0), (869, 0.0), (872, 0.0), (873, 0.0), (876, 0.0), (882, 0.0), (886, 0.0), (889, 0.0), (896, 0.0), (898, 0.0), (900, 0.0), (901, 0.0), (904, 0.0), (910, 0.0), (920, 0.0), (922, 0.0), (925, 0.0), (927, 0.0), (941, 0.0), (943, 0.0), (947, 0.0), (949, 0.0), (950, 0.0), (951, 0.0), (952, 0.0), (955, 0.0), (956, 0.0), (960, 0.0), (963, 0.0), (964, 0.0), (969, 0.0), (970, 0.0), (976, 0.0), (977, 0.0), (987, 0.0), (992, 0.0), (996, 0.0), (997, 0.0), (998, 0.0), (1000, 0.0), (1004, 0.0), (1007, 0.0), (1012, 0.0), (1014, 0.0), (1015, 0.0), (1016, 0.0), (1017, 0.0), (1019, 0.0), (1020, 0.0), (1023, 0.0), (1024, 0.0), (1031, 0.0), (1032, 0.0), (1036, 0.0), (1037, 0.0), (1038, 0.0), (1040, 0.0), (1044, 0.0), (1047, 0.0), (1049, 0.0), (1053, 0.0), (1055, 0.0), (1056, 0.0), (1058, 0.0), (1061, 0.0), (1062, 0.0), (1063, 0.0), (1069, 0.0), (1073, 0.0), (1075, 0.0), (1076, 0.0), (1077, 0.0), (1083, 0.0), (1084, 0.0), (1088, 0.0), (1089, 0.0), (1093, 0.0), (1096, 0.0), (1097, 0.0), (1099, 0.0), (1100, 0.0), (1102, 0.0), (1103, 0.0), (1107, 0.0), (1108, 0.0), (1110, 0.0), (1111, 0.0), (1112, 0.0), (1124, 0.0), (1125, 0.0), (1126, 0.0), (1127, 0.0), (1128, 0.0), (1137, 0.0), (1138, 0.0), (1139, 0.0), (1141, 0.0), (1142, 0.0), (1143, 0.0), (1147, 0.0), (1149, 0.0), (1151, 0.0), (1154, 0.0), (1156, 0.0), (1158, 0.0), (1159, 0.0), (1160, 0.0), (1161, 0.0), (1162, 0.0), (1164, 0.0), (1165, 0.0), (1167, 0.0), (1169, 0.0), (1170, 0.0), (1172, 0.0), (1174, 0.0), (1177, 0.0), (1180, 0.0), (1181, 0.0), (1182, 0.0), (1184, 0.0), (1186, 0.0), (1187, 0.0), (1188, 0.0), (1189, 0.0), (1190, 0.0), (1203, 0.0), (1205, 0.0), (1206, 0.0), (1212, 0.0), (1218, 0.0), (1220, 0.0), (1224, 0.0), (1225, 0.0), (1229, 0.0), (1230, 0.0), (1231, 0.0), (1236, 0.0), (1238, 0.0), (1244, 0.0), (1246, 0.0), (1248, 0.0), (1249, 0.0), (1252, 0.0), (1260, 0.0), (1261, 0.0), (1264, 0.0), (1265, 0.0), (1266, 0.0), (1268, 0.0), (1271, 0.0), (1272, 0.0), (1274, 0.0), (1275, 0.0), (1280, 0.0), (1281, 0.0), (1285, 0.0), (1286, 0.0), (1289, 0.0), (1290, 0.0), (1293, 0.0), (1294, 0.0), (1300, 0.0), (1302, 0.0), (1311, 0.0), (1313, 0.0), (1315, 0.0), (1316, 0.0), (1317, 0.0), (1318, 0.0), (1320, 0.0), (1323, 0.0), (1324, 0.0), (1326, 0.0), (1330, 0.0), (1331, 0.0), (1335, 0.0), (1336, 0.0), (1340, 0.0), (1342, 0.0), (1347, 0.0), (1350, 0.0), (1355, 0.0), (1359, 0.0), (1361, 0.0), (1362, 0.0), (1363, 0.0), (1367, 0.0), (1370, 0.0), (1371, 0.0), (1372, 0.0), (1373, 0.0), (1376, 0.0), (1380, 0.0), (1382, 0.0), (1386, 0.0), (1388, 0.0), (1391, 0.0), (1398, 0.0), (1399, 0.0), (1405, 0.0), (1408, 0.0), (1409, 0.0), (1410, 0.0), (1416, 0.0), (1417, 0.0), (1421, 0.0), (1422, 0.0), (1423, 0.0), (1424, 0.0), (1432, 0.0), (1434, 0.0), (1435, 0.0), (1437, 0.0), (1438, 0.0), (1440, 0.0), (1444, 0.0), (1449, 0.0), (1466, 0.0), (1469, 0.0), (1473, 0.0), (1475, 0.0), (1479, 0.0), (1484, 0.0), (1490, 0.0), (1502, 0.0), (1504, 0.0), (1508, 0.0), (1512, 0.0), (1513, 0.0), (1514, 0.0), (1516, 0.0), (1519, 0.0), (1523, 0.0), (1527, 0.0), (1528, 0.0), (1531, 0.0), (1532, 0.0), (1533, 0.0), (1534, 0.0), (1538, 0.0), (1540, 0.0), (1541, 0.0), (1542, 0.0), (1543, 0.0), (1545, 0.0), (1549, 0.0), (1552, 0.0), (1554, 0.0), (1556, 0.0), (1558, 0.0), (1560, 0.0), (1563, 0.0), (1565, 0.0), (1566, 0.0), (1567, 0.0), (1571, 0.0), (1572, 0.0), (1575, 0.0), (1576, 0.0), (1578, 0.0), (1583, 0.0), (1585, 0.0), (1589, 0.0), (1591, 0.0), (1593, 0.0), (1600, 0.0), (1601, 0.0), (1602, 0.0), (1605, 0.0), (1613, 0.0), (1618, 0.0), (1621, 0.0), (1623, 0.0), (1624, 0.0), (1625, 0.0), (1627, 0.0), (1628, 0.0), (1635, 0.0), (1636, 0.0), (1637, 0.0), (1639, 0.0), (1644, 0.0), (1651, 0.0), (1653, 0.0), (1654, 0.0), (1655, 0.0), (1656, 0.0), (1658, 0.0), (1659, 0.0), (1661, 0.0), (1663, 0.0), (1669, 0.0), (1670, 0.0), (1671, 0.0), (1673, 0.0), (1674, 0.0), (1680, 0.0), (1684, 0.0), (1685, 0.0), (1686, 0.0), (1687, 0.0), (1690, 0.0), (1693, 0.0), (1695, 0.0), (1697, 0.0), (1699, 0.0), (1705, 0.0), (1706, 0.0), (1708, 0.0), (1712, 0.0), (1713, 0.0), (1715, 0.0), (1716, 0.0), (1717, 0.0), (1720, 0.0), (1721, 0.0), (1722, 0.0), (1728, 0.0), (1730, 0.0), (1735, 0.0), (1737, 0.0), (1739, 0.0), (1741, 0.0), (1744, 0.0), (1745, 0.0), (1747, 0.0), (1748, 0.0), (1749, 0.0), (1753, 0.0), (1754, 0.0), (1759, 0.0), (1763, 0.0), (1766, 0.0), (1767, 0.0), (1770, 0.0), (1771, 0.0), (1773, 0.0), (1780, 0.0), (1783, 0.0), (1785, 0.0), (1786, 0.0), (1790, 0.0), (1792, 0.0), (1796, 0.0), (1800, 0.0), (1801, 0.0), (1805, 0.0), (1806, 0.0), (1809, 0.0), (1815, 0.0), (1819, 0.0), (1820, 0.0), (1821, 0.0), (1822, 0.0), (1830, 0.0), (1831, 0.0), (1832, 0.0), (1833, 0.0), (1835, 0.0), (1836, 0.0), (1837, 0.0), (1838, 0.0), (1843, 0.0), (1844, 0.0), (1846, 0.0), (1847, 0.0), (1848, 0.0), (1853, 0.0), (1854, 0.0), (1856, 0.0), (1863, 0.0), (1864, 0.0), (1866, 0.0), (1867, 0.0), (1872, 0.0), (1874, 0.0), (1875, 0.0), (1877, 0.0), (1879, 0.0), (1883, 0.0), (1884, 0.0), (1886, 0.0), (1890, 0.0), (1896, 0.0), (1897, 0.0), (1898, 0.0), (1899, 0.0), (1901, 0.0), (1902, 0.0), (1905, 0.0), (1906, 0.0), (1909, 0.0), (1911, 0.0), (1912, 0.0), (1913, 0.0), (1917, 0.0), (1918, 0.0), (1922, 0.0), (1924, 0.0), (1927, 0.0), (1928, 0.0), (1938, 0.0), (1939, 0.0), (1940, 0.0), (1941, 0.0), (1947, 0.0), (1955, 0.0), (1956, 0.0), (1958, 0.0), (1959, 0.0), (1960, 0.0), (1962, 0.0), (1963, 0.0), (1965, 0.0), (1966, 0.0), (1970, 0.0), (1972, 0.0), (1975, 0.0), (1976, 0.0), (1979, 0.0), (1980, 0.0), (1983, 0.0), (1986, 0.0), (1995, 0.0), (1996, 0.0), (1999, 0.0), (2002, 0.0), (2004, 0.0), (2008, 0.0), (2009, 0.0), (2011, 0.0), (2015, 0.0), (2020, 0.0), (2025, 0.0), (2026, 0.0), (2028, 0.0), (2030, 0.0), (2033, 0.0), (2035, 0.0), (2038, 0.0), (2040, 0.0), (2044, 0.0), (2046, 0.0), (2049, 0.0), (2051, 0.0), (2054, 0.0), (2057, 0.0), (2067, 0.0), (2068, 0.0), (2069, 0.0), (2075, 0.0), (2076, 0.0), (2077, 0.0), (2078, 0.0), (2080, 0.0), (2081, 0.0), (2083, 0.0), (2084, 0.0), (2087, 0.0), (2089, 0.0), (2090, 0.0), (2091, 0.0), (2092, 0.0), (2093, 0.0), (2096, 0.0), (2099, 0.0), (2107, 0.0), (2110, 0.0), (2115, 0.0), (2117, 0.0), (2123, 0.0), (2124, 0.0), (2125, 0.0), (2127, 0.0), (2129, 0.0), (2130, 0.0), (2132, 0.0), (2133, 0.0), (2134, 0.0), (2135, 0.0), (2137, 0.0), (2141, 0.0), (2142, 0.0), (2143, 0.0), (2144, 0.0), (2148, 0.0), (2149, 0.0), (2150, 0.0), (2151, 0.0), (2153, 0.0), (2154, 0.0), (2157, 0.0), (2159, 0.0), (2162, 0.0), (2164, 0.0), (2166, 0.0), (2168, 0.0), (2171, 0.0), (2176, 0.0), (2179, 0.0), (2181, 0.0), (2182, 0.0), (2183, 0.0), (2186, 0.0), (2188, 0.0), (2192, 0.0), (2194, 0.0), (2199, 0.0), (2201, 0.0), (2202, 0.0), (2203, 0.0), (2205, 0.0), (2207, 0.0), (2208, 0.0), (2209, 0.0), (2210, 0.0), (2213, 0.0), (2214, 0.0), (2216, 0.0), (2217, 0.0), (2219, 0.0), (2223, 0.0), (2228, 0.0), (2229, 0.0), (2230, 0.0), (2231, 0.0), (2233, 0.0), (2238, 0.0), (2240, 0.0), (2243, 0.0), (2247, 0.0), (2248, 0.0), (2249, 0.0), (2251, 0.0), (2253, 0.0), (2255, 0.0), (2256, 0.0), (2258, 0.0), (2260, 0.0), (2265, 0.0), (2269, 0.0), (2270, 0.0), (2271, 0.0), (2275, 0.0), (2276, 0.0), (2277, 0.0), (2279, 0.0), (2281, 0.0), (2282, 0.0), (2286, 0.0), (2288, 0.0), (2293, 0.0), (2295, 0.0), (2307, 0.0), (2308, 0.0), (2309, 0.0), (2310, 0.0), (2312, 0.0), (2313, 0.0), (2314, 0.0), (2316, 0.0), (2319, 0.0), (2323, 0.0), (2325, 0.0), (2328, 0.0), (2329, 0.0), (2330, 0.0), (2331, 0.0), (2332, 0.0), (2333, 0.0), (2336, 0.0), (2342, 0.0), (2343, 0.0), (2346, 0.0), (2348, 0.0), (2349, 0.0), (2350, 0.0), (2355, 0.0), (2356, 0.0), (2358, 0.0), (2362, 0.0), (2364, 0.0), (2369, 0.0), (2370, 0.0), (2371, 0.0), (2373, 0.0), (2379, 0.0), (2380, 0.0), (2381, 0.0), (2383, 0.0), (2384, 0.0), (2385, 0.0), (2386, 0.0), (2388, 0.0), (2389, 0.0), (2391, 0.0), (2394, 0.0), (2395, 0.0), (2396, 0.0), (2397, 0.0), (2401, 0.0), (2402, 0.0), (2403, 0.0), (2407, 0.0), (2410, 0.0), (2411, 0.0), (2415, 0.0), (2417, 0.0), (2419, 0.0), (2420, 0.0), (2423, 0.0), (2424, 0.0), (2428, 0.0), (2429, 0.0), (2431, 0.0), (2432, 0.0), (2434, 0.0), (2437, 0.0), (2438, 0.0), (2440, 0.0), (2441, 0.0), (2449, 0.0), (2451, 0.0), (2452, 0.0), (2453, 0.0), (2454, 0.0), (2455, 0.0), (2456, 0.0), (2459, 0.0), (2460, 0.0), (2463, 0.0), (2464, 0.0), (2465, 0.0), (2466, 0.0), (2467, 0.0), (2468, 0.0), (2469, 0.0), (2471, 0.0), (2477, 0.0), (2479, 0.0), (2482, 0.0), (2483, 0.0), (2486, 0.0), (2489, 0.0), (2495, 0.0), (2497, 0.0), (2499, 0.0), (2500, 0.0), (2505, 0.0), (2506, 0.0), (2507, 0.0), (2512, 0.0), (2515, 0.0), (2516, 0.0), (2519, 0.0), (2521, 0.0), (2523, 0.0), (2528, 0.0), (2529, 0.0), (2532, 0.0), (2535, 0.0), (2536, 0.0), (2538, 0.0), (2539, 0.0), (2543, 0.0), (2545, 0.0), (2551, 0.0), (2555, 0.0), (2556, 0.0), (2557, 0.0), (2559, 0.0), (2561, 0.0), (2567, 0.0), (2568, 0.0), (2569, 0.0), (2571, 0.0), (2575, 0.0), (2576, 0.0), (2577, 0.0), (2579, 0.0), (2589, 0.0), (2590, 0.0), (2592, 0.0), (2593, 0.0), (2594, 0.0), (2595, 0.0), (2596, 0.0), (2597, 0.0), (2598, 0.0), (2600, 0.0), (2602, 0.0), (2604, 0.0), (2606, 0.0), (2607, 0.0), (2613, 0.0), (2618, 0.0), (2620, 0.0), (2628, 0.0), (2629, 0.0), (2634, 0.0), (2638, 0.0), (2645, 0.0), (2648, 0.0), (2655, 0.0), (2661, 0.0), (2669, 0.0), (2672, 0.0), (2674, 0.0), (2676, 0.0), (2681, 0.0), (2685, 0.0), (2690, 0.0), (2692, 0.0), (2693, 0.0), (2697, 0.0), (2699, 0.0), (2700, 0.0), (2701, 0.0), (2703, 0.0), (2704, 0.0), (2705, 0.0), (2707, 0.0), (2713, 0.0), (2714, 0.0), (2715, 0.0), (2716, 0.0), (2717, 0.0), (2718, 0.0), (2719, 0.0), (2721, 0.0), (2723, 0.0), (2726, 0.0), (2727, 0.0), (2728, 0.0), (2731, 0.0), (2735, 0.0), (2736, 0.0), (2739, 0.0), (2741, 0.0), (2742, 0.0), (2743, 0.0), (2744, 0.0), (2748, 0.0), (2750, 0.0), (2754, 0.0), (2756, 0.0), (2758, 0.0), (2764, 0.0), (2767, 0.0), (2772, 0.0), (2773, 0.0), (2778, 0.0), (2779, 0.0), (2780, 0.0), (2781, 0.0), (2783, 0.0), (2784, 0.0), (2785, 0.0), (2786, 0.0), (2787, 0.0), (2794, 0.0), (2795, 0.0), (2797, 0.0), (2799, 0.0), (2800, 0.0), (2802, 0.0), (2803, 0.0), (2804, 0.0), (2806, 0.0), (2812, 0.0), (2815, 0.0), (2819, 0.0), (2820, 0.0), (2821, 0.0), (2822, 0.0), (2823, 0.0), (2825, 0.0), (2827, 0.0), (2828, 0.0), (2833, 0.0), (2836, 0.0), (2838, 0.0), (2843, 0.0), (2846, 0.0), (2849, 0.0), (2856, 0.0), (2858, 0.0), (2860, 0.0), (2861, 0.0), (2863, 0.0), (2864, 0.0), (2866, 0.0), (2874, 0.0), (2875, 0.0), (2877, 0.0), (2880, 0.0), (2881, 0.0), (2883, 0.0), (2888, 0.0), (2889, 0.0), (2890, 0.0), (2891, 0.0), (2893, 0.0), (2894, 0.0), (2896, 0.0), (2898, 0.0), (2901, 0.0), (2902, 0.0), (2903, 0.0), (2904, 0.0), (2905, 0.0), (2907, 0.0), (2909, 0.0), (2913, 0.0), (2914, 0.0), (2915, 0.0), (2916, 0.0), (2917, 0.0), (2919, 0.0), (2921, 0.0), (2923, 0.0), (2924, 0.0), (2926, 0.0), (2928, 0.0), (2930, 0.0), (2932, 0.0), (2934, 0.0), (2937, 0.0), (2939, 0.0), (2941, 0.0), (2945, 0.0), (2947, 0.0), (2948, 0.0), (2949, 0.0), (2950, 0.0), (2953, 0.0), (2959, 0.0), (2964, 0.0), (2966, 0.0), (2967, 0.0), (2968, 0.0), (2970, 0.0), (2971, 0.0), (2972, 0.0), (2973, 0.0), (2974, 0.0), (2976, 0.0), (2978, 0.0), (2983, 0.0), (2984, 0.0), (2986, 0.0), (2989, 0.0), (2992, 0.0), (2994, 0.0), (2995, 0.0), (2998, 0.0), (3004, 0.0), (3005, 0.0), (3007, 0.0), (3008, 0.0), (3009, 0.0), (3012, 0.0), (3013, 0.0), (3015, 0.0), (3017, 0.0), (3019, 0.0), (3020, 0.0), (3025, 0.0), (3026, 0.0), (3034, 0.0), (3036, 0.0), (3037, 0.0), (3038, 0.0), (3039, 0.0), (3042, 0.0), (3043, 0.0), (3048, 0.0), (3049, 0.0), (3050, 0.0), (3051, 0.0), (3052, 0.0), (3054, 0.0), (3056, 0.0), (3059, 0.0), (3061, 0.0), (3062, 0.0), (3063, 0.0), (3064, 0.0), (3065, 0.0), (3066, 0.0), (3067, 0.0), (3069, 0.0), (3072, 0.0), (3074, 0.0), (3075, 0.0), (3076, 0.0), (3079, 0.0), (3080, 0.0), (3081, 0.0), (3082, 0.0), (3084, 0.0), (3085, 0.0), (3086, 0.0), (3087, 0.0), (3088, 0.0), (3089, 0.0), (3090, 0.0), (3094, 0.0), (3095, 0.0), (3097, 0.0), (3100, 0.0), (3107, 0.0), (3112, 0.0), (3113, 0.0), (3114, 0.0), (3115, 0.0), (3118, 0.0), (3123, 0.0), (3124, 0.0), (3126, 0.0), (3128, 0.0), (3130, 0.0), (3131, 0.0), (3132, 0.0), (3135, 0.0), (3136, 0.0), (3137, 0.0), (3138, 0.0), (3139, 0.0), (3143, 0.0), (3147, 0.0), (3148, 0.0), (3156, 0.0), (3157, 0.0), (3158, 0.0), (3159, 0.0), (3160, 0.0), (3163, 0.0), (3164, 0.0), (3165, 0.0), (3168, 0.0), (3169, 0.0), (3170, 0.0), (3174, 0.0), (3177, 0.0), (3178, 0.0), (3183, 0.0), (3184, 0.0), (3185, 0.0), (3186, 0.0), (3188, 0.0), (3189, 0.0), (3190, 0.0), (3191, 0.0), (3192, 0.0), (3194, 0.0), (3196, 0.0), (3197, 0.0), (3198, 0.0), (3200, 0.0), (3202, 0.0), (3204, 0.0), (3207, 0.0), (3210, 0.0), (3212, 0.0), (3216, 0.0), (3219, 0.0), (3220, 0.0), (3223, 0.0), (3224, 0.0), (3227, 0.0), (3229, 0.0), (3230, 0.0), (3232, 0.0), (3233, 0.0), (3239, 0.0), (3241, 0.0), (3242, 0.0), (3243, 0.0), (3245, 0.0), (3246, 0.0), (3247, 0.0), (3248, 0.0), (3249, 0.0), (3250, 0.0), (3255, 0.0), (3257, 0.0), (3258, 0.0), (3262, 0.0), (3266, 0.0), (3267, 0.0), (3268, 0.0), (3275, 0.0), (3276, 0.0), (3278, 0.0), (3281, 0.0), (3282, 0.0), (3285, 0.0), (3287, 0.0), (3288, 0.0), (3289, 0.0), (3290, 0.0), (3291, 0.0), (3296, 0.0), (3299, 0.0), (3300, 0.0), (3304, 0.0), (3305, 0.0), (3310, 0.0), (3313, 0.0), (3314, 0.0), (3319, 0.0), (3325, 0.0), (3332, 0.0), (3333, 0.0), (3334, 0.0), (3335, 0.0), (3337, 0.0), (3339, 0.0), (3340, 0.0), (3341, 0.0), (3348, 0.0), (3349, 0.0), (3350, 0.0), (3352, 0.0), (3353, 0.0), (3354, 0.0), (3356, 0.0), (3357, 0.0), (3358, 0.0), (3367, 0.0), (3368, 0.0), (3371, 0.0), (3372, 0.0), (3376, 0.0), (3380, 0.0), (3382, 0.0), (3383, 0.0), (3385, 0.0), (3388, 0.0), (3390, 0.0), (3392, 0.0), (3394, 0.0), (3395, 0.0), (3396, 0.0), (3400, 0.0), (3402, 0.0), (3405, 0.0), (3406, 0.0), (3413, 0.0), (3416, 0.0), (3417, 0.0), (3418, 0.0), (3419, 0.0), (3421, 0.0), (3423, 0.0), (3426, 0.0), (3429, 0.0), (3431, 0.0), (3432, 0.0), (3437, 0.0), (3438, 0.0), (3439, 0.0), (3440, 0.0), (3442, 0.0), (3445, 0.0), (3449, 0.0), (3452, 0.0), (3453, 0.0), (3460, 0.0), (3463, 0.0), (3465, 0.0), (3466, 0.0), (3470, 0.0), (3473, 0.0), (3475, 0.0), (3476, 0.0), (3479, 0.0), (3481, 0.0), (3482, 0.0), (3485, 0.0), (3486, 0.0), (3489, 0.0), (3490, 0.0), (3493, 0.0), (3494, 0.0), (3496, 0.0), (3498, 0.0), (3499, 0.0), (3501, 0.0), (3504, 0.0), (3508, 0.0), (3512, 0.0), (3513, 0.0), (3514, 0.0), (3516, 0.0), (3517, 0.0), (3519, 0.0), (3522, 0.0), (3525, 0.0), (3527, 0.0), (3532, 0.0), (3533, 0.0), (3535, 0.0), (3537, 0.0), (3540, 0.0), (3541, 0.0), (3542, 0.0), (3543, 0.0), (3544, 0.0), (3545, 0.0), (3547, 0.0), (3552, 0.0), (3555, 0.0), (3558, 0.0), (3560, 0.0), (3561, 0.0), (3564, 0.0), (3565, 0.0), (3569, 0.0), (3570, 0.0), (3571, 0.0), (3574, 0.0), (3575, 0.0), (3576, 0.0), (3580, 0.0), (3581, 0.0), (3584, 0.0), (3586, 0.0), (3591, 0.0), (3597, 0.0), (3600, 0.0), (3603, 0.0), (3604, 0.0), (3605, 0.0), (3606, 0.0), (3608, 0.0), (3609, 0.0), (3614, 0.0), (3615, 0.0), (3617, 0.0), (3622, 0.0), (3624, 0.0), (3625, 0.0), (3627, 0.0), (3628, 0.0), (3631, 0.0), (3632, 0.0), (3634, 0.0), (3635, 0.0), (3636, 0.0), (3638, 0.0), (3639, 0.0), (3640, 0.0), (3641, 0.0), (3642, 0.0), (3645, 0.0), (3649, 0.0), (3656, 0.0), (3661, 0.0), (3662, 0.0), (3664, 0.0), (3669, 0.0), (3671, 0.0), (3672, 0.0), (3673, 0.0), (3675, 0.0), (3676, 0.0), (3679, 0.0), (3680, 0.0), (3686, 0.0), (3687, 0.0), (3688, 0.0), (3692, 0.0), (3693, 0.0), (3694, 0.0), (3700, 0.0), (3702, 0.0), (3710, 0.0), (3713, 0.0), (3716, 0.0), (3719, 0.0), (3721, 0.0), (3723, 0.0), (3724, 0.0), (3726, 0.0), (3727, 0.0), (3729, 0.0), (3732, 0.0), (3733, 0.0), (3737, 0.0), (3738, 0.0), (3740, 0.0), (3742, 0.0), (3744, 0.0), (3749, 0.0), (3750, 0.0), (3753, 0.0), (3755, 0.0), (3756, 0.0), (3758, 0.0), (3760, 0.0), (3761, 0.0), (3762, 0.0), (3763, 0.0), (3764, 0.0), (3768, 0.0), (3770, 0.0), (3772, 0.0), (3773, 0.0), (3774, 0.0), (3775, 0.0), (3777, 0.0), (3779, 0.0), (3781, 0.0), (3784, 0.0), (3787, 0.0), (3790, 0.0), (3793, 0.0), (3795, 0.0), (3796, 0.0), (3798, 0.0), (3800, 0.0), (3804, 0.0), (3806, 0.0), (3807, 0.0), (3811, 0.0), (3816, 0.0), (3820, 0.0), (3824, 0.0), (3828, 0.0), (3831, 0.0), (3832, 0.0), (3836, 0.0), (3839, 0.0), (3840, 0.0), (3842, 0.0), (3844, 0.0), (3845, 0.0), (3848, 0.0), (3849, 0.0), (3850, 0.0), (3851, 0.0), (3853, 0.0), (3854, 0.0), (3859, 0.0), (3861, 0.0), (3862, 0.0), (3863, 0.0), (3867, 0.0), (3869, 0.0), (3870, 0.0), (3871, 0.0), (3872, 0.0), (3873, 0.0), (3874, 0.0), (3878, 0.0), (3879, 0.0), (3881, 0.0), (3882, 0.0), (3883, 0.0), (3884, 0.0), (3888, 0.0), (3895, 0.0), (3898, 0.0), (3899, 0.0), (3900, 0.0), (3901, 0.0), (3902, 0.0), (3904, 0.0), (3905, 0.0), (3908, 0.0), (3909, 0.0), (3911, 0.0), (3922, 0.0), (3925, 0.0), (3926, 0.0), (3928, 0.0), (3929, 0.0), (3930, 0.0), (3931, 0.0), (3932, 0.0), (3933, 0.0), (3934, 0.0), (3935, 0.0), (3936, 0.0), (3937, 0.0), (3938, 0.0), (3939, 0.0), (3941, 0.0), (3942, 0.0), (3943, 0.0), (3945, 0.0), (3947, 0.0), (3948, 0.0), (3949, 0.0), (3952, 0.0), (3953, 0.0), (3954, 0.0), (3959, 0.0), (3961, 0.0), (3962, 0.0), (3964, 0.0), (3965, 0.0), (3966, 0.0), (3968, 0.0), (3974, 0.0), (3975, 0.0), (3976, 0.0), (3978, 0.0), (3981, 0.0), (3982, 0.0), (3985, 0.0), (3987, 0.0), (3988, 0.0), (3990, 0.0), (3995, 0.0), (3996, 0.0), (3999, 0.0), (4004, 0.0), (4005, 0.0), (4006, 0.0), (4010, 0.0), (4011, 0.0), (4014, 0.0), (4017, 0.0), (4018, 0.0), (4020, 0.0), (4022, 0.0), (4024, 0.0), (4027, 0.0), (4029, 0.0), (4031, 0.0), (4034, 0.0), (4037, 0.0), (4038, 0.0), (4039, 0.0), (4040, 0.0), (4042, 0.0), (4043, 0.0), (4044, 0.0), (4045, 0.0), (4048, 0.0), (4050, 0.0), (4052, 0.0), (4053, 0.0), (4060, 0.0), (4066, 0.0), (4067, 0.0), (4075, 0.0), (4078, 0.0), (4079, 0.0), (4080, 0.0), (4083, 0.0), (4085, 0.0), (4086, 0.0), (4087, 0.0), (4088, 0.0), (4089, 0.0), (4091, 0.0), (4092, 0.0), (4093, 0.0), (4096, 0.0), (4097, 0.0), (4100, 0.0), (4101, 0.0), (4104, 0.0), (4107, 0.0), (4111, 0.0), (4113, 0.0), (4115, 0.0), (4116, 0.0), (4121, 0.0), (4123, 0.0), (4124, 0.0), (4128, 0.0), (4129, 0.0), (4130, 0.0), (4131, 0.0), (4139, 0.0), (4140, 0.0), (4142, 0.0), (4145, 0.0), (4147, 0.0), (4150, 0.0), (4151, 0.0), (4152, 0.0), (4153, 0.0), (4154, 0.0), (4159, 0.0), (4161, 0.0), (4163, 0.0), (4167, 0.0), (4168, 0.0), (4170, 0.0), (4175, 0.0), (4180, 0.0), (4181, 0.0), (4184, 0.0), (4185, 0.0), (4186, 0.0), (4187, 0.0), (4188, 0.0), (4195, 0.0), (4196, 0.0), (4197, 0.0), (4199, 0.0), (4200, 0.0), (4202, 0.0), (4204, 0.0), (4206, 0.0), (4207, 0.0), (4209, 0.0), (4211, 0.0), (4212, 0.0), (4216, 0.0), (4219, 0.0), (4221, 0.0), (4222, 0.0), (4223, 0.0), (4224, 0.0), (4227, 0.0), (4228, 0.0), (4229, 0.0), (4230, 0.0), (4231, 0.0), (4232, 0.0), (4235, 0.0), (4238, 0.0), (4244, 0.0), (4245, 0.0), (4246, 0.0), (4248, 0.0), (4249, 0.0), (4250, 0.0), (4251, 0.0), (4255, 0.0), (4256, 0.0), (4258, 0.0), (4259, 0.0), (4260, 0.0), (4261, 0.0), (4266, 0.0), (4274, 0.0), (4275, 0.0), (4278, 0.0), (4285, 0.0), (4286, 0.0), (4288, 0.0), (4291, 0.0), (4293, 0.0), (4294, 0.0), (4295, 0.0), (4296, 0.0), (4298, 0.0), (4299, 0.0), (4300, 0.0), (4301, 0.0), (4302, 0.0), (4305, 0.0), (4306, 0.0), (4307, 0.0), (4309, 0.0), (4311, 0.0), (4312, 0.0), (4315, 0.0), (4316, 0.0), (4317, 0.0), (4318, 0.0), (4319, 0.0), (4321, 0.0), (4322, 0.0), (4323, 0.0), (4327, 0.0), (4331, 0.0), (4333, 0.0), (4335, 0.0), (4336, 0.0), (4340, 0.0), (4346, 0.0), (4349, 0.0), (4352, 0.0), (4354, 0.0), (4355, 0.0), (4356, 0.0), (4357, 0.0), (4358, 0.0), (4360, 0.0), (4361, 0.0), (4362, 0.0), (4365, 0.0), (4367, 0.0), (4368, 0.0), (4370, 0.0), (4371, 0.0), (4372, 0.0), (4373, 0.0), (4377, 0.0), (4379, 0.0), (4380, 0.0), (4382, 0.0), (4384, 0.0), (4385, 0.0), (4386, 0.0), (4387, 0.0), (4390, 0.0), (4391, 0.0), (4393, 0.0), (4394, 0.0), (4398, 0.0), (4400, 0.0), (4401, 0.0), (4404, 0.0), (4408, 0.0), (4412, 0.0), (4413, 0.0), (4416, 0.0), (4417, 0.0), (4421, 0.0), (4422, 0.0), (4423, 0.0), (4424, 0.0), (4425, 0.0), (4426, 0.0), (4427, 0.0), (4428, 0.0), (4430, 0.0), (4432, 0.0), (4434, 0.0), (4435, 0.0), (4437, 0.0), (4440, 0.0), (4441, 0.0), (4444, 0.0), (4446, 0.0), (4447, 0.0), (4450, 0.0), (4453, 0.0), (4455, 0.0), (4458, 0.0), (4461, 0.0), (4462, 0.0), (4463, 0.0), (4464, 0.0), (4465, 0.0), (4466, 0.0), (4468, 0.0), (4469, 0.0), (4470, 0.0), (4474, 0.0), (4476, 0.0), (4478, 0.0), (4481, 0.0), (4483, 0.0), (4486, 0.0), (4487, 0.0), (4488, 0.0), (4489, 0.0), (4490, 0.0), (4491, 0.0), (4492, 0.0), (4493, 0.0), (4494, 0.0), (4495, 0.0), (4497, 0.0), (4499, 0.0), (4501, 0.0), (4503, 0.0), (4505, 0.0), (4506, 0.0), (4507, 0.0), (4508, 0.0), (4510, 0.0), (4511, 0.0), (4512, 0.0), (4513, 0.0), (4514, 0.0), (4517, 0.0), (4520, 0.0), (4521, 0.0), (4522, 0.0), (4525, 0.0), (4526, 0.0), (4528, 0.0), (4529, 0.0), (4530, 0.0), (4536, 0.0), (4537, 0.0), (4538, 0.0), (4539, 0.0), (4540, 0.0), (4542, 0.0), (4544, 0.0), (4545, 0.0), (4546, 0.0), (4547, 0.0), (4552, 0.0), (4555, 0.0), (4556, 0.0), (4557, 0.0), (4558, 0.0), (4559, 0.0), (4560, 0.0), (4561, 0.0), (4562, 0.0), (4571, 0.0), (4572, 0.0), (4574, 0.0), (4575, 0.0), (4577, 0.0), (4580, 0.0), (4581, 0.0), (4583, 0.0), (4584, 0.0), (4586, 0.0), (4587, 0.0), (4593, 0.0), (4597, 0.0), (4599, 0.0), (4601, 0.0), (4608, 0.0), (4611, 0.0), (4617, 0.0), (4618, 0.0), (4619, 0.0), (4620, 0.0), (4626, 0.0), (4628, 0.0), (4631, 0.0), (4632, 0.0), (4635, 0.0), (4637, 0.0), (4638, 0.0), (4640, 0.0), (4642, 0.0), (4644, 0.0), (4646, 0.0), (4649, 0.0), (4653, 0.0), (4654, 0.0), (4655, 0.0), (4656, 0.0), (4657, 0.0), (4659, 0.0), (4663, 0.0), (4667, 0.0), (4668, 0.0), (4669, 0.0), (4670, 0.0), (4671, 0.0), (4672, 0.0), (4673, 0.0), (4676, 0.0), (4678, 0.0), (4680, 0.0), (4681, 0.0), (4683, 0.0), (4684, 0.0), (4690, 0.0), (4691, 0.0), (4696, 0.0), (4697, 0.0), (4698, 0.0), (4699, 0.0), (4701, 0.0), (4702, 0.0), (4703, 0.0), (4704, 0.0), (4705, 0.0), (4708, 0.0), (4709, 0.0), (4710, 0.0), (4711, 0.0), (4712, 0.0), (4713, 0.0), (4714, 0.0), (4715, 0.0), (4716, 0.0), (4717, 0.0), (4718, 0.0), (4719, 0.0), (4722, 0.0), (4723, 0.0), (4724, 0.0), (4725, 0.0), (4729, 0.0), (4730, 0.0), (4731, 0.0), (4733, 0.0), (4737, 0.0), (4740, 0.0), (4744, 0.0), (4745, 0.0), (4750, 0.0), (4751, 0.0), (4753, 0.0), (4755, 0.0), (4757, 0.0), (4758, 0.0), (4759, 0.0)]\n"
          ]
        }
      ]
    },
    {
      "cell_type": "code",
      "source": [
        "print('Top 30 Movies :\\n')\n",
        "i=1\n",
        "for movie in Ssm:\n",
        "    index=movie[0]\n",
        "    tfi=df[df.index==index]['Movie_Title'].values[0]\n",
        "    if(i<31):\n",
        "      print(i,'.',tfi)\n",
        "      i+=1"
      ],
      "metadata": {
        "colab": {
          "base_uri": "https://localhost:8080/"
        },
        "id": "wqyFBCs_9Jf7",
        "outputId": "04f7a27d-9f58-4790-f7f9-8f965ae150d3"
      },
      "execution_count": 51,
      "outputs": [
        {
          "output_type": "stream",
          "name": "stdout",
          "text": [
            "Top 30 Movies :\n",
            "\n",
            "1 . Finding Nemo\n",
            "2 . John Carter\n",
            "3 . Flight of the Intruder\n",
            "4 . Ocean's Thirteen\n",
            "5 . The Outsiders\n",
            "6 . The Muse\n",
            "7 . Ocean's Eleven\n",
            "8 . American Dreamz\n",
            "9 . xXx: State of the Union\n",
            "10 . The English Patient\n",
            "11 . Ocean's Twelve\n",
            "12 . eXistenZ\n",
            "13 . Drive\n",
            "14 . Freaky Friday\n",
            "15 . One for the Money\n",
            "16 . El Mariachi\n",
            "17 . Mallrats\n",
            "18 . Manderlay\n",
            "19 . Critical Care\n",
            "20 . Adam Resurrected\n",
            "21 . Because of Winn-Dixie\n",
            "22 . Platoon\n",
            "23 . Men of War\n",
            "24 . Shadow of the Vampire\n",
            "25 . Central Station\n",
            "26 . Troy\n",
            "27 . Shooting Fish\n",
            "28 . The Life Aquatic with Steve Zissou\n",
            "29 . Paris, je t'aime\n",
            "30 . They Live\n"
          ]
        }
      ]
    }
  ]
}